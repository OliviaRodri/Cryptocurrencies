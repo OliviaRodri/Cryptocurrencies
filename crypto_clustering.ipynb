{
 "cells": [
  {
   "cell_type": "markdown",
   "metadata": {},
   "source": [
    "# Clustering Crypto"
   ]
  },
  {
   "cell_type": "code",
   "execution_count": 10,
   "metadata": {},
   "outputs": [],
   "source": [
    "# Initial imports\n",
    "import pandas as pd\n",
    "import hvplot.pandas\n",
    "from path import Path\n",
    "import plotly.express as px\n",
    "from sklearn.preprocessing import StandardScaler, MinMaxScaler\n",
    "from sklearn.decomposition import PCA\n",
    "from sklearn.cluster import KMeans\n",
    "import warnings\n"
   ]
  },
  {
   "cell_type": "code",
   "execution_count": 11,
   "metadata": {},
   "outputs": [],
   "source": [
    "warnings.filterwarnings('ignore')"
   ]
  },
  {
   "cell_type": "markdown",
   "metadata": {},
   "source": [
    "### Deliverable 1: Preprocessing the Data for PCA"
   ]
  },
  {
   "cell_type": "code",
   "execution_count": 12,
   "metadata": {
    "scrolled": false
   },
   "outputs": [
    {
     "data": {
      "text/html": [
       "<div>\n",
       "<style scoped>\n",
       "    .dataframe tbody tr th:only-of-type {\n",
       "        vertical-align: middle;\n",
       "    }\n",
       "\n",
       "    .dataframe tbody tr th {\n",
       "        vertical-align: top;\n",
       "    }\n",
       "\n",
       "    .dataframe thead th {\n",
       "        text-align: right;\n",
       "    }\n",
       "</style>\n",
       "<table border=\"1\" class=\"dataframe\">\n",
       "  <thead>\n",
       "    <tr style=\"text-align: right;\">\n",
       "      <th></th>\n",
       "      <th>CoinName</th>\n",
       "      <th>Algorithm</th>\n",
       "      <th>IsTrading</th>\n",
       "      <th>ProofType</th>\n",
       "      <th>TotalCoinsMined</th>\n",
       "      <th>TotalCoinSupply</th>\n",
       "    </tr>\n",
       "    <tr>\n",
       "      <th></th>\n",
       "      <th></th>\n",
       "      <th></th>\n",
       "      <th></th>\n",
       "      <th></th>\n",
       "      <th></th>\n",
       "      <th></th>\n",
       "    </tr>\n",
       "  </thead>\n",
       "  <tbody>\n",
       "    <tr>\n",
       "      <th>42</th>\n",
       "      <td>42 Coin</td>\n",
       "      <td>Scrypt</td>\n",
       "      <td>True</td>\n",
       "      <td>PoW/PoS</td>\n",
       "      <td>4.199995e+01</td>\n",
       "      <td>42</td>\n",
       "    </tr>\n",
       "    <tr>\n",
       "      <th>365</th>\n",
       "      <td>365Coin</td>\n",
       "      <td>X11</td>\n",
       "      <td>True</td>\n",
       "      <td>PoW/PoS</td>\n",
       "      <td>NaN</td>\n",
       "      <td>2300000000</td>\n",
       "    </tr>\n",
       "    <tr>\n",
       "      <th>404</th>\n",
       "      <td>404Coin</td>\n",
       "      <td>Scrypt</td>\n",
       "      <td>True</td>\n",
       "      <td>PoW/PoS</td>\n",
       "      <td>1.055185e+09</td>\n",
       "      <td>532000000</td>\n",
       "    </tr>\n",
       "    <tr>\n",
       "      <th>611</th>\n",
       "      <td>SixEleven</td>\n",
       "      <td>SHA-256</td>\n",
       "      <td>True</td>\n",
       "      <td>PoW</td>\n",
       "      <td>NaN</td>\n",
       "      <td>611000</td>\n",
       "    </tr>\n",
       "    <tr>\n",
       "      <th>808</th>\n",
       "      <td>808</td>\n",
       "      <td>SHA-256</td>\n",
       "      <td>True</td>\n",
       "      <td>PoW/PoS</td>\n",
       "      <td>0.000000e+00</td>\n",
       "      <td>0</td>\n",
       "    </tr>\n",
       "    <tr>\n",
       "      <th>1337</th>\n",
       "      <td>EliteCoin</td>\n",
       "      <td>X13</td>\n",
       "      <td>True</td>\n",
       "      <td>PoW/PoS</td>\n",
       "      <td>2.927942e+10</td>\n",
       "      <td>314159265359</td>\n",
       "    </tr>\n",
       "    <tr>\n",
       "      <th>2015</th>\n",
       "      <td>2015 coin</td>\n",
       "      <td>X11</td>\n",
       "      <td>True</td>\n",
       "      <td>PoW/PoS</td>\n",
       "      <td>NaN</td>\n",
       "      <td>0</td>\n",
       "    </tr>\n",
       "    <tr>\n",
       "      <th>BTC</th>\n",
       "      <td>Bitcoin</td>\n",
       "      <td>SHA-256</td>\n",
       "      <td>True</td>\n",
       "      <td>PoW</td>\n",
       "      <td>1.792718e+07</td>\n",
       "      <td>21000000</td>\n",
       "    </tr>\n",
       "    <tr>\n",
       "      <th>ETH</th>\n",
       "      <td>Ethereum</td>\n",
       "      <td>Ethash</td>\n",
       "      <td>True</td>\n",
       "      <td>PoW</td>\n",
       "      <td>1.076842e+08</td>\n",
       "      <td>0</td>\n",
       "    </tr>\n",
       "    <tr>\n",
       "      <th>LTC</th>\n",
       "      <td>Litecoin</td>\n",
       "      <td>Scrypt</td>\n",
       "      <td>True</td>\n",
       "      <td>PoW</td>\n",
       "      <td>6.303924e+07</td>\n",
       "      <td>84000000</td>\n",
       "    </tr>\n",
       "  </tbody>\n",
       "</table>\n",
       "</div>"
      ],
      "text/plain": [
       "       CoinName Algorithm  IsTrading ProofType  TotalCoinsMined  \\\n",
       "                                                                  \n",
       "42      42 Coin    Scrypt       True   PoW/PoS     4.199995e+01   \n",
       "365     365Coin       X11       True   PoW/PoS              NaN   \n",
       "404     404Coin    Scrypt       True   PoW/PoS     1.055185e+09   \n",
       "611   SixEleven   SHA-256       True       PoW              NaN   \n",
       "808         808   SHA-256       True   PoW/PoS     0.000000e+00   \n",
       "1337  EliteCoin       X13       True   PoW/PoS     2.927942e+10   \n",
       "2015  2015 coin       X11       True   PoW/PoS              NaN   \n",
       "BTC     Bitcoin   SHA-256       True       PoW     1.792718e+07   \n",
       "ETH    Ethereum    Ethash       True       PoW     1.076842e+08   \n",
       "LTC    Litecoin    Scrypt       True       PoW     6.303924e+07   \n",
       "\n",
       "     TotalCoinSupply  \n",
       "                      \n",
       "42                42  \n",
       "365       2300000000  \n",
       "404        532000000  \n",
       "611           611000  \n",
       "808                0  \n",
       "1337    314159265359  \n",
       "2015               0  \n",
       "BTC         21000000  \n",
       "ETH                0  \n",
       "LTC         84000000  "
      ]
     },
     "execution_count": 12,
     "metadata": {},
     "output_type": "execute_result"
    }
   ],
   "source": [
    "# Load the crypto_data.csv dataset.\n",
    "# YOUR CODE HERE\n",
    "file_path = \"crypto_data.csv\"\n",
    "crypto_df= pd.read_csv(file_path)\n",
    "crypto_df= crypto_df.set_index('Unnamed: 0')\n",
    "crypto_df.index.name = \"\" \n",
    "crypto_df.head(10)"
   ]
  },
  {
   "cell_type": "code",
   "execution_count": 13,
   "metadata": {
    "scrolled": false
   },
   "outputs": [
    {
     "name": "stdout",
     "output_type": "stream",
     "text": [
      "(1144, 6)\n"
     ]
    },
    {
     "data": {
      "text/html": [
       "<div>\n",
       "<style scoped>\n",
       "    .dataframe tbody tr th:only-of-type {\n",
       "        vertical-align: middle;\n",
       "    }\n",
       "\n",
       "    .dataframe tbody tr th {\n",
       "        vertical-align: top;\n",
       "    }\n",
       "\n",
       "    .dataframe thead th {\n",
       "        text-align: right;\n",
       "    }\n",
       "</style>\n",
       "<table border=\"1\" class=\"dataframe\">\n",
       "  <thead>\n",
       "    <tr style=\"text-align: right;\">\n",
       "      <th></th>\n",
       "      <th>CoinName</th>\n",
       "      <th>Algorithm</th>\n",
       "      <th>IsTrading</th>\n",
       "      <th>ProofType</th>\n",
       "      <th>TotalCoinsMined</th>\n",
       "      <th>TotalCoinSupply</th>\n",
       "    </tr>\n",
       "    <tr>\n",
       "      <th></th>\n",
       "      <th></th>\n",
       "      <th></th>\n",
       "      <th></th>\n",
       "      <th></th>\n",
       "      <th></th>\n",
       "      <th></th>\n",
       "    </tr>\n",
       "  </thead>\n",
       "  <tbody>\n",
       "    <tr>\n",
       "      <th>42</th>\n",
       "      <td>42 Coin</td>\n",
       "      <td>Scrypt</td>\n",
       "      <td>True</td>\n",
       "      <td>PoW/PoS</td>\n",
       "      <td>4.199995e+01</td>\n",
       "      <td>42</td>\n",
       "    </tr>\n",
       "    <tr>\n",
       "      <th>365</th>\n",
       "      <td>365Coin</td>\n",
       "      <td>X11</td>\n",
       "      <td>True</td>\n",
       "      <td>PoW/PoS</td>\n",
       "      <td>NaN</td>\n",
       "      <td>2300000000</td>\n",
       "    </tr>\n",
       "    <tr>\n",
       "      <th>404</th>\n",
       "      <td>404Coin</td>\n",
       "      <td>Scrypt</td>\n",
       "      <td>True</td>\n",
       "      <td>PoW/PoS</td>\n",
       "      <td>1.055185e+09</td>\n",
       "      <td>532000000</td>\n",
       "    </tr>\n",
       "    <tr>\n",
       "      <th>611</th>\n",
       "      <td>SixEleven</td>\n",
       "      <td>SHA-256</td>\n",
       "      <td>True</td>\n",
       "      <td>PoW</td>\n",
       "      <td>NaN</td>\n",
       "      <td>611000</td>\n",
       "    </tr>\n",
       "    <tr>\n",
       "      <th>808</th>\n",
       "      <td>808</td>\n",
       "      <td>SHA-256</td>\n",
       "      <td>True</td>\n",
       "      <td>PoW/PoS</td>\n",
       "      <td>0.000000e+00</td>\n",
       "      <td>0</td>\n",
       "    </tr>\n",
       "    <tr>\n",
       "      <th>1337</th>\n",
       "      <td>EliteCoin</td>\n",
       "      <td>X13</td>\n",
       "      <td>True</td>\n",
       "      <td>PoW/PoS</td>\n",
       "      <td>2.927942e+10</td>\n",
       "      <td>314159265359</td>\n",
       "    </tr>\n",
       "    <tr>\n",
       "      <th>2015</th>\n",
       "      <td>2015 coin</td>\n",
       "      <td>X11</td>\n",
       "      <td>True</td>\n",
       "      <td>PoW/PoS</td>\n",
       "      <td>NaN</td>\n",
       "      <td>0</td>\n",
       "    </tr>\n",
       "    <tr>\n",
       "      <th>BTC</th>\n",
       "      <td>Bitcoin</td>\n",
       "      <td>SHA-256</td>\n",
       "      <td>True</td>\n",
       "      <td>PoW</td>\n",
       "      <td>1.792718e+07</td>\n",
       "      <td>21000000</td>\n",
       "    </tr>\n",
       "    <tr>\n",
       "      <th>ETH</th>\n",
       "      <td>Ethereum</td>\n",
       "      <td>Ethash</td>\n",
       "      <td>True</td>\n",
       "      <td>PoW</td>\n",
       "      <td>1.076842e+08</td>\n",
       "      <td>0</td>\n",
       "    </tr>\n",
       "    <tr>\n",
       "      <th>LTC</th>\n",
       "      <td>Litecoin</td>\n",
       "      <td>Scrypt</td>\n",
       "      <td>True</td>\n",
       "      <td>PoW</td>\n",
       "      <td>6.303924e+07</td>\n",
       "      <td>84000000</td>\n",
       "    </tr>\n",
       "  </tbody>\n",
       "</table>\n",
       "</div>"
      ],
      "text/plain": [
       "       CoinName Algorithm  IsTrading ProofType  TotalCoinsMined  \\\n",
       "                                                                  \n",
       "42      42 Coin    Scrypt       True   PoW/PoS     4.199995e+01   \n",
       "365     365Coin       X11       True   PoW/PoS              NaN   \n",
       "404     404Coin    Scrypt       True   PoW/PoS     1.055185e+09   \n",
       "611   SixEleven   SHA-256       True       PoW              NaN   \n",
       "808         808   SHA-256       True   PoW/PoS     0.000000e+00   \n",
       "1337  EliteCoin       X13       True   PoW/PoS     2.927942e+10   \n",
       "2015  2015 coin       X11       True   PoW/PoS              NaN   \n",
       "BTC     Bitcoin   SHA-256       True       PoW     1.792718e+07   \n",
       "ETH    Ethereum    Ethash       True       PoW     1.076842e+08   \n",
       "LTC    Litecoin    Scrypt       True       PoW     6.303924e+07   \n",
       "\n",
       "     TotalCoinSupply  \n",
       "                      \n",
       "42                42  \n",
       "365       2300000000  \n",
       "404        532000000  \n",
       "611           611000  \n",
       "808                0  \n",
       "1337    314159265359  \n",
       "2015               0  \n",
       "BTC         21000000  \n",
       "ETH                0  \n",
       "LTC         84000000  "
      ]
     },
     "execution_count": 13,
     "metadata": {},
     "output_type": "execute_result"
    }
   ],
   "source": [
    "# Keep all the cryptocurrencies that are being traded.\n",
    "# YOUR CODE HERE\n",
    "new_crypto_df= crypto_df.loc[crypto_df['IsTrading']==True]\n",
    "print(new_crypto_df.shape)\n",
    "new_crypto_df.head(10)"
   ]
  },
  {
   "cell_type": "code",
   "execution_count": 14,
   "metadata": {},
   "outputs": [
    {
     "name": "stdout",
     "output_type": "stream",
     "text": [
      "Column CoinName has 0 null values\n",
      "Column Algorithm has 0 null values\n",
      "Column IsTrading has 0 null values\n",
      "Column ProofType has 0 null values\n",
      "Column TotalCoinsMined has 459 null values\n",
      "Column TotalCoinSupply has 0 null values\n"
     ]
    }
   ],
   "source": [
    "for column in new_crypto_df.columns:\n",
    "    print(f\"Column {column} has {new_crypto_df[column].isnull().sum()} null values\")"
   ]
  },
  {
   "cell_type": "code",
   "execution_count": 15,
   "metadata": {
    "scrolled": true
   },
   "outputs": [
    {
     "data": {
      "text/plain": [
       "\n",
       "42           Scrypt\n",
       "365             X11\n",
       "404          Scrypt\n",
       "611         SHA-256\n",
       "808         SHA-256\n",
       "           ...     \n",
       "SERO         Ethash\n",
       "UOS         SHA-256\n",
       "BDX     CryptoNight\n",
       "ZEN        Equihash\n",
       "XBC          Scrypt\n",
       "Name: Algorithm, Length: 1144, dtype: object"
      ]
     },
     "execution_count": 15,
     "metadata": {},
     "output_type": "execute_result"
    }
   ],
   "source": [
    "new_crypto_df['Algorithm'].dropna()"
   ]
  },
  {
   "cell_type": "code",
   "execution_count": 4,
   "metadata": {
    "scrolled": true
   },
   "outputs": [
    {
     "name": "stdout",
     "output_type": "stream",
     "text": [
      "(1144, 6)\n"
     ]
    },
    {
     "data": {
      "text/html": [
       "<div>\n",
       "<style scoped>\n",
       "    .dataframe tbody tr th:only-of-type {\n",
       "        vertical-align: middle;\n",
       "    }\n",
       "\n",
       "    .dataframe tbody tr th {\n",
       "        vertical-align: top;\n",
       "    }\n",
       "\n",
       "    .dataframe thead th {\n",
       "        text-align: right;\n",
       "    }\n",
       "</style>\n",
       "<table border=\"1\" class=\"dataframe\">\n",
       "  <thead>\n",
       "    <tr style=\"text-align: right;\">\n",
       "      <th></th>\n",
       "      <th>CoinName</th>\n",
       "      <th>Algorithm</th>\n",
       "      <th>IsTrading</th>\n",
       "      <th>ProofType</th>\n",
       "      <th>TotalCoinsMined</th>\n",
       "      <th>TotalCoinSupply</th>\n",
       "    </tr>\n",
       "  </thead>\n",
       "  <tbody>\n",
       "    <tr>\n",
       "      <th>42</th>\n",
       "      <td>42 Coin</td>\n",
       "      <td>Scrypt</td>\n",
       "      <td>True</td>\n",
       "      <td>PoW/PoS</td>\n",
       "      <td>4.199995e+01</td>\n",
       "      <td>42</td>\n",
       "    </tr>\n",
       "    <tr>\n",
       "      <th>365</th>\n",
       "      <td>365Coin</td>\n",
       "      <td>X11</td>\n",
       "      <td>True</td>\n",
       "      <td>PoW/PoS</td>\n",
       "      <td>NaN</td>\n",
       "      <td>2300000000</td>\n",
       "    </tr>\n",
       "    <tr>\n",
       "      <th>404</th>\n",
       "      <td>404Coin</td>\n",
       "      <td>Scrypt</td>\n",
       "      <td>True</td>\n",
       "      <td>PoW/PoS</td>\n",
       "      <td>1.055185e+09</td>\n",
       "      <td>532000000</td>\n",
       "    </tr>\n",
       "    <tr>\n",
       "      <th>611</th>\n",
       "      <td>SixEleven</td>\n",
       "      <td>SHA-256</td>\n",
       "      <td>True</td>\n",
       "      <td>PoW</td>\n",
       "      <td>NaN</td>\n",
       "      <td>611000</td>\n",
       "    </tr>\n",
       "    <tr>\n",
       "      <th>808</th>\n",
       "      <td>808</td>\n",
       "      <td>SHA-256</td>\n",
       "      <td>True</td>\n",
       "      <td>PoW/PoS</td>\n",
       "      <td>0.000000e+00</td>\n",
       "      <td>0</td>\n",
       "    </tr>\n",
       "    <tr>\n",
       "      <th>1337</th>\n",
       "      <td>EliteCoin</td>\n",
       "      <td>X13</td>\n",
       "      <td>True</td>\n",
       "      <td>PoW/PoS</td>\n",
       "      <td>2.927942e+10</td>\n",
       "      <td>314159265359</td>\n",
       "    </tr>\n",
       "    <tr>\n",
       "      <th>2015</th>\n",
       "      <td>2015 coin</td>\n",
       "      <td>X11</td>\n",
       "      <td>True</td>\n",
       "      <td>PoW/PoS</td>\n",
       "      <td>NaN</td>\n",
       "      <td>0</td>\n",
       "    </tr>\n",
       "    <tr>\n",
       "      <th>BTC</th>\n",
       "      <td>Bitcoin</td>\n",
       "      <td>SHA-256</td>\n",
       "      <td>True</td>\n",
       "      <td>PoW</td>\n",
       "      <td>1.792718e+07</td>\n",
       "      <td>21000000</td>\n",
       "    </tr>\n",
       "    <tr>\n",
       "      <th>ETH</th>\n",
       "      <td>Ethereum</td>\n",
       "      <td>Ethash</td>\n",
       "      <td>True</td>\n",
       "      <td>PoW</td>\n",
       "      <td>1.076842e+08</td>\n",
       "      <td>0</td>\n",
       "    </tr>\n",
       "    <tr>\n",
       "      <th>LTC</th>\n",
       "      <td>Litecoin</td>\n",
       "      <td>Scrypt</td>\n",
       "      <td>True</td>\n",
       "      <td>PoW</td>\n",
       "      <td>6.303924e+07</td>\n",
       "      <td>84000000</td>\n",
       "    </tr>\n",
       "  </tbody>\n",
       "</table>\n",
       "</div>"
      ],
      "text/plain": [
       "       CoinName Algorithm  IsTrading ProofType  TotalCoinsMined  \\\n",
       "42      42 Coin    Scrypt       True   PoW/PoS     4.199995e+01   \n",
       "365     365Coin       X11       True   PoW/PoS              NaN   \n",
       "404     404Coin    Scrypt       True   PoW/PoS     1.055185e+09   \n",
       "611   SixEleven   SHA-256       True       PoW              NaN   \n",
       "808         808   SHA-256       True   PoW/PoS     0.000000e+00   \n",
       "1337  EliteCoin       X13       True   PoW/PoS     2.927942e+10   \n",
       "2015  2015 coin       X11       True   PoW/PoS              NaN   \n",
       "BTC     Bitcoin   SHA-256       True       PoW     1.792718e+07   \n",
       "ETH    Ethereum    Ethash       True       PoW     1.076842e+08   \n",
       "LTC    Litecoin    Scrypt       True       PoW     6.303924e+07   \n",
       "\n",
       "     TotalCoinSupply  \n",
       "42                42  \n",
       "365       2300000000  \n",
       "404        532000000  \n",
       "611           611000  \n",
       "808                0  \n",
       "1337    314159265359  \n",
       "2015               0  \n",
       "BTC         21000000  \n",
       "ETH                0  \n",
       "LTC         84000000  "
      ]
     },
     "execution_count": 4,
     "metadata": {},
     "output_type": "execute_result"
    }
   ],
   "source": [
    "# Keep all the cryptocurrencies that have a working algorithm.\n",
    "# YOUR CODE HERE"
   ]
  },
  {
   "cell_type": "code",
   "execution_count": 16,
   "metadata": {},
   "outputs": [],
   "source": [
    "new_crypto_df.drop(columns=[\"IsTrading\"], inplace=True)\n"
   ]
  },
  {
   "cell_type": "code",
   "execution_count": 17,
   "metadata": {},
   "outputs": [
    {
     "data": {
      "text/html": [
       "<div>\n",
       "<style scoped>\n",
       "    .dataframe tbody tr th:only-of-type {\n",
       "        vertical-align: middle;\n",
       "    }\n",
       "\n",
       "    .dataframe tbody tr th {\n",
       "        vertical-align: top;\n",
       "    }\n",
       "\n",
       "    .dataframe thead th {\n",
       "        text-align: right;\n",
       "    }\n",
       "</style>\n",
       "<table border=\"1\" class=\"dataframe\">\n",
       "  <thead>\n",
       "    <tr style=\"text-align: right;\">\n",
       "      <th></th>\n",
       "      <th>CoinName</th>\n",
       "      <th>Algorithm</th>\n",
       "      <th>ProofType</th>\n",
       "      <th>TotalCoinsMined</th>\n",
       "      <th>TotalCoinSupply</th>\n",
       "    </tr>\n",
       "    <tr>\n",
       "      <th></th>\n",
       "      <th></th>\n",
       "      <th></th>\n",
       "      <th></th>\n",
       "      <th></th>\n",
       "      <th></th>\n",
       "    </tr>\n",
       "  </thead>\n",
       "  <tbody>\n",
       "    <tr>\n",
       "      <th>42</th>\n",
       "      <td>42 Coin</td>\n",
       "      <td>Scrypt</td>\n",
       "      <td>PoW/PoS</td>\n",
       "      <td>4.199995e+01</td>\n",
       "      <td>42</td>\n",
       "    </tr>\n",
       "    <tr>\n",
       "      <th>365</th>\n",
       "      <td>365Coin</td>\n",
       "      <td>X11</td>\n",
       "      <td>PoW/PoS</td>\n",
       "      <td>NaN</td>\n",
       "      <td>2300000000</td>\n",
       "    </tr>\n",
       "    <tr>\n",
       "      <th>404</th>\n",
       "      <td>404Coin</td>\n",
       "      <td>Scrypt</td>\n",
       "      <td>PoW/PoS</td>\n",
       "      <td>1.055185e+09</td>\n",
       "      <td>532000000</td>\n",
       "    </tr>\n",
       "    <tr>\n",
       "      <th>611</th>\n",
       "      <td>SixEleven</td>\n",
       "      <td>SHA-256</td>\n",
       "      <td>PoW</td>\n",
       "      <td>NaN</td>\n",
       "      <td>611000</td>\n",
       "    </tr>\n",
       "    <tr>\n",
       "      <th>808</th>\n",
       "      <td>808</td>\n",
       "      <td>SHA-256</td>\n",
       "      <td>PoW/PoS</td>\n",
       "      <td>0.000000e+00</td>\n",
       "      <td>0</td>\n",
       "    </tr>\n",
       "    <tr>\n",
       "      <th>1337</th>\n",
       "      <td>EliteCoin</td>\n",
       "      <td>X13</td>\n",
       "      <td>PoW/PoS</td>\n",
       "      <td>2.927942e+10</td>\n",
       "      <td>314159265359</td>\n",
       "    </tr>\n",
       "    <tr>\n",
       "      <th>2015</th>\n",
       "      <td>2015 coin</td>\n",
       "      <td>X11</td>\n",
       "      <td>PoW/PoS</td>\n",
       "      <td>NaN</td>\n",
       "      <td>0</td>\n",
       "    </tr>\n",
       "    <tr>\n",
       "      <th>BTC</th>\n",
       "      <td>Bitcoin</td>\n",
       "      <td>SHA-256</td>\n",
       "      <td>PoW</td>\n",
       "      <td>1.792718e+07</td>\n",
       "      <td>21000000</td>\n",
       "    </tr>\n",
       "    <tr>\n",
       "      <th>ETH</th>\n",
       "      <td>Ethereum</td>\n",
       "      <td>Ethash</td>\n",
       "      <td>PoW</td>\n",
       "      <td>1.076842e+08</td>\n",
       "      <td>0</td>\n",
       "    </tr>\n",
       "    <tr>\n",
       "      <th>LTC</th>\n",
       "      <td>Litecoin</td>\n",
       "      <td>Scrypt</td>\n",
       "      <td>PoW</td>\n",
       "      <td>6.303924e+07</td>\n",
       "      <td>84000000</td>\n",
       "    </tr>\n",
       "  </tbody>\n",
       "</table>\n",
       "</div>"
      ],
      "text/plain": [
       "       CoinName Algorithm ProofType  TotalCoinsMined TotalCoinSupply\n",
       "                                                                    \n",
       "42      42 Coin    Scrypt   PoW/PoS     4.199995e+01              42\n",
       "365     365Coin       X11   PoW/PoS              NaN      2300000000\n",
       "404     404Coin    Scrypt   PoW/PoS     1.055185e+09       532000000\n",
       "611   SixEleven   SHA-256       PoW              NaN          611000\n",
       "808         808   SHA-256   PoW/PoS     0.000000e+00               0\n",
       "1337  EliteCoin       X13   PoW/PoS     2.927942e+10    314159265359\n",
       "2015  2015 coin       X11   PoW/PoS              NaN               0\n",
       "BTC     Bitcoin   SHA-256       PoW     1.792718e+07        21000000\n",
       "ETH    Ethereum    Ethash       PoW     1.076842e+08               0\n",
       "LTC    Litecoin    Scrypt       PoW     6.303924e+07        84000000"
      ]
     },
     "execution_count": 17,
     "metadata": {},
     "output_type": "execute_result"
    }
   ],
   "source": [
    "new_crypto_df.head(10)"
   ]
  },
  {
   "cell_type": "code",
   "execution_count": 5,
   "metadata": {
    "scrolled": false
   },
   "outputs": [
    {
     "name": "stdout",
     "output_type": "stream",
     "text": [
      "(1144, 5)\n"
     ]
    },
    {
     "data": {
      "text/html": [
       "<div>\n",
       "<style scoped>\n",
       "    .dataframe tbody tr th:only-of-type {\n",
       "        vertical-align: middle;\n",
       "    }\n",
       "\n",
       "    .dataframe tbody tr th {\n",
       "        vertical-align: top;\n",
       "    }\n",
       "\n",
       "    .dataframe thead th {\n",
       "        text-align: right;\n",
       "    }\n",
       "</style>\n",
       "<table border=\"1\" class=\"dataframe\">\n",
       "  <thead>\n",
       "    <tr style=\"text-align: right;\">\n",
       "      <th></th>\n",
       "      <th>CoinName</th>\n",
       "      <th>Algorithm</th>\n",
       "      <th>ProofType</th>\n",
       "      <th>TotalCoinsMined</th>\n",
       "      <th>TotalCoinSupply</th>\n",
       "    </tr>\n",
       "  </thead>\n",
       "  <tbody>\n",
       "    <tr>\n",
       "      <th>42</th>\n",
       "      <td>42 Coin</td>\n",
       "      <td>Scrypt</td>\n",
       "      <td>PoW/PoS</td>\n",
       "      <td>4.199995e+01</td>\n",
       "      <td>42</td>\n",
       "    </tr>\n",
       "    <tr>\n",
       "      <th>365</th>\n",
       "      <td>365Coin</td>\n",
       "      <td>X11</td>\n",
       "      <td>PoW/PoS</td>\n",
       "      <td>NaN</td>\n",
       "      <td>2300000000</td>\n",
       "    </tr>\n",
       "    <tr>\n",
       "      <th>404</th>\n",
       "      <td>404Coin</td>\n",
       "      <td>Scrypt</td>\n",
       "      <td>PoW/PoS</td>\n",
       "      <td>1.055185e+09</td>\n",
       "      <td>532000000</td>\n",
       "    </tr>\n",
       "    <tr>\n",
       "      <th>611</th>\n",
       "      <td>SixEleven</td>\n",
       "      <td>SHA-256</td>\n",
       "      <td>PoW</td>\n",
       "      <td>NaN</td>\n",
       "      <td>611000</td>\n",
       "    </tr>\n",
       "    <tr>\n",
       "      <th>808</th>\n",
       "      <td>808</td>\n",
       "      <td>SHA-256</td>\n",
       "      <td>PoW/PoS</td>\n",
       "      <td>0.000000e+00</td>\n",
       "      <td>0</td>\n",
       "    </tr>\n",
       "    <tr>\n",
       "      <th>1337</th>\n",
       "      <td>EliteCoin</td>\n",
       "      <td>X13</td>\n",
       "      <td>PoW/PoS</td>\n",
       "      <td>2.927942e+10</td>\n",
       "      <td>314159265359</td>\n",
       "    </tr>\n",
       "    <tr>\n",
       "      <th>2015</th>\n",
       "      <td>2015 coin</td>\n",
       "      <td>X11</td>\n",
       "      <td>PoW/PoS</td>\n",
       "      <td>NaN</td>\n",
       "      <td>0</td>\n",
       "    </tr>\n",
       "    <tr>\n",
       "      <th>BTC</th>\n",
       "      <td>Bitcoin</td>\n",
       "      <td>SHA-256</td>\n",
       "      <td>PoW</td>\n",
       "      <td>1.792718e+07</td>\n",
       "      <td>21000000</td>\n",
       "    </tr>\n",
       "    <tr>\n",
       "      <th>ETH</th>\n",
       "      <td>Ethereum</td>\n",
       "      <td>Ethash</td>\n",
       "      <td>PoW</td>\n",
       "      <td>1.076842e+08</td>\n",
       "      <td>0</td>\n",
       "    </tr>\n",
       "    <tr>\n",
       "      <th>LTC</th>\n",
       "      <td>Litecoin</td>\n",
       "      <td>Scrypt</td>\n",
       "      <td>PoW</td>\n",
       "      <td>6.303924e+07</td>\n",
       "      <td>84000000</td>\n",
       "    </tr>\n",
       "  </tbody>\n",
       "</table>\n",
       "</div>"
      ],
      "text/plain": [
       "       CoinName Algorithm ProofType  TotalCoinsMined TotalCoinSupply\n",
       "42      42 Coin    Scrypt   PoW/PoS     4.199995e+01              42\n",
       "365     365Coin       X11   PoW/PoS              NaN      2300000000\n",
       "404     404Coin    Scrypt   PoW/PoS     1.055185e+09       532000000\n",
       "611   SixEleven   SHA-256       PoW              NaN          611000\n",
       "808         808   SHA-256   PoW/PoS     0.000000e+00               0\n",
       "1337  EliteCoin       X13   PoW/PoS     2.927942e+10    314159265359\n",
       "2015  2015 coin       X11   PoW/PoS              NaN               0\n",
       "BTC     Bitcoin   SHA-256       PoW     1.792718e+07        21000000\n",
       "ETH    Ethereum    Ethash       PoW     1.076842e+08               0\n",
       "LTC    Litecoin    Scrypt       PoW     6.303924e+07        84000000"
      ]
     },
     "execution_count": 5,
     "metadata": {},
     "output_type": "execute_result"
    }
   ],
   "source": [
    "# Remove the \"IsTrading\" column. \n",
    "# YOUR CODE HERE"
   ]
  },
  {
   "cell_type": "code",
   "execution_count": 18,
   "metadata": {},
   "outputs": [
    {
     "data": {
      "text/plain": [
       "(685, 5)"
      ]
     },
     "execution_count": 18,
     "metadata": {},
     "output_type": "execute_result"
    }
   ],
   "source": [
    "new_crypto_df = new_crypto_df.dropna()\n",
    "new_crypto_df.shape"
   ]
  },
  {
   "cell_type": "code",
   "execution_count": 6,
   "metadata": {
    "scrolled": true
   },
   "outputs": [
    {
     "name": "stdout",
     "output_type": "stream",
     "text": [
      "(685, 5)\n"
     ]
    },
    {
     "data": {
      "text/html": [
       "<div>\n",
       "<style scoped>\n",
       "    .dataframe tbody tr th:only-of-type {\n",
       "        vertical-align: middle;\n",
       "    }\n",
       "\n",
       "    .dataframe tbody tr th {\n",
       "        vertical-align: top;\n",
       "    }\n",
       "\n",
       "    .dataframe thead th {\n",
       "        text-align: right;\n",
       "    }\n",
       "</style>\n",
       "<table border=\"1\" class=\"dataframe\">\n",
       "  <thead>\n",
       "    <tr style=\"text-align: right;\">\n",
       "      <th></th>\n",
       "      <th>CoinName</th>\n",
       "      <th>Algorithm</th>\n",
       "      <th>ProofType</th>\n",
       "      <th>TotalCoinsMined</th>\n",
       "      <th>TotalCoinSupply</th>\n",
       "    </tr>\n",
       "  </thead>\n",
       "  <tbody>\n",
       "    <tr>\n",
       "      <th>42</th>\n",
       "      <td>42 Coin</td>\n",
       "      <td>Scrypt</td>\n",
       "      <td>PoW/PoS</td>\n",
       "      <td>4.199995e+01</td>\n",
       "      <td>42</td>\n",
       "    </tr>\n",
       "    <tr>\n",
       "      <th>404</th>\n",
       "      <td>404Coin</td>\n",
       "      <td>Scrypt</td>\n",
       "      <td>PoW/PoS</td>\n",
       "      <td>1.055185e+09</td>\n",
       "      <td>532000000</td>\n",
       "    </tr>\n",
       "    <tr>\n",
       "      <th>808</th>\n",
       "      <td>808</td>\n",
       "      <td>SHA-256</td>\n",
       "      <td>PoW/PoS</td>\n",
       "      <td>0.000000e+00</td>\n",
       "      <td>0</td>\n",
       "    </tr>\n",
       "    <tr>\n",
       "      <th>1337</th>\n",
       "      <td>EliteCoin</td>\n",
       "      <td>X13</td>\n",
       "      <td>PoW/PoS</td>\n",
       "      <td>2.927942e+10</td>\n",
       "      <td>314159265359</td>\n",
       "    </tr>\n",
       "    <tr>\n",
       "      <th>BTC</th>\n",
       "      <td>Bitcoin</td>\n",
       "      <td>SHA-256</td>\n",
       "      <td>PoW</td>\n",
       "      <td>1.792718e+07</td>\n",
       "      <td>21000000</td>\n",
       "    </tr>\n",
       "    <tr>\n",
       "      <th>ETH</th>\n",
       "      <td>Ethereum</td>\n",
       "      <td>Ethash</td>\n",
       "      <td>PoW</td>\n",
       "      <td>1.076842e+08</td>\n",
       "      <td>0</td>\n",
       "    </tr>\n",
       "    <tr>\n",
       "      <th>LTC</th>\n",
       "      <td>Litecoin</td>\n",
       "      <td>Scrypt</td>\n",
       "      <td>PoW</td>\n",
       "      <td>6.303924e+07</td>\n",
       "      <td>84000000</td>\n",
       "    </tr>\n",
       "    <tr>\n",
       "      <th>DASH</th>\n",
       "      <td>Dash</td>\n",
       "      <td>X11</td>\n",
       "      <td>PoW/PoS</td>\n",
       "      <td>9.031294e+06</td>\n",
       "      <td>22000000</td>\n",
       "    </tr>\n",
       "    <tr>\n",
       "      <th>XMR</th>\n",
       "      <td>Monero</td>\n",
       "      <td>CryptoNight-V7</td>\n",
       "      <td>PoW</td>\n",
       "      <td>1.720114e+07</td>\n",
       "      <td>0</td>\n",
       "    </tr>\n",
       "    <tr>\n",
       "      <th>ETC</th>\n",
       "      <td>Ethereum Classic</td>\n",
       "      <td>Ethash</td>\n",
       "      <td>PoW</td>\n",
       "      <td>1.133597e+08</td>\n",
       "      <td>210000000</td>\n",
       "    </tr>\n",
       "  </tbody>\n",
       "</table>\n",
       "</div>"
      ],
      "text/plain": [
       "              CoinName       Algorithm ProofType  TotalCoinsMined  \\\n",
       "42             42 Coin          Scrypt   PoW/PoS     4.199995e+01   \n",
       "404            404Coin          Scrypt   PoW/PoS     1.055185e+09   \n",
       "808                808         SHA-256   PoW/PoS     0.000000e+00   \n",
       "1337         EliteCoin             X13   PoW/PoS     2.927942e+10   \n",
       "BTC            Bitcoin         SHA-256       PoW     1.792718e+07   \n",
       "ETH           Ethereum          Ethash       PoW     1.076842e+08   \n",
       "LTC           Litecoin          Scrypt       PoW     6.303924e+07   \n",
       "DASH              Dash             X11   PoW/PoS     9.031294e+06   \n",
       "XMR             Monero  CryptoNight-V7       PoW     1.720114e+07   \n",
       "ETC   Ethereum Classic          Ethash       PoW     1.133597e+08   \n",
       "\n",
       "     TotalCoinSupply  \n",
       "42                42  \n",
       "404        532000000  \n",
       "808                0  \n",
       "1337    314159265359  \n",
       "BTC         21000000  \n",
       "ETH                0  \n",
       "LTC         84000000  \n",
       "DASH        22000000  \n",
       "XMR                0  \n",
       "ETC        210000000  "
      ]
     },
     "execution_count": 6,
     "metadata": {},
     "output_type": "execute_result"
    }
   ],
   "source": [
    "# Remove rows that have at least 1 null value.\n",
    "# YOUR CODE HERE"
   ]
  },
  {
   "cell_type": "code",
   "execution_count": 19,
   "metadata": {},
   "outputs": [
    {
     "name": "stdout",
     "output_type": "stream",
     "text": [
      "(532, 5)\n"
     ]
    },
    {
     "data": {
      "text/html": [
       "<div>\n",
       "<style scoped>\n",
       "    .dataframe tbody tr th:only-of-type {\n",
       "        vertical-align: middle;\n",
       "    }\n",
       "\n",
       "    .dataframe tbody tr th {\n",
       "        vertical-align: top;\n",
       "    }\n",
       "\n",
       "    .dataframe thead th {\n",
       "        text-align: right;\n",
       "    }\n",
       "</style>\n",
       "<table border=\"1\" class=\"dataframe\">\n",
       "  <thead>\n",
       "    <tr style=\"text-align: right;\">\n",
       "      <th></th>\n",
       "      <th>CoinName</th>\n",
       "      <th>Algorithm</th>\n",
       "      <th>ProofType</th>\n",
       "      <th>TotalCoinsMined</th>\n",
       "      <th>TotalCoinSupply</th>\n",
       "    </tr>\n",
       "    <tr>\n",
       "      <th></th>\n",
       "      <th></th>\n",
       "      <th></th>\n",
       "      <th></th>\n",
       "      <th></th>\n",
       "      <th></th>\n",
       "    </tr>\n",
       "  </thead>\n",
       "  <tbody>\n",
       "    <tr>\n",
       "      <th>42</th>\n",
       "      <td>42 Coin</td>\n",
       "      <td>Scrypt</td>\n",
       "      <td>PoW/PoS</td>\n",
       "      <td>4.199995e+01</td>\n",
       "      <td>42</td>\n",
       "    </tr>\n",
       "    <tr>\n",
       "      <th>404</th>\n",
       "      <td>404Coin</td>\n",
       "      <td>Scrypt</td>\n",
       "      <td>PoW/PoS</td>\n",
       "      <td>1.055185e+09</td>\n",
       "      <td>532000000</td>\n",
       "    </tr>\n",
       "    <tr>\n",
       "      <th>1337</th>\n",
       "      <td>EliteCoin</td>\n",
       "      <td>X13</td>\n",
       "      <td>PoW/PoS</td>\n",
       "      <td>2.927942e+10</td>\n",
       "      <td>314159265359</td>\n",
       "    </tr>\n",
       "    <tr>\n",
       "      <th>BTC</th>\n",
       "      <td>Bitcoin</td>\n",
       "      <td>SHA-256</td>\n",
       "      <td>PoW</td>\n",
       "      <td>1.792718e+07</td>\n",
       "      <td>21000000</td>\n",
       "    </tr>\n",
       "    <tr>\n",
       "      <th>ETH</th>\n",
       "      <td>Ethereum</td>\n",
       "      <td>Ethash</td>\n",
       "      <td>PoW</td>\n",
       "      <td>1.076842e+08</td>\n",
       "      <td>0</td>\n",
       "    </tr>\n",
       "    <tr>\n",
       "      <th>LTC</th>\n",
       "      <td>Litecoin</td>\n",
       "      <td>Scrypt</td>\n",
       "      <td>PoW</td>\n",
       "      <td>6.303924e+07</td>\n",
       "      <td>84000000</td>\n",
       "    </tr>\n",
       "    <tr>\n",
       "      <th>DASH</th>\n",
       "      <td>Dash</td>\n",
       "      <td>X11</td>\n",
       "      <td>PoW/PoS</td>\n",
       "      <td>9.031294e+06</td>\n",
       "      <td>22000000</td>\n",
       "    </tr>\n",
       "    <tr>\n",
       "      <th>XMR</th>\n",
       "      <td>Monero</td>\n",
       "      <td>CryptoNight-V7</td>\n",
       "      <td>PoW</td>\n",
       "      <td>1.720114e+07</td>\n",
       "      <td>0</td>\n",
       "    </tr>\n",
       "    <tr>\n",
       "      <th>ETC</th>\n",
       "      <td>Ethereum Classic</td>\n",
       "      <td>Ethash</td>\n",
       "      <td>PoW</td>\n",
       "      <td>1.133597e+08</td>\n",
       "      <td>210000000</td>\n",
       "    </tr>\n",
       "    <tr>\n",
       "      <th>ZEC</th>\n",
       "      <td>ZCash</td>\n",
       "      <td>Equihash</td>\n",
       "      <td>PoW</td>\n",
       "      <td>7.383056e+06</td>\n",
       "      <td>21000000</td>\n",
       "    </tr>\n",
       "  </tbody>\n",
       "</table>\n",
       "</div>"
      ],
      "text/plain": [
       "              CoinName       Algorithm ProofType  TotalCoinsMined  \\\n",
       "                                                                    \n",
       "42             42 Coin          Scrypt   PoW/PoS     4.199995e+01   \n",
       "404            404Coin          Scrypt   PoW/PoS     1.055185e+09   \n",
       "1337         EliteCoin             X13   PoW/PoS     2.927942e+10   \n",
       "BTC            Bitcoin         SHA-256       PoW     1.792718e+07   \n",
       "ETH           Ethereum          Ethash       PoW     1.076842e+08   \n",
       "LTC           Litecoin          Scrypt       PoW     6.303924e+07   \n",
       "DASH              Dash             X11   PoW/PoS     9.031294e+06   \n",
       "XMR             Monero  CryptoNight-V7       PoW     1.720114e+07   \n",
       "ETC   Ethereum Classic          Ethash       PoW     1.133597e+08   \n",
       "ZEC              ZCash        Equihash       PoW     7.383056e+06   \n",
       "\n",
       "     TotalCoinSupply  \n",
       "                      \n",
       "42                42  \n",
       "404        532000000  \n",
       "1337    314159265359  \n",
       "BTC         21000000  \n",
       "ETH                0  \n",
       "LTC         84000000  \n",
       "DASH        22000000  \n",
       "XMR                0  \n",
       "ETC        210000000  \n",
       "ZEC         21000000  "
      ]
     },
     "execution_count": 19,
     "metadata": {},
     "output_type": "execute_result"
    }
   ],
   "source": [
    "new_crypto_df_trading= new_crypto_df.loc[new_crypto_df['TotalCoinsMined']>0]\n",
    "print(new_crypto_df_trading.shape)\n",
    "new_crypto_df_trading.head(10)"
   ]
  },
  {
   "cell_type": "code",
   "execution_count": 7,
   "metadata": {
    "scrolled": true
   },
   "outputs": [
    {
     "name": "stdout",
     "output_type": "stream",
     "text": [
      "(532, 5)\n"
     ]
    },
    {
     "data": {
      "text/html": [
       "<div>\n",
       "<style scoped>\n",
       "    .dataframe tbody tr th:only-of-type {\n",
       "        vertical-align: middle;\n",
       "    }\n",
       "\n",
       "    .dataframe tbody tr th {\n",
       "        vertical-align: top;\n",
       "    }\n",
       "\n",
       "    .dataframe thead th {\n",
       "        text-align: right;\n",
       "    }\n",
       "</style>\n",
       "<table border=\"1\" class=\"dataframe\">\n",
       "  <thead>\n",
       "    <tr style=\"text-align: right;\">\n",
       "      <th></th>\n",
       "      <th>CoinName</th>\n",
       "      <th>Algorithm</th>\n",
       "      <th>ProofType</th>\n",
       "      <th>TotalCoinsMined</th>\n",
       "      <th>TotalCoinSupply</th>\n",
       "    </tr>\n",
       "  </thead>\n",
       "  <tbody>\n",
       "    <tr>\n",
       "      <th>42</th>\n",
       "      <td>42 Coin</td>\n",
       "      <td>Scrypt</td>\n",
       "      <td>PoW/PoS</td>\n",
       "      <td>4.199995e+01</td>\n",
       "      <td>42</td>\n",
       "    </tr>\n",
       "    <tr>\n",
       "      <th>404</th>\n",
       "      <td>404Coin</td>\n",
       "      <td>Scrypt</td>\n",
       "      <td>PoW/PoS</td>\n",
       "      <td>1.055185e+09</td>\n",
       "      <td>532000000</td>\n",
       "    </tr>\n",
       "    <tr>\n",
       "      <th>1337</th>\n",
       "      <td>EliteCoin</td>\n",
       "      <td>X13</td>\n",
       "      <td>PoW/PoS</td>\n",
       "      <td>2.927942e+10</td>\n",
       "      <td>314159265359</td>\n",
       "    </tr>\n",
       "    <tr>\n",
       "      <th>BTC</th>\n",
       "      <td>Bitcoin</td>\n",
       "      <td>SHA-256</td>\n",
       "      <td>PoW</td>\n",
       "      <td>1.792718e+07</td>\n",
       "      <td>21000000</td>\n",
       "    </tr>\n",
       "    <tr>\n",
       "      <th>ETH</th>\n",
       "      <td>Ethereum</td>\n",
       "      <td>Ethash</td>\n",
       "      <td>PoW</td>\n",
       "      <td>1.076842e+08</td>\n",
       "      <td>0</td>\n",
       "    </tr>\n",
       "    <tr>\n",
       "      <th>LTC</th>\n",
       "      <td>Litecoin</td>\n",
       "      <td>Scrypt</td>\n",
       "      <td>PoW</td>\n",
       "      <td>6.303924e+07</td>\n",
       "      <td>84000000</td>\n",
       "    </tr>\n",
       "    <tr>\n",
       "      <th>DASH</th>\n",
       "      <td>Dash</td>\n",
       "      <td>X11</td>\n",
       "      <td>PoW/PoS</td>\n",
       "      <td>9.031294e+06</td>\n",
       "      <td>22000000</td>\n",
       "    </tr>\n",
       "    <tr>\n",
       "      <th>XMR</th>\n",
       "      <td>Monero</td>\n",
       "      <td>CryptoNight-V7</td>\n",
       "      <td>PoW</td>\n",
       "      <td>1.720114e+07</td>\n",
       "      <td>0</td>\n",
       "    </tr>\n",
       "    <tr>\n",
       "      <th>ETC</th>\n",
       "      <td>Ethereum Classic</td>\n",
       "      <td>Ethash</td>\n",
       "      <td>PoW</td>\n",
       "      <td>1.133597e+08</td>\n",
       "      <td>210000000</td>\n",
       "    </tr>\n",
       "    <tr>\n",
       "      <th>ZEC</th>\n",
       "      <td>ZCash</td>\n",
       "      <td>Equihash</td>\n",
       "      <td>PoW</td>\n",
       "      <td>7.383056e+06</td>\n",
       "      <td>21000000</td>\n",
       "    </tr>\n",
       "  </tbody>\n",
       "</table>\n",
       "</div>"
      ],
      "text/plain": [
       "              CoinName       Algorithm ProofType  TotalCoinsMined  \\\n",
       "42             42 Coin          Scrypt   PoW/PoS     4.199995e+01   \n",
       "404            404Coin          Scrypt   PoW/PoS     1.055185e+09   \n",
       "1337         EliteCoin             X13   PoW/PoS     2.927942e+10   \n",
       "BTC            Bitcoin         SHA-256       PoW     1.792718e+07   \n",
       "ETH           Ethereum          Ethash       PoW     1.076842e+08   \n",
       "LTC           Litecoin          Scrypt       PoW     6.303924e+07   \n",
       "DASH              Dash             X11   PoW/PoS     9.031294e+06   \n",
       "XMR             Monero  CryptoNight-V7       PoW     1.720114e+07   \n",
       "ETC   Ethereum Classic          Ethash       PoW     1.133597e+08   \n",
       "ZEC              ZCash        Equihash       PoW     7.383056e+06   \n",
       "\n",
       "     TotalCoinSupply  \n",
       "42                42  \n",
       "404        532000000  \n",
       "1337    314159265359  \n",
       "BTC         21000000  \n",
       "ETH                0  \n",
       "LTC         84000000  \n",
       "DASH        22000000  \n",
       "XMR                0  \n",
       "ETC        210000000  \n",
       "ZEC         21000000  "
      ]
     },
     "execution_count": 7,
     "metadata": {},
     "output_type": "execute_result"
    }
   ],
   "source": [
    "# Keep the rows where coins are mined.\n",
    "# YOUR CODE HERE"
   ]
  },
  {
   "cell_type": "code",
   "execution_count": 20,
   "metadata": {},
   "outputs": [
    {
     "name": "stdout",
     "output_type": "stream",
     "text": [
      "(532, 1)\n"
     ]
    },
    {
     "data": {
      "text/html": [
       "<div>\n",
       "<style scoped>\n",
       "    .dataframe tbody tr th:only-of-type {\n",
       "        vertical-align: middle;\n",
       "    }\n",
       "\n",
       "    .dataframe tbody tr th {\n",
       "        vertical-align: top;\n",
       "    }\n",
       "\n",
       "    .dataframe thead th {\n",
       "        text-align: right;\n",
       "    }\n",
       "</style>\n",
       "<table border=\"1\" class=\"dataframe\">\n",
       "  <thead>\n",
       "    <tr style=\"text-align: right;\">\n",
       "      <th></th>\n",
       "      <th>CoinName</th>\n",
       "    </tr>\n",
       "    <tr>\n",
       "      <th></th>\n",
       "      <th></th>\n",
       "    </tr>\n",
       "  </thead>\n",
       "  <tbody>\n",
       "    <tr>\n",
       "      <th>42</th>\n",
       "      <td>42 Coin</td>\n",
       "    </tr>\n",
       "    <tr>\n",
       "      <th>404</th>\n",
       "      <td>404Coin</td>\n",
       "    </tr>\n",
       "    <tr>\n",
       "      <th>1337</th>\n",
       "      <td>EliteCoin</td>\n",
       "    </tr>\n",
       "    <tr>\n",
       "      <th>BTC</th>\n",
       "      <td>Bitcoin</td>\n",
       "    </tr>\n",
       "    <tr>\n",
       "      <th>ETH</th>\n",
       "      <td>Ethereum</td>\n",
       "    </tr>\n",
       "  </tbody>\n",
       "</table>\n",
       "</div>"
      ],
      "text/plain": [
       "       CoinName\n",
       "               \n",
       "42      42 Coin\n",
       "404     404Coin\n",
       "1337  EliteCoin\n",
       "BTC     Bitcoin\n",
       "ETH    Ethereum"
      ]
     },
     "execution_count": 20,
     "metadata": {},
     "output_type": "execute_result"
    }
   ],
   "source": [
    "crypto_name_df= new_crypto_df_trading[['CoinName']]\n",
    "print(crypto_name_df.shape)\n",
    "crypto_name_df.head()"
   ]
  },
  {
   "cell_type": "code",
   "execution_count": 8,
   "metadata": {},
   "outputs": [
    {
     "name": "stdout",
     "output_type": "stream",
     "text": [
      "(532, 1)\n"
     ]
    },
    {
     "data": {
      "text/html": [
       "<div>\n",
       "<style scoped>\n",
       "    .dataframe tbody tr th:only-of-type {\n",
       "        vertical-align: middle;\n",
       "    }\n",
       "\n",
       "    .dataframe tbody tr th {\n",
       "        vertical-align: top;\n",
       "    }\n",
       "\n",
       "    .dataframe thead th {\n",
       "        text-align: right;\n",
       "    }\n",
       "</style>\n",
       "<table border=\"1\" class=\"dataframe\">\n",
       "  <thead>\n",
       "    <tr style=\"text-align: right;\">\n",
       "      <th></th>\n",
       "      <th>CoinName</th>\n",
       "    </tr>\n",
       "  </thead>\n",
       "  <tbody>\n",
       "    <tr>\n",
       "      <th>42</th>\n",
       "      <td>42 Coin</td>\n",
       "    </tr>\n",
       "    <tr>\n",
       "      <th>404</th>\n",
       "      <td>404Coin</td>\n",
       "    </tr>\n",
       "    <tr>\n",
       "      <th>1337</th>\n",
       "      <td>EliteCoin</td>\n",
       "    </tr>\n",
       "    <tr>\n",
       "      <th>BTC</th>\n",
       "      <td>Bitcoin</td>\n",
       "    </tr>\n",
       "    <tr>\n",
       "      <th>ETH</th>\n",
       "      <td>Ethereum</td>\n",
       "    </tr>\n",
       "  </tbody>\n",
       "</table>\n",
       "</div>"
      ],
      "text/plain": [
       "       CoinName\n",
       "42      42 Coin\n",
       "404     404Coin\n",
       "1337  EliteCoin\n",
       "BTC     Bitcoin\n",
       "ETH    Ethereum"
      ]
     },
     "execution_count": 8,
     "metadata": {},
     "output_type": "execute_result"
    }
   ],
   "source": [
    "# Create a new DataFrame that holds only the cryptocurrencies names.\n",
    "# YOUR CODE HERE"
   ]
  },
  {
   "cell_type": "code",
   "execution_count": 21,
   "metadata": {
    "scrolled": true
   },
   "outputs": [
    {
     "name": "stdout",
     "output_type": "stream",
     "text": [
      "(532, 4)\n"
     ]
    },
    {
     "data": {
      "text/html": [
       "<div>\n",
       "<style scoped>\n",
       "    .dataframe tbody tr th:only-of-type {\n",
       "        vertical-align: middle;\n",
       "    }\n",
       "\n",
       "    .dataframe tbody tr th {\n",
       "        vertical-align: top;\n",
       "    }\n",
       "\n",
       "    .dataframe thead th {\n",
       "        text-align: right;\n",
       "    }\n",
       "</style>\n",
       "<table border=\"1\" class=\"dataframe\">\n",
       "  <thead>\n",
       "    <tr style=\"text-align: right;\">\n",
       "      <th></th>\n",
       "      <th>Algorithm</th>\n",
       "      <th>ProofType</th>\n",
       "      <th>TotalCoinsMined</th>\n",
       "      <th>TotalCoinSupply</th>\n",
       "    </tr>\n",
       "    <tr>\n",
       "      <th></th>\n",
       "      <th></th>\n",
       "      <th></th>\n",
       "      <th></th>\n",
       "      <th></th>\n",
       "    </tr>\n",
       "  </thead>\n",
       "  <tbody>\n",
       "    <tr>\n",
       "      <th>42</th>\n",
       "      <td>Scrypt</td>\n",
       "      <td>PoW/PoS</td>\n",
       "      <td>4.199995e+01</td>\n",
       "      <td>42</td>\n",
       "    </tr>\n",
       "    <tr>\n",
       "      <th>404</th>\n",
       "      <td>Scrypt</td>\n",
       "      <td>PoW/PoS</td>\n",
       "      <td>1.055185e+09</td>\n",
       "      <td>532000000</td>\n",
       "    </tr>\n",
       "    <tr>\n",
       "      <th>1337</th>\n",
       "      <td>X13</td>\n",
       "      <td>PoW/PoS</td>\n",
       "      <td>2.927942e+10</td>\n",
       "      <td>314159265359</td>\n",
       "    </tr>\n",
       "    <tr>\n",
       "      <th>BTC</th>\n",
       "      <td>SHA-256</td>\n",
       "      <td>PoW</td>\n",
       "      <td>1.792718e+07</td>\n",
       "      <td>21000000</td>\n",
       "    </tr>\n",
       "    <tr>\n",
       "      <th>ETH</th>\n",
       "      <td>Ethash</td>\n",
       "      <td>PoW</td>\n",
       "      <td>1.076842e+08</td>\n",
       "      <td>0</td>\n",
       "    </tr>\n",
       "  </tbody>\n",
       "</table>\n",
       "</div>"
      ],
      "text/plain": [
       "     Algorithm ProofType  TotalCoinsMined TotalCoinSupply\n",
       "                                                         \n",
       "42      Scrypt   PoW/PoS     4.199995e+01              42\n",
       "404     Scrypt   PoW/PoS     1.055185e+09       532000000\n",
       "1337       X13   PoW/PoS     2.927942e+10    314159265359\n",
       "BTC    SHA-256       PoW     1.792718e+07        21000000\n",
       "ETH     Ethash       PoW     1.076842e+08               0"
      ]
     },
     "execution_count": 21,
     "metadata": {},
     "output_type": "execute_result"
    }
   ],
   "source": [
    "new_crypto_df_trading.drop(columns=[\"CoinName\"], inplace=True)\n",
    "print(new_crypto_df_trading.shape)\n",
    "new_crypto_df_trading.head()"
   ]
  },
  {
   "cell_type": "code",
   "execution_count": null,
   "metadata": {},
   "outputs": [],
   "source": []
  },
  {
   "cell_type": "code",
   "execution_count": 9,
   "metadata": {
    "scrolled": false
   },
   "outputs": [
    {
     "name": "stdout",
     "output_type": "stream",
     "text": [
      "(532, 4)\n"
     ]
    },
    {
     "data": {
      "text/html": [
       "<div>\n",
       "<style scoped>\n",
       "    .dataframe tbody tr th:only-of-type {\n",
       "        vertical-align: middle;\n",
       "    }\n",
       "\n",
       "    .dataframe tbody tr th {\n",
       "        vertical-align: top;\n",
       "    }\n",
       "\n",
       "    .dataframe thead th {\n",
       "        text-align: right;\n",
       "    }\n",
       "</style>\n",
       "<table border=\"1\" class=\"dataframe\">\n",
       "  <thead>\n",
       "    <tr style=\"text-align: right;\">\n",
       "      <th></th>\n",
       "      <th>Algorithm</th>\n",
       "      <th>ProofType</th>\n",
       "      <th>TotalCoinsMined</th>\n",
       "      <th>TotalCoinSupply</th>\n",
       "    </tr>\n",
       "  </thead>\n",
       "  <tbody>\n",
       "    <tr>\n",
       "      <th>42</th>\n",
       "      <td>Scrypt</td>\n",
       "      <td>PoW/PoS</td>\n",
       "      <td>4.199995e+01</td>\n",
       "      <td>42</td>\n",
       "    </tr>\n",
       "    <tr>\n",
       "      <th>404</th>\n",
       "      <td>Scrypt</td>\n",
       "      <td>PoW/PoS</td>\n",
       "      <td>1.055185e+09</td>\n",
       "      <td>532000000</td>\n",
       "    </tr>\n",
       "    <tr>\n",
       "      <th>1337</th>\n",
       "      <td>X13</td>\n",
       "      <td>PoW/PoS</td>\n",
       "      <td>2.927942e+10</td>\n",
       "      <td>314159265359</td>\n",
       "    </tr>\n",
       "    <tr>\n",
       "      <th>BTC</th>\n",
       "      <td>SHA-256</td>\n",
       "      <td>PoW</td>\n",
       "      <td>1.792718e+07</td>\n",
       "      <td>21000000</td>\n",
       "    </tr>\n",
       "    <tr>\n",
       "      <th>ETH</th>\n",
       "      <td>Ethash</td>\n",
       "      <td>PoW</td>\n",
       "      <td>1.076842e+08</td>\n",
       "      <td>0</td>\n",
       "    </tr>\n",
       "    <tr>\n",
       "      <th>LTC</th>\n",
       "      <td>Scrypt</td>\n",
       "      <td>PoW</td>\n",
       "      <td>6.303924e+07</td>\n",
       "      <td>84000000</td>\n",
       "    </tr>\n",
       "    <tr>\n",
       "      <th>DASH</th>\n",
       "      <td>X11</td>\n",
       "      <td>PoW/PoS</td>\n",
       "      <td>9.031294e+06</td>\n",
       "      <td>22000000</td>\n",
       "    </tr>\n",
       "    <tr>\n",
       "      <th>XMR</th>\n",
       "      <td>CryptoNight-V7</td>\n",
       "      <td>PoW</td>\n",
       "      <td>1.720114e+07</td>\n",
       "      <td>0</td>\n",
       "    </tr>\n",
       "    <tr>\n",
       "      <th>ETC</th>\n",
       "      <td>Ethash</td>\n",
       "      <td>PoW</td>\n",
       "      <td>1.133597e+08</td>\n",
       "      <td>210000000</td>\n",
       "    </tr>\n",
       "    <tr>\n",
       "      <th>ZEC</th>\n",
       "      <td>Equihash</td>\n",
       "      <td>PoW</td>\n",
       "      <td>7.383056e+06</td>\n",
       "      <td>21000000</td>\n",
       "    </tr>\n",
       "  </tbody>\n",
       "</table>\n",
       "</div>"
      ],
      "text/plain": [
       "           Algorithm ProofType  TotalCoinsMined TotalCoinSupply\n",
       "42            Scrypt   PoW/PoS     4.199995e+01              42\n",
       "404           Scrypt   PoW/PoS     1.055185e+09       532000000\n",
       "1337             X13   PoW/PoS     2.927942e+10    314159265359\n",
       "BTC          SHA-256       PoW     1.792718e+07        21000000\n",
       "ETH           Ethash       PoW     1.076842e+08               0\n",
       "LTC           Scrypt       PoW     6.303924e+07        84000000\n",
       "DASH             X11   PoW/PoS     9.031294e+06        22000000\n",
       "XMR   CryptoNight-V7       PoW     1.720114e+07               0\n",
       "ETC           Ethash       PoW     1.133597e+08       210000000\n",
       "ZEC         Equihash       PoW     7.383056e+06        21000000"
      ]
     },
     "execution_count": 9,
     "metadata": {},
     "output_type": "execute_result"
    }
   ],
   "source": [
    "# Drop the 'CoinName' column since it's not going to be used on the clustering algorithm.\n",
    "# YOUR CODE HERE"
   ]
  },
  {
   "cell_type": "code",
   "execution_count": 24,
   "metadata": {
    "scrolled": true
   },
   "outputs": [
    {
     "name": "stdout",
     "output_type": "stream",
     "text": [
      "(532, 98)\n"
     ]
    },
    {
     "data": {
      "text/html": [
       "<div>\n",
       "<style scoped>\n",
       "    .dataframe tbody tr th:only-of-type {\n",
       "        vertical-align: middle;\n",
       "    }\n",
       "\n",
       "    .dataframe tbody tr th {\n",
       "        vertical-align: top;\n",
       "    }\n",
       "\n",
       "    .dataframe thead th {\n",
       "        text-align: right;\n",
       "    }\n",
       "</style>\n",
       "<table border=\"1\" class=\"dataframe\">\n",
       "  <thead>\n",
       "    <tr style=\"text-align: right;\">\n",
       "      <th></th>\n",
       "      <th>TotalCoinsMined</th>\n",
       "      <th>TotalCoinSupply</th>\n",
       "      <th>Algorithm_1GB AES Pattern Search</th>\n",
       "      <th>Algorithm_536</th>\n",
       "      <th>Algorithm_Argon2d</th>\n",
       "      <th>Algorithm_BLAKE256</th>\n",
       "      <th>Algorithm_Blake</th>\n",
       "      <th>Algorithm_Blake2S</th>\n",
       "      <th>Algorithm_Blake2b</th>\n",
       "      <th>Algorithm_C11</th>\n",
       "      <th>...</th>\n",
       "      <th>ProofType_PoW/PoS</th>\n",
       "      <th>ProofType_PoW/PoS</th>\n",
       "      <th>ProofType_PoW/PoW</th>\n",
       "      <th>ProofType_PoW/nPoS</th>\n",
       "      <th>ProofType_Pos</th>\n",
       "      <th>ProofType_Proof of Authority</th>\n",
       "      <th>ProofType_Proof of Trust</th>\n",
       "      <th>ProofType_TPoS</th>\n",
       "      <th>ProofType_Zero-Knowledge Proof</th>\n",
       "      <th>ProofType_dPoW/PoW</th>\n",
       "    </tr>\n",
       "    <tr>\n",
       "      <th></th>\n",
       "      <th></th>\n",
       "      <th></th>\n",
       "      <th></th>\n",
       "      <th></th>\n",
       "      <th></th>\n",
       "      <th></th>\n",
       "      <th></th>\n",
       "      <th></th>\n",
       "      <th></th>\n",
       "      <th></th>\n",
       "      <th></th>\n",
       "      <th></th>\n",
       "      <th></th>\n",
       "      <th></th>\n",
       "      <th></th>\n",
       "      <th></th>\n",
       "      <th></th>\n",
       "      <th></th>\n",
       "      <th></th>\n",
       "      <th></th>\n",
       "      <th></th>\n",
       "    </tr>\n",
       "  </thead>\n",
       "  <tbody>\n",
       "    <tr>\n",
       "      <th>42</th>\n",
       "      <td>4.199995e+01</td>\n",
       "      <td>4.200000e+01</td>\n",
       "      <td>0</td>\n",
       "      <td>0</td>\n",
       "      <td>0</td>\n",
       "      <td>0</td>\n",
       "      <td>0</td>\n",
       "      <td>0</td>\n",
       "      <td>0</td>\n",
       "      <td>0</td>\n",
       "      <td>...</td>\n",
       "      <td>1</td>\n",
       "      <td>0</td>\n",
       "      <td>0</td>\n",
       "      <td>0</td>\n",
       "      <td>0</td>\n",
       "      <td>0</td>\n",
       "      <td>0</td>\n",
       "      <td>0</td>\n",
       "      <td>0</td>\n",
       "      <td>0</td>\n",
       "    </tr>\n",
       "    <tr>\n",
       "      <th>404</th>\n",
       "      <td>1.055185e+09</td>\n",
       "      <td>5.320000e+08</td>\n",
       "      <td>0</td>\n",
       "      <td>0</td>\n",
       "      <td>0</td>\n",
       "      <td>0</td>\n",
       "      <td>0</td>\n",
       "      <td>0</td>\n",
       "      <td>0</td>\n",
       "      <td>0</td>\n",
       "      <td>...</td>\n",
       "      <td>1</td>\n",
       "      <td>0</td>\n",
       "      <td>0</td>\n",
       "      <td>0</td>\n",
       "      <td>0</td>\n",
       "      <td>0</td>\n",
       "      <td>0</td>\n",
       "      <td>0</td>\n",
       "      <td>0</td>\n",
       "      <td>0</td>\n",
       "    </tr>\n",
       "    <tr>\n",
       "      <th>1337</th>\n",
       "      <td>2.927942e+10</td>\n",
       "      <td>3.141593e+11</td>\n",
       "      <td>0</td>\n",
       "      <td>0</td>\n",
       "      <td>0</td>\n",
       "      <td>0</td>\n",
       "      <td>0</td>\n",
       "      <td>0</td>\n",
       "      <td>0</td>\n",
       "      <td>0</td>\n",
       "      <td>...</td>\n",
       "      <td>1</td>\n",
       "      <td>0</td>\n",
       "      <td>0</td>\n",
       "      <td>0</td>\n",
       "      <td>0</td>\n",
       "      <td>0</td>\n",
       "      <td>0</td>\n",
       "      <td>0</td>\n",
       "      <td>0</td>\n",
       "      <td>0</td>\n",
       "    </tr>\n",
       "    <tr>\n",
       "      <th>BTC</th>\n",
       "      <td>1.792718e+07</td>\n",
       "      <td>2.100000e+07</td>\n",
       "      <td>0</td>\n",
       "      <td>0</td>\n",
       "      <td>0</td>\n",
       "      <td>0</td>\n",
       "      <td>0</td>\n",
       "      <td>0</td>\n",
       "      <td>0</td>\n",
       "      <td>0</td>\n",
       "      <td>...</td>\n",
       "      <td>0</td>\n",
       "      <td>0</td>\n",
       "      <td>0</td>\n",
       "      <td>0</td>\n",
       "      <td>0</td>\n",
       "      <td>0</td>\n",
       "      <td>0</td>\n",
       "      <td>0</td>\n",
       "      <td>0</td>\n",
       "      <td>0</td>\n",
       "    </tr>\n",
       "    <tr>\n",
       "      <th>ETH</th>\n",
       "      <td>1.076842e+08</td>\n",
       "      <td>0.000000e+00</td>\n",
       "      <td>0</td>\n",
       "      <td>0</td>\n",
       "      <td>0</td>\n",
       "      <td>0</td>\n",
       "      <td>0</td>\n",
       "      <td>0</td>\n",
       "      <td>0</td>\n",
       "      <td>0</td>\n",
       "      <td>...</td>\n",
       "      <td>0</td>\n",
       "      <td>0</td>\n",
       "      <td>0</td>\n",
       "      <td>0</td>\n",
       "      <td>0</td>\n",
       "      <td>0</td>\n",
       "      <td>0</td>\n",
       "      <td>0</td>\n",
       "      <td>0</td>\n",
       "      <td>0</td>\n",
       "    </tr>\n",
       "    <tr>\n",
       "      <th>LTC</th>\n",
       "      <td>6.303924e+07</td>\n",
       "      <td>8.400000e+07</td>\n",
       "      <td>0</td>\n",
       "      <td>0</td>\n",
       "      <td>0</td>\n",
       "      <td>0</td>\n",
       "      <td>0</td>\n",
       "      <td>0</td>\n",
       "      <td>0</td>\n",
       "      <td>0</td>\n",
       "      <td>...</td>\n",
       "      <td>0</td>\n",
       "      <td>0</td>\n",
       "      <td>0</td>\n",
       "      <td>0</td>\n",
       "      <td>0</td>\n",
       "      <td>0</td>\n",
       "      <td>0</td>\n",
       "      <td>0</td>\n",
       "      <td>0</td>\n",
       "      <td>0</td>\n",
       "    </tr>\n",
       "    <tr>\n",
       "      <th>DASH</th>\n",
       "      <td>9.031294e+06</td>\n",
       "      <td>2.200000e+07</td>\n",
       "      <td>0</td>\n",
       "      <td>0</td>\n",
       "      <td>0</td>\n",
       "      <td>0</td>\n",
       "      <td>0</td>\n",
       "      <td>0</td>\n",
       "      <td>0</td>\n",
       "      <td>0</td>\n",
       "      <td>...</td>\n",
       "      <td>1</td>\n",
       "      <td>0</td>\n",
       "      <td>0</td>\n",
       "      <td>0</td>\n",
       "      <td>0</td>\n",
       "      <td>0</td>\n",
       "      <td>0</td>\n",
       "      <td>0</td>\n",
       "      <td>0</td>\n",
       "      <td>0</td>\n",
       "    </tr>\n",
       "    <tr>\n",
       "      <th>XMR</th>\n",
       "      <td>1.720114e+07</td>\n",
       "      <td>0.000000e+00</td>\n",
       "      <td>0</td>\n",
       "      <td>0</td>\n",
       "      <td>0</td>\n",
       "      <td>0</td>\n",
       "      <td>0</td>\n",
       "      <td>0</td>\n",
       "      <td>0</td>\n",
       "      <td>0</td>\n",
       "      <td>...</td>\n",
       "      <td>0</td>\n",
       "      <td>0</td>\n",
       "      <td>0</td>\n",
       "      <td>0</td>\n",
       "      <td>0</td>\n",
       "      <td>0</td>\n",
       "      <td>0</td>\n",
       "      <td>0</td>\n",
       "      <td>0</td>\n",
       "      <td>0</td>\n",
       "    </tr>\n",
       "    <tr>\n",
       "      <th>ETC</th>\n",
       "      <td>1.133597e+08</td>\n",
       "      <td>2.100000e+08</td>\n",
       "      <td>0</td>\n",
       "      <td>0</td>\n",
       "      <td>0</td>\n",
       "      <td>0</td>\n",
       "      <td>0</td>\n",
       "      <td>0</td>\n",
       "      <td>0</td>\n",
       "      <td>0</td>\n",
       "      <td>...</td>\n",
       "      <td>0</td>\n",
       "      <td>0</td>\n",
       "      <td>0</td>\n",
       "      <td>0</td>\n",
       "      <td>0</td>\n",
       "      <td>0</td>\n",
       "      <td>0</td>\n",
       "      <td>0</td>\n",
       "      <td>0</td>\n",
       "      <td>0</td>\n",
       "    </tr>\n",
       "    <tr>\n",
       "      <th>ZEC</th>\n",
       "      <td>7.383056e+06</td>\n",
       "      <td>2.100000e+07</td>\n",
       "      <td>0</td>\n",
       "      <td>0</td>\n",
       "      <td>0</td>\n",
       "      <td>0</td>\n",
       "      <td>0</td>\n",
       "      <td>0</td>\n",
       "      <td>0</td>\n",
       "      <td>0</td>\n",
       "      <td>...</td>\n",
       "      <td>0</td>\n",
       "      <td>0</td>\n",
       "      <td>0</td>\n",
       "      <td>0</td>\n",
       "      <td>0</td>\n",
       "      <td>0</td>\n",
       "      <td>0</td>\n",
       "      <td>0</td>\n",
       "      <td>0</td>\n",
       "      <td>0</td>\n",
       "    </tr>\n",
       "  </tbody>\n",
       "</table>\n",
       "<p>10 rows × 98 columns</p>\n",
       "</div>"
      ],
      "text/plain": [
       "      TotalCoinsMined  TotalCoinSupply  Algorithm_1GB AES Pattern Search  \\\n",
       "                                                                           \n",
       "42       4.199995e+01     4.200000e+01                                 0   \n",
       "404      1.055185e+09     5.320000e+08                                 0   \n",
       "1337     2.927942e+10     3.141593e+11                                 0   \n",
       "BTC      1.792718e+07     2.100000e+07                                 0   \n",
       "ETH      1.076842e+08     0.000000e+00                                 0   \n",
       "LTC      6.303924e+07     8.400000e+07                                 0   \n",
       "DASH     9.031294e+06     2.200000e+07                                 0   \n",
       "XMR      1.720114e+07     0.000000e+00                                 0   \n",
       "ETC      1.133597e+08     2.100000e+08                                 0   \n",
       "ZEC      7.383056e+06     2.100000e+07                                 0   \n",
       "\n",
       "      Algorithm_536  Algorithm_Argon2d  Algorithm_BLAKE256  Algorithm_Blake  \\\n",
       "                                                                              \n",
       "42                0                  0                   0                0   \n",
       "404               0                  0                   0                0   \n",
       "1337              0                  0                   0                0   \n",
       "BTC               0                  0                   0                0   \n",
       "ETH               0                  0                   0                0   \n",
       "LTC               0                  0                   0                0   \n",
       "DASH              0                  0                   0                0   \n",
       "XMR               0                  0                   0                0   \n",
       "ETC               0                  0                   0                0   \n",
       "ZEC               0                  0                   0                0   \n",
       "\n",
       "      Algorithm_Blake2S  Algorithm_Blake2b  Algorithm_C11  ...  \\\n",
       "                                                           ...   \n",
       "42                    0                  0              0  ...   \n",
       "404                   0                  0              0  ...   \n",
       "1337                  0                  0              0  ...   \n",
       "BTC                   0                  0              0  ...   \n",
       "ETH                   0                  0              0  ...   \n",
       "LTC                   0                  0              0  ...   \n",
       "DASH                  0                  0              0  ...   \n",
       "XMR                   0                  0              0  ...   \n",
       "ETC                   0                  0              0  ...   \n",
       "ZEC                   0                  0              0  ...   \n",
       "\n",
       "      ProofType_PoW/PoS  ProofType_PoW/PoS   ProofType_PoW/PoW  \\\n",
       "                                                                 \n",
       "42                    1                   0                  0   \n",
       "404                   1                   0                  0   \n",
       "1337                  1                   0                  0   \n",
       "BTC                   0                   0                  0   \n",
       "ETH                   0                   0                  0   \n",
       "LTC                   0                   0                  0   \n",
       "DASH                  1                   0                  0   \n",
       "XMR                   0                   0                  0   \n",
       "ETC                   0                   0                  0   \n",
       "ZEC                   0                   0                  0   \n",
       "\n",
       "      ProofType_PoW/nPoS  ProofType_Pos  ProofType_Proof of Authority  \\\n",
       "                                                                        \n",
       "42                     0              0                             0   \n",
       "404                    0              0                             0   \n",
       "1337                   0              0                             0   \n",
       "BTC                    0              0                             0   \n",
       "ETH                    0              0                             0   \n",
       "LTC                    0              0                             0   \n",
       "DASH                   0              0                             0   \n",
       "XMR                    0              0                             0   \n",
       "ETC                    0              0                             0   \n",
       "ZEC                    0              0                             0   \n",
       "\n",
       "      ProofType_Proof of Trust  ProofType_TPoS  \\\n",
       "                                                 \n",
       "42                           0               0   \n",
       "404                          0               0   \n",
       "1337                         0               0   \n",
       "BTC                          0               0   \n",
       "ETH                          0               0   \n",
       "LTC                          0               0   \n",
       "DASH                         0               0   \n",
       "XMR                          0               0   \n",
       "ETC                          0               0   \n",
       "ZEC                          0               0   \n",
       "\n",
       "      ProofType_Zero-Knowledge Proof  ProofType_dPoW/PoW  \n",
       "                                                          \n",
       "42                                 0                   0  \n",
       "404                                0                   0  \n",
       "1337                               0                   0  \n",
       "BTC                                0                   0  \n",
       "ETH                                0                   0  \n",
       "LTC                                0                   0  \n",
       "DASH                               0                   0  \n",
       "XMR                                0                   0  \n",
       "ETC                                0                   0  \n",
       "ZEC                                0                   0  \n",
       "\n",
       "[10 rows x 98 columns]"
      ]
     },
     "execution_count": 24,
     "metadata": {},
     "output_type": "execute_result"
    }
   ],
   "source": [
    "new_crypto_df_trading['TotalCoinSupply']=new_crypto_df_trading['TotalCoinSupply'].astype(float)\n",
    "X= pd.get_dummies(new_crypto_df_trading)\n",
    "print(X.shape)\n",
    "X.head(10)"
   ]
  },
  {
   "cell_type": "code",
   "execution_count": null,
   "metadata": {},
   "outputs": [],
   "source": []
  },
  {
   "cell_type": "code",
   "execution_count": 10,
   "metadata": {
    "scrolled": true
   },
   "outputs": [
    {
     "name": "stdout",
     "output_type": "stream",
     "text": [
      "(532, 98)\n"
     ]
    },
    {
     "data": {
      "text/html": [
       "<div>\n",
       "<style scoped>\n",
       "    .dataframe tbody tr th:only-of-type {\n",
       "        vertical-align: middle;\n",
       "    }\n",
       "\n",
       "    .dataframe tbody tr th {\n",
       "        vertical-align: top;\n",
       "    }\n",
       "\n",
       "    .dataframe thead th {\n",
       "        text-align: right;\n",
       "    }\n",
       "</style>\n",
       "<table border=\"1\" class=\"dataframe\">\n",
       "  <thead>\n",
       "    <tr style=\"text-align: right;\">\n",
       "      <th></th>\n",
       "      <th>TotalCoinsMined</th>\n",
       "      <th>TotalCoinSupply</th>\n",
       "      <th>Algorithm_1GB AES Pattern Search</th>\n",
       "      <th>Algorithm_536</th>\n",
       "      <th>Algorithm_Argon2d</th>\n",
       "      <th>Algorithm_BLAKE256</th>\n",
       "      <th>Algorithm_Blake</th>\n",
       "      <th>Algorithm_Blake2S</th>\n",
       "      <th>Algorithm_Blake2b</th>\n",
       "      <th>Algorithm_C11</th>\n",
       "      <th>...</th>\n",
       "      <th>ProofType_PoW/PoS</th>\n",
       "      <th>ProofType_PoW/PoS</th>\n",
       "      <th>ProofType_PoW/PoW</th>\n",
       "      <th>ProofType_PoW/nPoS</th>\n",
       "      <th>ProofType_Pos</th>\n",
       "      <th>ProofType_Proof of Authority</th>\n",
       "      <th>ProofType_Proof of Trust</th>\n",
       "      <th>ProofType_TPoS</th>\n",
       "      <th>ProofType_Zero-Knowledge Proof</th>\n",
       "      <th>ProofType_dPoW/PoW</th>\n",
       "    </tr>\n",
       "  </thead>\n",
       "  <tbody>\n",
       "    <tr>\n",
       "      <th>42</th>\n",
       "      <td>4.199995e+01</td>\n",
       "      <td>42</td>\n",
       "      <td>0</td>\n",
       "      <td>0</td>\n",
       "      <td>0</td>\n",
       "      <td>0</td>\n",
       "      <td>0</td>\n",
       "      <td>0</td>\n",
       "      <td>0</td>\n",
       "      <td>0</td>\n",
       "      <td>...</td>\n",
       "      <td>1</td>\n",
       "      <td>0</td>\n",
       "      <td>0</td>\n",
       "      <td>0</td>\n",
       "      <td>0</td>\n",
       "      <td>0</td>\n",
       "      <td>0</td>\n",
       "      <td>0</td>\n",
       "      <td>0</td>\n",
       "      <td>0</td>\n",
       "    </tr>\n",
       "    <tr>\n",
       "      <th>404</th>\n",
       "      <td>1.055185e+09</td>\n",
       "      <td>532000000</td>\n",
       "      <td>0</td>\n",
       "      <td>0</td>\n",
       "      <td>0</td>\n",
       "      <td>0</td>\n",
       "      <td>0</td>\n",
       "      <td>0</td>\n",
       "      <td>0</td>\n",
       "      <td>0</td>\n",
       "      <td>...</td>\n",
       "      <td>1</td>\n",
       "      <td>0</td>\n",
       "      <td>0</td>\n",
       "      <td>0</td>\n",
       "      <td>0</td>\n",
       "      <td>0</td>\n",
       "      <td>0</td>\n",
       "      <td>0</td>\n",
       "      <td>0</td>\n",
       "      <td>0</td>\n",
       "    </tr>\n",
       "    <tr>\n",
       "      <th>1337</th>\n",
       "      <td>2.927942e+10</td>\n",
       "      <td>314159265359</td>\n",
       "      <td>0</td>\n",
       "      <td>0</td>\n",
       "      <td>0</td>\n",
       "      <td>0</td>\n",
       "      <td>0</td>\n",
       "      <td>0</td>\n",
       "      <td>0</td>\n",
       "      <td>0</td>\n",
       "      <td>...</td>\n",
       "      <td>1</td>\n",
       "      <td>0</td>\n",
       "      <td>0</td>\n",
       "      <td>0</td>\n",
       "      <td>0</td>\n",
       "      <td>0</td>\n",
       "      <td>0</td>\n",
       "      <td>0</td>\n",
       "      <td>0</td>\n",
       "      <td>0</td>\n",
       "    </tr>\n",
       "    <tr>\n",
       "      <th>BTC</th>\n",
       "      <td>1.792718e+07</td>\n",
       "      <td>21000000</td>\n",
       "      <td>0</td>\n",
       "      <td>0</td>\n",
       "      <td>0</td>\n",
       "      <td>0</td>\n",
       "      <td>0</td>\n",
       "      <td>0</td>\n",
       "      <td>0</td>\n",
       "      <td>0</td>\n",
       "      <td>...</td>\n",
       "      <td>0</td>\n",
       "      <td>0</td>\n",
       "      <td>0</td>\n",
       "      <td>0</td>\n",
       "      <td>0</td>\n",
       "      <td>0</td>\n",
       "      <td>0</td>\n",
       "      <td>0</td>\n",
       "      <td>0</td>\n",
       "      <td>0</td>\n",
       "    </tr>\n",
       "    <tr>\n",
       "      <th>ETH</th>\n",
       "      <td>1.076842e+08</td>\n",
       "      <td>0</td>\n",
       "      <td>0</td>\n",
       "      <td>0</td>\n",
       "      <td>0</td>\n",
       "      <td>0</td>\n",
       "      <td>0</td>\n",
       "      <td>0</td>\n",
       "      <td>0</td>\n",
       "      <td>0</td>\n",
       "      <td>...</td>\n",
       "      <td>0</td>\n",
       "      <td>0</td>\n",
       "      <td>0</td>\n",
       "      <td>0</td>\n",
       "      <td>0</td>\n",
       "      <td>0</td>\n",
       "      <td>0</td>\n",
       "      <td>0</td>\n",
       "      <td>0</td>\n",
       "      <td>0</td>\n",
       "    </tr>\n",
       "    <tr>\n",
       "      <th>LTC</th>\n",
       "      <td>6.303924e+07</td>\n",
       "      <td>84000000</td>\n",
       "      <td>0</td>\n",
       "      <td>0</td>\n",
       "      <td>0</td>\n",
       "      <td>0</td>\n",
       "      <td>0</td>\n",
       "      <td>0</td>\n",
       "      <td>0</td>\n",
       "      <td>0</td>\n",
       "      <td>...</td>\n",
       "      <td>0</td>\n",
       "      <td>0</td>\n",
       "      <td>0</td>\n",
       "      <td>0</td>\n",
       "      <td>0</td>\n",
       "      <td>0</td>\n",
       "      <td>0</td>\n",
       "      <td>0</td>\n",
       "      <td>0</td>\n",
       "      <td>0</td>\n",
       "    </tr>\n",
       "    <tr>\n",
       "      <th>DASH</th>\n",
       "      <td>9.031294e+06</td>\n",
       "      <td>22000000</td>\n",
       "      <td>0</td>\n",
       "      <td>0</td>\n",
       "      <td>0</td>\n",
       "      <td>0</td>\n",
       "      <td>0</td>\n",
       "      <td>0</td>\n",
       "      <td>0</td>\n",
       "      <td>0</td>\n",
       "      <td>...</td>\n",
       "      <td>1</td>\n",
       "      <td>0</td>\n",
       "      <td>0</td>\n",
       "      <td>0</td>\n",
       "      <td>0</td>\n",
       "      <td>0</td>\n",
       "      <td>0</td>\n",
       "      <td>0</td>\n",
       "      <td>0</td>\n",
       "      <td>0</td>\n",
       "    </tr>\n",
       "    <tr>\n",
       "      <th>XMR</th>\n",
       "      <td>1.720114e+07</td>\n",
       "      <td>0</td>\n",
       "      <td>0</td>\n",
       "      <td>0</td>\n",
       "      <td>0</td>\n",
       "      <td>0</td>\n",
       "      <td>0</td>\n",
       "      <td>0</td>\n",
       "      <td>0</td>\n",
       "      <td>0</td>\n",
       "      <td>...</td>\n",
       "      <td>0</td>\n",
       "      <td>0</td>\n",
       "      <td>0</td>\n",
       "      <td>0</td>\n",
       "      <td>0</td>\n",
       "      <td>0</td>\n",
       "      <td>0</td>\n",
       "      <td>0</td>\n",
       "      <td>0</td>\n",
       "      <td>0</td>\n",
       "    </tr>\n",
       "    <tr>\n",
       "      <th>ETC</th>\n",
       "      <td>1.133597e+08</td>\n",
       "      <td>210000000</td>\n",
       "      <td>0</td>\n",
       "      <td>0</td>\n",
       "      <td>0</td>\n",
       "      <td>0</td>\n",
       "      <td>0</td>\n",
       "      <td>0</td>\n",
       "      <td>0</td>\n",
       "      <td>0</td>\n",
       "      <td>...</td>\n",
       "      <td>0</td>\n",
       "      <td>0</td>\n",
       "      <td>0</td>\n",
       "      <td>0</td>\n",
       "      <td>0</td>\n",
       "      <td>0</td>\n",
       "      <td>0</td>\n",
       "      <td>0</td>\n",
       "      <td>0</td>\n",
       "      <td>0</td>\n",
       "    </tr>\n",
       "    <tr>\n",
       "      <th>ZEC</th>\n",
       "      <td>7.383056e+06</td>\n",
       "      <td>21000000</td>\n",
       "      <td>0</td>\n",
       "      <td>0</td>\n",
       "      <td>0</td>\n",
       "      <td>0</td>\n",
       "      <td>0</td>\n",
       "      <td>0</td>\n",
       "      <td>0</td>\n",
       "      <td>0</td>\n",
       "      <td>...</td>\n",
       "      <td>0</td>\n",
       "      <td>0</td>\n",
       "      <td>0</td>\n",
       "      <td>0</td>\n",
       "      <td>0</td>\n",
       "      <td>0</td>\n",
       "      <td>0</td>\n",
       "      <td>0</td>\n",
       "      <td>0</td>\n",
       "      <td>0</td>\n",
       "    </tr>\n",
       "  </tbody>\n",
       "</table>\n",
       "<p>10 rows × 98 columns</p>\n",
       "</div>"
      ],
      "text/plain": [
       "      TotalCoinsMined TotalCoinSupply  Algorithm_1GB AES Pattern Search  \\\n",
       "42       4.199995e+01              42                                 0   \n",
       "404      1.055185e+09       532000000                                 0   \n",
       "1337     2.927942e+10    314159265359                                 0   \n",
       "BTC      1.792718e+07        21000000                                 0   \n",
       "ETH      1.076842e+08               0                                 0   \n",
       "LTC      6.303924e+07        84000000                                 0   \n",
       "DASH     9.031294e+06        22000000                                 0   \n",
       "XMR      1.720114e+07               0                                 0   \n",
       "ETC      1.133597e+08       210000000                                 0   \n",
       "ZEC      7.383056e+06        21000000                                 0   \n",
       "\n",
       "      Algorithm_536  Algorithm_Argon2d  Algorithm_BLAKE256  Algorithm_Blake  \\\n",
       "42                0                  0                   0                0   \n",
       "404               0                  0                   0                0   \n",
       "1337              0                  0                   0                0   \n",
       "BTC               0                  0                   0                0   \n",
       "ETH               0                  0                   0                0   \n",
       "LTC               0                  0                   0                0   \n",
       "DASH              0                  0                   0                0   \n",
       "XMR               0                  0                   0                0   \n",
       "ETC               0                  0                   0                0   \n",
       "ZEC               0                  0                   0                0   \n",
       "\n",
       "      Algorithm_Blake2S  Algorithm_Blake2b  Algorithm_C11  ...  \\\n",
       "42                    0                  0              0  ...   \n",
       "404                   0                  0              0  ...   \n",
       "1337                  0                  0              0  ...   \n",
       "BTC                   0                  0              0  ...   \n",
       "ETH                   0                  0              0  ...   \n",
       "LTC                   0                  0              0  ...   \n",
       "DASH                  0                  0              0  ...   \n",
       "XMR                   0                  0              0  ...   \n",
       "ETC                   0                  0              0  ...   \n",
       "ZEC                   0                  0              0  ...   \n",
       "\n",
       "      ProofType_PoW/PoS  ProofType_PoW/PoS   ProofType_PoW/PoW  \\\n",
       "42                    1                   0                  0   \n",
       "404                   1                   0                  0   \n",
       "1337                  1                   0                  0   \n",
       "BTC                   0                   0                  0   \n",
       "ETH                   0                   0                  0   \n",
       "LTC                   0                   0                  0   \n",
       "DASH                  1                   0                  0   \n",
       "XMR                   0                   0                  0   \n",
       "ETC                   0                   0                  0   \n",
       "ZEC                   0                   0                  0   \n",
       "\n",
       "      ProofType_PoW/nPoS  ProofType_Pos  ProofType_Proof of Authority  \\\n",
       "42                     0              0                             0   \n",
       "404                    0              0                             0   \n",
       "1337                   0              0                             0   \n",
       "BTC                    0              0                             0   \n",
       "ETH                    0              0                             0   \n",
       "LTC                    0              0                             0   \n",
       "DASH                   0              0                             0   \n",
       "XMR                    0              0                             0   \n",
       "ETC                    0              0                             0   \n",
       "ZEC                    0              0                             0   \n",
       "\n",
       "      ProofType_Proof of Trust  ProofType_TPoS  \\\n",
       "42                           0               0   \n",
       "404                          0               0   \n",
       "1337                         0               0   \n",
       "BTC                          0               0   \n",
       "ETH                          0               0   \n",
       "LTC                          0               0   \n",
       "DASH                         0               0   \n",
       "XMR                          0               0   \n",
       "ETC                          0               0   \n",
       "ZEC                          0               0   \n",
       "\n",
       "      ProofType_Zero-Knowledge Proof  ProofType_dPoW/PoW  \n",
       "42                                 0                   0  \n",
       "404                                0                   0  \n",
       "1337                               0                   0  \n",
       "BTC                                0                   0  \n",
       "ETH                                0                   0  \n",
       "LTC                                0                   0  \n",
       "DASH                               0                   0  \n",
       "XMR                                0                   0  \n",
       "ETC                                0                   0  \n",
       "ZEC                                0                   0  \n",
       "\n",
       "[10 rows x 98 columns]"
      ]
     },
     "execution_count": 10,
     "metadata": {},
     "output_type": "execute_result"
    }
   ],
   "source": [
    "# Use get_dummies() to create variables for text features.\n",
    "# YOUR CODE HERE"
   ]
  },
  {
   "cell_type": "code",
   "execution_count": 25,
   "metadata": {},
   "outputs": [
    {
     "name": "stdout",
     "output_type": "stream",
     "text": [
      "[[-0.11710817 -0.1528703  -0.0433963  -0.0433963  -0.0433963  -0.06142951\n",
      "  -0.07530656 -0.0433963  -0.06142951 -0.06142951 -0.0433963  -0.0433963\n",
      "  -0.19245009 -0.06142951 -0.09740465 -0.0433963  -0.11547005 -0.07530656\n",
      "  -0.0433963  -0.0433963  -0.15191091 -0.0433963  -0.13118084 -0.0433963\n",
      "  -0.0433963  -0.08703883 -0.0433963  -0.0433963  -0.0433963  -0.0433963\n",
      "  -0.06142951 -0.0433963  -0.08703883 -0.08703883 -0.08703883 -0.0433963\n",
      "  -0.13118084 -0.13840913 -0.13840913 -0.0433963  -0.06142951 -0.0433963\n",
      "  -0.07530656 -0.18168574 -0.0433963  -0.0433963  -0.0433963  -0.07530656\n",
      "  -0.15826614 -0.31491833 -0.0433963  -0.08703883 -0.07530656 -0.06142951\n",
      "   1.38675049 -0.0433963  -0.0433963  -0.06142951 -0.0433963  -0.0433963\n",
      "  -0.0433963  -0.0433963  -0.0433963  -0.0433963  -0.0433963  -0.0433963\n",
      "  -0.39879994 -0.0433963  -0.18168574 -0.0433963  -0.08703883 -0.08703883\n",
      "  -0.10680283 -0.0433963  -0.13118084 -0.0433963  -0.0433963  -0.0433963\n",
      "  -0.0433963  -0.07530656 -0.43911856 -0.0433963  -0.06142951 -0.0433963\n",
      "  -0.0433963  -0.89632016 -0.0433963  -0.0433963   1.42222617 -0.0433963\n",
      "  -0.0433963  -0.0433963  -0.0433963  -0.0433963  -0.0433963  -0.0433963\n",
      "  -0.0433963  -0.0433963 ]\n",
      " [-0.09396955 -0.145009   -0.0433963  -0.0433963  -0.0433963  -0.06142951\n",
      "  -0.07530656 -0.0433963  -0.06142951 -0.06142951 -0.0433963  -0.0433963\n",
      "  -0.19245009 -0.06142951 -0.09740465 -0.0433963  -0.11547005 -0.07530656\n",
      "  -0.0433963  -0.0433963  -0.15191091 -0.0433963  -0.13118084 -0.0433963\n",
      "  -0.0433963  -0.08703883 -0.0433963  -0.0433963  -0.0433963  -0.0433963\n",
      "  -0.06142951 -0.0433963  -0.08703883 -0.08703883 -0.08703883 -0.0433963\n",
      "  -0.13118084 -0.13840913 -0.13840913 -0.0433963  -0.06142951 -0.0433963\n",
      "  -0.07530656 -0.18168574 -0.0433963  -0.0433963  -0.0433963  -0.07530656\n",
      "  -0.15826614 -0.31491833 -0.0433963  -0.08703883 -0.07530656 -0.06142951\n",
      "   1.38675049 -0.0433963  -0.0433963  -0.06142951 -0.0433963  -0.0433963\n",
      "  -0.0433963  -0.0433963  -0.0433963  -0.0433963  -0.0433963  -0.0433963\n",
      "  -0.39879994 -0.0433963  -0.18168574 -0.0433963  -0.08703883 -0.08703883\n",
      "  -0.10680283 -0.0433963  -0.13118084 -0.0433963  -0.0433963  -0.0433963\n",
      "  -0.0433963  -0.07530656 -0.43911856 -0.0433963  -0.06142951 -0.0433963\n",
      "  -0.0433963  -0.89632016 -0.0433963  -0.0433963   1.42222617 -0.0433963\n",
      "  -0.0433963  -0.0433963  -0.0433963  -0.0433963  -0.0433963  -0.0433963\n",
      "  -0.0433963  -0.0433963 ]\n",
      " [ 0.52494561  4.48942416 -0.0433963  -0.0433963  -0.0433963  -0.06142951\n",
      "  -0.07530656 -0.0433963  -0.06142951 -0.06142951 -0.0433963  -0.0433963\n",
      "  -0.19245009 -0.06142951 -0.09740465 -0.0433963  -0.11547005 -0.07530656\n",
      "  -0.0433963  -0.0433963  -0.15191091 -0.0433963  -0.13118084 -0.0433963\n",
      "  -0.0433963  -0.08703883 -0.0433963  -0.0433963  -0.0433963  -0.0433963\n",
      "  -0.06142951 -0.0433963  -0.08703883 -0.08703883 -0.08703883 -0.0433963\n",
      "  -0.13118084 -0.13840913 -0.13840913 -0.0433963  -0.06142951 -0.0433963\n",
      "  -0.07530656 -0.18168574 -0.0433963  -0.0433963  -0.0433963  -0.07530656\n",
      "  -0.15826614 -0.31491833 -0.0433963  -0.08703883 -0.07530656 -0.06142951\n",
      "  -0.72111026 -0.0433963  -0.0433963  -0.06142951 -0.0433963  -0.0433963\n",
      "  -0.0433963  -0.0433963  -0.0433963  -0.0433963  -0.0433963  -0.0433963\n",
      "  -0.39879994 -0.0433963   5.50400923 -0.0433963  -0.08703883 -0.08703883\n",
      "  -0.10680283 -0.0433963  -0.13118084 -0.0433963  -0.0433963  -0.0433963\n",
      "  -0.0433963  -0.07530656 -0.43911856 -0.0433963  -0.06142951 -0.0433963\n",
      "  -0.0433963  -0.89632016 -0.0433963  -0.0433963   1.42222617 -0.0433963\n",
      "  -0.0433963  -0.0433963  -0.0433963  -0.0433963  -0.0433963  -0.0433963\n",
      "  -0.0433963  -0.0433963 ]\n",
      " [-0.11671506 -0.15255998 -0.0433963  -0.0433963  -0.0433963  -0.06142951\n",
      "  -0.07530656 -0.0433963  -0.06142951 -0.06142951 -0.0433963  -0.0433963\n",
      "  -0.19245009 -0.06142951 -0.09740465 -0.0433963  -0.11547005 -0.07530656\n",
      "  -0.0433963  -0.0433963  -0.15191091 -0.0433963  -0.13118084 -0.0433963\n",
      "  -0.0433963  -0.08703883 -0.0433963  -0.0433963  -0.0433963  -0.0433963\n",
      "  -0.06142951 -0.0433963  -0.08703883 -0.08703883 -0.08703883 -0.0433963\n",
      "  -0.13118084 -0.13840913 -0.13840913 -0.0433963  -0.06142951 -0.0433963\n",
      "  -0.07530656 -0.18168574 -0.0433963  -0.0433963  -0.0433963  -0.07530656\n",
      "  -0.15826614  3.17542648 -0.0433963  -0.08703883 -0.07530656 -0.06142951\n",
      "  -0.72111026 -0.0433963  -0.0433963  -0.06142951 -0.0433963  -0.0433963\n",
      "  -0.0433963  -0.0433963  -0.0433963  -0.0433963  -0.0433963  -0.0433963\n",
      "  -0.39879994 -0.0433963  -0.18168574 -0.0433963  -0.08703883 -0.08703883\n",
      "  -0.10680283 -0.0433963  -0.13118084 -0.0433963  -0.0433963  -0.0433963\n",
      "  -0.0433963  -0.07530656 -0.43911856 -0.0433963  -0.06142951 -0.0433963\n",
      "  -0.0433963   1.11567277 -0.0433963  -0.0433963  -0.70312305 -0.0433963\n",
      "  -0.0433963  -0.0433963  -0.0433963  -0.0433963  -0.0433963  -0.0433963\n",
      "  -0.0433963  -0.0433963 ]\n",
      " [-0.11474682 -0.1528703  -0.0433963  -0.0433963  -0.0433963  -0.06142951\n",
      "  -0.07530656 -0.0433963  -0.06142951 -0.06142951 -0.0433963  -0.0433963\n",
      "  -0.19245009 -0.06142951 -0.09740465 -0.0433963  -0.11547005 -0.07530656\n",
      "  -0.0433963  -0.0433963  -0.15191091 -0.0433963   7.62306442 -0.0433963\n",
      "  -0.0433963  -0.08703883 -0.0433963  -0.0433963  -0.0433963  -0.0433963\n",
      "  -0.06142951 -0.0433963  -0.08703883 -0.08703883 -0.08703883 -0.0433963\n",
      "  -0.13118084 -0.13840913 -0.13840913 -0.0433963  -0.06142951 -0.0433963\n",
      "  -0.07530656 -0.18168574 -0.0433963  -0.0433963  -0.0433963  -0.07530656\n",
      "  -0.15826614 -0.31491833 -0.0433963  -0.08703883 -0.07530656 -0.06142951\n",
      "  -0.72111026 -0.0433963  -0.0433963  -0.06142951 -0.0433963  -0.0433963\n",
      "  -0.0433963  -0.0433963  -0.0433963  -0.0433963  -0.0433963  -0.0433963\n",
      "  -0.39879994 -0.0433963  -0.18168574 -0.0433963  -0.08703883 -0.08703883\n",
      "  -0.10680283 -0.0433963  -0.13118084 -0.0433963  -0.0433963  -0.0433963\n",
      "  -0.0433963  -0.07530656 -0.43911856 -0.0433963  -0.06142951 -0.0433963\n",
      "  -0.0433963   1.11567277 -0.0433963  -0.0433963  -0.70312305 -0.0433963\n",
      "  -0.0433963  -0.0433963  -0.0433963  -0.0433963  -0.0433963  -0.0433963\n",
      "  -0.0433963  -0.0433963 ]]\n"
     ]
    }
   ],
   "source": [
    "# Standardize the data with StandardScaler().\n",
    "X_scaled = StandardScaler().fit_transform(X)\n",
    "print(X_scaled[0:5])"
   ]
  },
  {
   "cell_type": "code",
   "execution_count": 26,
   "metadata": {},
   "outputs": [],
   "source": [
    "# Initialize PCA model\n",
    "pca = PCA(n_components=3)"
   ]
  },
  {
   "cell_type": "code",
   "execution_count": 27,
   "metadata": {},
   "outputs": [
    {
     "data": {
      "text/plain": [
       "array([[-0.33392302,  1.10600714, -0.53798841],\n",
       "       [-0.31721165,  1.10603625, -0.53844186],\n",
       "       [ 2.33374394,  1.61431748, -0.64477853],\n",
       "       ...,\n",
       "       [ 0.32110316, -2.32598534,  0.37811354],\n",
       "       [-0.11399438, -2.17616079,  0.34718114],\n",
       "       [-0.29158879,  0.86847667, -0.25340559]])"
      ]
     },
     "execution_count": 27,
     "metadata": {},
     "output_type": "execute_result"
    }
   ],
   "source": [
    "# Get three principal components \n",
    "X_pca = pca.fit_transform(X_scaled)\n",
    "X_pca"
   ]
  },
  {
   "cell_type": "markdown",
   "metadata": {},
   "source": [
    "### Deliverable 2: Reducing Data Dimensions Using PCA"
   ]
  },
  {
   "cell_type": "code",
   "execution_count": 12,
   "metadata": {
    "scrolled": false
   },
   "outputs": [
    {
     "data": {
      "text/plain": [
       "array([[-0.33285464,  1.0383583 , -0.56494435],\n",
       "       [-0.31620149,  1.03851511, -0.56537078],\n",
       "       [ 2.30004045,  1.64353216, -0.570651  ],\n",
       "       ...,\n",
       "       [ 0.3268763 , -2.33198921,  0.46344651],\n",
       "       [-0.17901176, -2.02470009,  0.4332558 ],\n",
       "       [-0.2828024 ,  0.82179669, -0.25676861]])"
      ]
     },
     "execution_count": 12,
     "metadata": {},
     "output_type": "execute_result"
    }
   ],
   "source": [
    "# Using PCA to reduce dimension to three principal components.\n",
    "# YOUR CODE HERE"
   ]
  },
  {
   "cell_type": "code",
   "execution_count": null,
   "metadata": {},
   "outputs": [],
   "source": [
    "crypto_df= crypto_df.set_index('Unnamed: 0')"
   ]
  },
  {
   "cell_type": "code",
   "execution_count": 29,
   "metadata": {},
   "outputs": [
    {
     "data": {
      "text/plain": [
       "['42',\n",
       " '404',\n",
       " '1337',\n",
       " 'BTC',\n",
       " 'ETH',\n",
       " 'LTC',\n",
       " 'DASH',\n",
       " 'XMR',\n",
       " 'ETC',\n",
       " 'ZEC',\n",
       " 'BTS',\n",
       " 'DGB',\n",
       " 'BTCD',\n",
       " 'XPY',\n",
       " 'PRC',\n",
       " 'KOBO',\n",
       " 'SPR',\n",
       " 'ARG',\n",
       " 'AUR',\n",
       " 'BLU',\n",
       " 'XMY',\n",
       " 'MOON',\n",
       " 'ZET',\n",
       " 'SXC',\n",
       " 'QTL',\n",
       " 'ENRG',\n",
       " 'QRK',\n",
       " 'RIC',\n",
       " 'DGC',\n",
       " 'BTB',\n",
       " 'CAT',\n",
       " 'CBX',\n",
       " 'CCN',\n",
       " 'CRYPT',\n",
       " 'CSC',\n",
       " 'DMD',\n",
       " 'XVG',\n",
       " 'DVC',\n",
       " 'EAC',\n",
       " 'EFL',\n",
       " 'EMC2',\n",
       " 'EMD',\n",
       " 'EXCL',\n",
       " 'FLT',\n",
       " 'FRK',\n",
       " 'FTC',\n",
       " 'GDC',\n",
       " 'GLC',\n",
       " 'GLD',\n",
       " 'HBN',\n",
       " 'HYP',\n",
       " 'IFC',\n",
       " 'IOC',\n",
       " 'IXC',\n",
       " 'KGC',\n",
       " 'LKY',\n",
       " 'LTB',\n",
       " 'MAX',\n",
       " 'MEC',\n",
       " 'MED',\n",
       " 'MINT',\n",
       " 'MINC',\n",
       " 'MZC',\n",
       " 'NAUT',\n",
       " 'NAV',\n",
       " 'NOBL',\n",
       " 'NMC',\n",
       " 'NYAN',\n",
       " 'OPAL',\n",
       " 'ORB',\n",
       " 'POT',\n",
       " 'PXC',\n",
       " 'RDD',\n",
       " 'RPC',\n",
       " 'SBC',\n",
       " 'SMC',\n",
       " 'SUPER',\n",
       " 'SYNC',\n",
       " 'SYS',\n",
       " 'TES',\n",
       " 'TGC',\n",
       " 'TIT',\n",
       " 'TOR',\n",
       " 'TRC',\n",
       " 'UNB',\n",
       " 'UNO',\n",
       " 'URO',\n",
       " 'USDE',\n",
       " 'UTC',\n",
       " 'VIA',\n",
       " 'VRC',\n",
       " 'VTC',\n",
       " 'WDC',\n",
       " 'XC',\n",
       " 'XCR',\n",
       " 'XJO',\n",
       " 'XST',\n",
       " 'ZCC',\n",
       " 'BCN',\n",
       " 'XDN',\n",
       " 'BURST',\n",
       " 'SJCX',\n",
       " 'MONA',\n",
       " 'NTRN',\n",
       " 'FAIR',\n",
       " 'NLG',\n",
       " 'RBY',\n",
       " 'PTC',\n",
       " 'KORE',\n",
       " 'WBB',\n",
       " 'NOTE',\n",
       " 'FLO',\n",
       " '8BIT',\n",
       " 'STV',\n",
       " 'ABY',\n",
       " 'FLDC',\n",
       " 'U',\n",
       " 'UIS',\n",
       " 'CYP',\n",
       " 'OMC',\n",
       " 'VTR',\n",
       " 'GRE',\n",
       " 'XCN',\n",
       " 'MSC',\n",
       " 'SOON',\n",
       " '1CR',\n",
       " 'ISL',\n",
       " 'NXS',\n",
       " 'MARS',\n",
       " 'CTO',\n",
       " 'ACP',\n",
       " 'DRZ',\n",
       " 'BSC',\n",
       " 'SQL',\n",
       " 'SONG',\n",
       " 'ZNY',\n",
       " 'DIGS',\n",
       " 'EXP',\n",
       " 'CON',\n",
       " 'SC',\n",
       " 'EMC',\n",
       " 'EGC',\n",
       " 'MND',\n",
       " 'I0C',\n",
       " 'DCR',\n",
       " 'RVR',\n",
       " 'HODL',\n",
       " 'EDRC',\n",
       " 'HTC',\n",
       " 'GAME',\n",
       " 'DBIC',\n",
       " 'DIEM',\n",
       " 'PWR',\n",
       " 'BLRY',\n",
       " 'GPU',\n",
       " 'ADZ',\n",
       " 'SOIL',\n",
       " 'YOC',\n",
       " 'SIB',\n",
       " 'ERC',\n",
       " 'ZEIT',\n",
       " 'SWING',\n",
       " 'SAFEX',\n",
       " 'NEBU',\n",
       " 'FRN',\n",
       " 'BOLI',\n",
       " 'XRA',\n",
       " 'REV',\n",
       " 'CKC',\n",
       " 'VIP',\n",
       " 'BSD',\n",
       " 'OMNI',\n",
       " 'LIR',\n",
       " 'PUT',\n",
       " 'IBANK',\n",
       " 'FRWC',\n",
       " 'MUDRA',\n",
       " 'PIZZA',\n",
       " 'LC',\n",
       " 'KMD',\n",
       " 'GB',\n",
       " 'CTC',\n",
       " 'KRB',\n",
       " 'BXT',\n",
       " 'ZYD',\n",
       " 'MST',\n",
       " 'ZNE',\n",
       " 'COVAL',\n",
       " 'ROOT',\n",
       " 'DOPE',\n",
       " 'BTCR',\n",
       " 'DLC',\n",
       " 'SCN',\n",
       " 'SH',\n",
       " 'BUZZ',\n",
       " 'XPO',\n",
       " 'PSB',\n",
       " 'HALLO',\n",
       " 'XZC',\n",
       " 'CFC',\n",
       " 'ROYAL',\n",
       " 'GNJ',\n",
       " 'TEAM',\n",
       " 'LANA',\n",
       " 'ELE',\n",
       " 'ZCL',\n",
       " 'ARK',\n",
       " 'INSANE',\n",
       " 'KLC',\n",
       " 'ATX',\n",
       " 'EMB',\n",
       " 'XEN',\n",
       " 'FRE',\n",
       " 'PLNC',\n",
       " 'ARCO',\n",
       " 'KURT',\n",
       " 'XCRE',\n",
       " 'ENT',\n",
       " 'EUC',\n",
       " 'BCF',\n",
       " 'XSN',\n",
       " 'BCCOIN',\n",
       " 'MONEY',\n",
       " 'XNG',\n",
       " 'XCI',\n",
       " 'RC',\n",
       " 'PND',\n",
       " 'UNITS',\n",
       " 'GAKH',\n",
       " 'ASAFE2',\n",
       " 'LTCR',\n",
       " 'OS76',\n",
       " 'BIC',\n",
       " 'HXX',\n",
       " 'KED',\n",
       " 'IOP',\n",
       " 'KUSH',\n",
       " 'PRX',\n",
       " 'PAC',\n",
       " 'IMPCH',\n",
       " 'CTL',\n",
       " 'ZBC',\n",
       " 'FRST',\n",
       " 'BVC',\n",
       " 'FIND',\n",
       " 'VLTC',\n",
       " 'ZER',\n",
       " 'CHAT',\n",
       " 'CDN',\n",
       " 'ZOI',\n",
       " 'RNS',\n",
       " 'DBIX',\n",
       " 'XVP',\n",
       " 'TAJ',\n",
       " 'IMX',\n",
       " 'EB3',\n",
       " 'ATMOS',\n",
       " 'HPC',\n",
       " 'CXT',\n",
       " 'MCRN',\n",
       " 'RAIN',\n",
       " 'IMS',\n",
       " 'ARGUS',\n",
       " 'LMC',\n",
       " 'PROC',\n",
       " 'XGR',\n",
       " 'BENJI',\n",
       " 'GRW',\n",
       " 'ILC',\n",
       " 'PHR',\n",
       " 'DEA',\n",
       " 'HTML5',\n",
       " 'USC',\n",
       " 'EQT',\n",
       " 'QTUM',\n",
       " 'QRL',\n",
       " 'ESP',\n",
       " 'DYN',\n",
       " 'NANO',\n",
       " 'CHAN',\n",
       " 'DCY',\n",
       " 'DNR',\n",
       " 'DP',\n",
       " 'VUC',\n",
       " 'BTPL',\n",
       " 'UNIFY',\n",
       " 'BRIT',\n",
       " 'SOCC',\n",
       " 'ARC',\n",
       " 'DAS',\n",
       " 'LINDA',\n",
       " 'XLC',\n",
       " 'ONION',\n",
       " 'BTX',\n",
       " 'GCN',\n",
       " 'SMART',\n",
       " 'SIGT',\n",
       " 'ONX',\n",
       " 'CRM',\n",
       " 'BCH',\n",
       " 'XMCC',\n",
       " 'DFT',\n",
       " 'VET',\n",
       " 'SOJ',\n",
       " 'STCN',\n",
       " 'NYC',\n",
       " 'FRAZ',\n",
       " 'KRONE',\n",
       " 'ACC',\n",
       " 'LINX',\n",
       " 'XCXT',\n",
       " 'ETHD',\n",
       " 'SUMO',\n",
       " 'ODN',\n",
       " 'ADA',\n",
       " 'REC',\n",
       " 'BTCZ',\n",
       " 'TZC',\n",
       " 'ELM',\n",
       " 'TER',\n",
       " 'VIVO',\n",
       " 'RUP',\n",
       " 'BTG',\n",
       " 'WOMEN',\n",
       " 'MAY',\n",
       " 'NAMO',\n",
       " 'LUX',\n",
       " 'PIRL',\n",
       " 'XIOS',\n",
       " 'BTDX',\n",
       " 'EBST',\n",
       " 'KEK',\n",
       " 'BLHC',\n",
       " 'XIN',\n",
       " 'PURA',\n",
       " 'INN',\n",
       " 'ELLA',\n",
       " 'GBX',\n",
       " 'MAG',\n",
       " 'TAU',\n",
       " 'ECA',\n",
       " 'BCD',\n",
       " 'XSH',\n",
       " 'CNBC',\n",
       " 'XUN',\n",
       " 'COAL',\n",
       " 'DAXX',\n",
       " 'BWK',\n",
       " 'KLKS',\n",
       " 'AC3',\n",
       " 'LTHN',\n",
       " 'GER',\n",
       " 'LTCU',\n",
       " 'POP',\n",
       " 'PNX',\n",
       " 'PHO',\n",
       " 'SUCR',\n",
       " 'SPK',\n",
       " 'WAGE',\n",
       " 'GUN',\n",
       " 'IRL',\n",
       " 'TROLL',\n",
       " 'LCP',\n",
       " 'MONK',\n",
       " 'PCOIN',\n",
       " 'UBTC',\n",
       " 'ITZ',\n",
       " 'TPAY',\n",
       " 'MCT',\n",
       " 'MBC',\n",
       " 'TRTL',\n",
       " 'MUN',\n",
       " 'USX',\n",
       " 'NBR',\n",
       " 'SSS',\n",
       " 'TRF',\n",
       " 'KREDS',\n",
       " 'TOKC',\n",
       " 'BBP',\n",
       " 'LCC',\n",
       " 'FLIP',\n",
       " 'LOT',\n",
       " 'CIF',\n",
       " 'SPD',\n",
       " 'POA',\n",
       " 'PUSHI',\n",
       " 'ELP',\n",
       " 'VLX',\n",
       " 'ONT',\n",
       " 'CLO',\n",
       " 'TUBE',\n",
       " 'PSD',\n",
       " 'ADK',\n",
       " 'BSX',\n",
       " 'BRIA',\n",
       " 'IC',\n",
       " 'BTL',\n",
       " 'MEDIC',\n",
       " 'ALPS',\n",
       " 'BITG',\n",
       " 'DEV',\n",
       " 'ABJ',\n",
       " 'SEM',\n",
       " 'FTO',\n",
       " 'CARE',\n",
       " 'NZL',\n",
       " 'XMC',\n",
       " 'PROTON',\n",
       " 'DEAL',\n",
       " 'JUMP',\n",
       " 'INFX',\n",
       " 'XBI',\n",
       " 'KEC',\n",
       " 'HWC',\n",
       " 'GIN',\n",
       " 'PLTC',\n",
       " 'LOKI',\n",
       " 'NCP',\n",
       " 'SIC',\n",
       " 'XT3',\n",
       " 'MGD',\n",
       " 'VIG',\n",
       " 'PLURA',\n",
       " 'EMAR',\n",
       " 'DKD',\n",
       " 'LYNX',\n",
       " 'POSQ',\n",
       " 'BWS',\n",
       " 'MUSE',\n",
       " 'XMN',\n",
       " 'PLUS1',\n",
       " 'AXE',\n",
       " 'TRVC',\n",
       " 'DTEM',\n",
       " 'GIC',\n",
       " 'PNY',\n",
       " 'ABS',\n",
       " 'VITAE',\n",
       " 'HEX',\n",
       " 'TPC',\n",
       " 'WEBC',\n",
       " 'RYO',\n",
       " 'URALS',\n",
       " 'QWC',\n",
       " 'ARE',\n",
       " 'EUNO',\n",
       " 'MMO',\n",
       " 'KETAN',\n",
       " 'PPAI',\n",
       " 'XDNA',\n",
       " 'PAXEX',\n",
       " 'AZART',\n",
       " 'TSC',\n",
       " 'KCASH',\n",
       " 'XCG',\n",
       " 'AAC',\n",
       " 'CRYP',\n",
       " 'BTXC',\n",
       " 'ACM',\n",
       " 'BSV',\n",
       " 'BITM',\n",
       " 'JMC',\n",
       " 'FRED',\n",
       " 'HERB',\n",
       " 'UMO',\n",
       " 'LIT',\n",
       " 'PIRATE',\n",
       " 'EXO',\n",
       " 'BLTG',\n",
       " 'OWC',\n",
       " 'BEAM',\n",
       " 'GALI',\n",
       " 'BTH',\n",
       " 'CSPN',\n",
       " 'CREDIT',\n",
       " 'SLC',\n",
       " 'DASHP',\n",
       " 'NSD',\n",
       " 'BEET',\n",
       " 'TTN',\n",
       " 'AWR',\n",
       " 'BLAST',\n",
       " 'XRC',\n",
       " 'GLT',\n",
       " 'INSN',\n",
       " 'ALX',\n",
       " 'LDOGE',\n",
       " 'SLR',\n",
       " 'TRK',\n",
       " 'UFO',\n",
       " 'OC',\n",
       " 'BLC',\n",
       " 'BITS',\n",
       " 'NEOS',\n",
       " 'HYPER',\n",
       " 'PINK',\n",
       " 'CESC',\n",
       " 'ADC',\n",
       " 'NKA',\n",
       " 'PIGGY',\n",
       " 'CRW',\n",
       " 'GEN',\n",
       " 'SMLY',\n",
       " 'MI',\n",
       " 'GRS',\n",
       " 'CPC',\n",
       " 'CLUB',\n",
       " 'RADS',\n",
       " 'BTA',\n",
       " 'PAK',\n",
       " 'CRB',\n",
       " 'OK',\n",
       " 'LSK',\n",
       " 'XHI',\n",
       " 'XWC',\n",
       " 'FSC',\n",
       " 'J',\n",
       " 'TRI',\n",
       " 'VOLLAR',\n",
       " 'EOS',\n",
       " 'RCC',\n",
       " 'OXY',\n",
       " 'TCH',\n",
       " 'WAVES',\n",
       " 'PART',\n",
       " 'BTT',\n",
       " 'NXT',\n",
       " 'ZEPH',\n",
       " 'GAP',\n",
       " 'BDX',\n",
       " 'ZEN',\n",
       " 'XBC']"
      ]
     },
     "execution_count": 29,
     "metadata": {},
     "output_type": "execute_result"
    }
   ],
   "source": [
    "X.index.tolist()"
   ]
  },
  {
   "cell_type": "code",
   "execution_count": 35,
   "metadata": {},
   "outputs": [
    {
     "data": {
      "text/html": [
       "<div>\n",
       "<style scoped>\n",
       "    .dataframe tbody tr th:only-of-type {\n",
       "        vertical-align: middle;\n",
       "    }\n",
       "\n",
       "    .dataframe tbody tr th {\n",
       "        vertical-align: top;\n",
       "    }\n",
       "\n",
       "    .dataframe thead th {\n",
       "        text-align: right;\n",
       "    }\n",
       "</style>\n",
       "<table border=\"1\" class=\"dataframe\">\n",
       "  <thead>\n",
       "    <tr style=\"text-align: right;\">\n",
       "      <th></th>\n",
       "      <th>PC 1</th>\n",
       "      <th>PC 2</th>\n",
       "      <th>PC 3</th>\n",
       "    </tr>\n",
       "    <tr>\n",
       "      <th></th>\n",
       "      <th></th>\n",
       "      <th></th>\n",
       "      <th></th>\n",
       "    </tr>\n",
       "  </thead>\n",
       "  <tbody>\n",
       "    <tr>\n",
       "      <th>42</th>\n",
       "      <td>-0.333923</td>\n",
       "      <td>1.106007</td>\n",
       "      <td>-0.537988</td>\n",
       "    </tr>\n",
       "    <tr>\n",
       "      <th>404</th>\n",
       "      <td>-0.317212</td>\n",
       "      <td>1.106036</td>\n",
       "      <td>-0.538442</td>\n",
       "    </tr>\n",
       "    <tr>\n",
       "      <th>1337</th>\n",
       "      <td>2.333744</td>\n",
       "      <td>1.614317</td>\n",
       "      <td>-0.644779</td>\n",
       "    </tr>\n",
       "    <tr>\n",
       "      <th>BTC</th>\n",
       "      <td>-0.148894</td>\n",
       "      <td>-1.351472</td>\n",
       "      <td>0.190857</td>\n",
       "    </tr>\n",
       "    <tr>\n",
       "      <th>ETH</th>\n",
       "      <td>-0.151657</td>\n",
       "      <td>-2.036418</td>\n",
       "      <td>0.363926</td>\n",
       "    </tr>\n",
       "    <tr>\n",
       "      <th>LTC</th>\n",
       "      <td>-0.171830</td>\n",
       "      <td>-1.059197</td>\n",
       "      <td>-0.002302</td>\n",
       "    </tr>\n",
       "    <tr>\n",
       "      <th>DASH</th>\n",
       "      <td>-0.404076</td>\n",
       "      <td>1.240198</td>\n",
       "      <td>-0.509543</td>\n",
       "    </tr>\n",
       "    <tr>\n",
       "      <th>XMR</th>\n",
       "      <td>-0.150751</td>\n",
       "      <td>-2.222877</td>\n",
       "      <td>0.314435</td>\n",
       "    </tr>\n",
       "    <tr>\n",
       "      <th>ETC</th>\n",
       "      <td>-0.150094</td>\n",
       "      <td>-2.036533</td>\n",
       "      <td>0.363901</td>\n",
       "    </tr>\n",
       "    <tr>\n",
       "      <th>ZEC</th>\n",
       "      <td>-0.113993</td>\n",
       "      <td>-2.176161</td>\n",
       "      <td>0.347181</td>\n",
       "    </tr>\n",
       "  </tbody>\n",
       "</table>\n",
       "</div>"
      ],
      "text/plain": [
       "          PC 1      PC 2      PC 3\n",
       "                                  \n",
       "42   -0.333923  1.106007 -0.537988\n",
       "404  -0.317212  1.106036 -0.538442\n",
       "1337  2.333744  1.614317 -0.644779\n",
       "BTC  -0.148894 -1.351472  0.190857\n",
       "ETH  -0.151657 -2.036418  0.363926\n",
       "LTC  -0.171830 -1.059197 -0.002302\n",
       "DASH -0.404076  1.240198 -0.509543\n",
       "XMR  -0.150751 -2.222877  0.314435\n",
       "ETC  -0.150094 -2.036533  0.363901\n",
       "ZEC  -0.113993 -2.176161  0.347181"
      ]
     },
     "execution_count": 35,
     "metadata": {},
     "output_type": "execute_result"
    }
   ],
   "source": [
    "# Transform PCA data to a DataFrame\n",
    "pcs_df = pd.DataFrame(data=X_pca, columns=[\"PC 1\", \"PC 2\", \"PC 3\"])\n",
    "pcs_df['Unnamed']= X.index.tolist()\n",
    "pcs_df= pcs_df.set_index('Unnamed')\n",
    "pcs_df.index.name = \"\" \n",
    "pcs_df.head(10)"
   ]
  },
  {
   "cell_type": "code",
   "execution_count": 13,
   "metadata": {
    "scrolled": true
   },
   "outputs": [
    {
     "name": "stdout",
     "output_type": "stream",
     "text": [
      "(532, 3)\n"
     ]
    },
    {
     "data": {
      "text/html": [
       "<div>\n",
       "<style scoped>\n",
       "    .dataframe tbody tr th:only-of-type {\n",
       "        vertical-align: middle;\n",
       "    }\n",
       "\n",
       "    .dataframe tbody tr th {\n",
       "        vertical-align: top;\n",
       "    }\n",
       "\n",
       "    .dataframe thead th {\n",
       "        text-align: right;\n",
       "    }\n",
       "</style>\n",
       "<table border=\"1\" class=\"dataframe\">\n",
       "  <thead>\n",
       "    <tr style=\"text-align: right;\">\n",
       "      <th></th>\n",
       "      <th>PC 1</th>\n",
       "      <th>PC 2</th>\n",
       "      <th>PC 3</th>\n",
       "    </tr>\n",
       "  </thead>\n",
       "  <tbody>\n",
       "    <tr>\n",
       "      <th>42</th>\n",
       "      <td>-0.332855</td>\n",
       "      <td>1.038358</td>\n",
       "      <td>-0.564944</td>\n",
       "    </tr>\n",
       "    <tr>\n",
       "      <th>404</th>\n",
       "      <td>-0.316201</td>\n",
       "      <td>1.038515</td>\n",
       "      <td>-0.565371</td>\n",
       "    </tr>\n",
       "    <tr>\n",
       "      <th>1337</th>\n",
       "      <td>2.300040</td>\n",
       "      <td>1.643532</td>\n",
       "      <td>-0.570651</td>\n",
       "    </tr>\n",
       "    <tr>\n",
       "      <th>BTC</th>\n",
       "      <td>-0.149023</td>\n",
       "      <td>-1.309646</td>\n",
       "      <td>0.182620</td>\n",
       "    </tr>\n",
       "    <tr>\n",
       "      <th>ETH</th>\n",
       "      <td>-0.162646</td>\n",
       "      <td>-2.019908</td>\n",
       "      <td>0.380155</td>\n",
       "    </tr>\n",
       "    <tr>\n",
       "      <th>LTC</th>\n",
       "      <td>-0.159391</td>\n",
       "      <td>-1.123165</td>\n",
       "      <td>-0.021041</td>\n",
       "    </tr>\n",
       "    <tr>\n",
       "      <th>DASH</th>\n",
       "      <td>-0.410793</td>\n",
       "      <td>1.224033</td>\n",
       "      <td>-0.517184</td>\n",
       "    </tr>\n",
       "    <tr>\n",
       "      <th>XMR</th>\n",
       "      <td>-0.148242</td>\n",
       "      <td>-2.196597</td>\n",
       "      <td>0.375973</td>\n",
       "    </tr>\n",
       "    <tr>\n",
       "      <th>ETC</th>\n",
       "      <td>-0.161087</td>\n",
       "      <td>-2.020010</td>\n",
       "      <td>0.380143</td>\n",
       "    </tr>\n",
       "    <tr>\n",
       "      <th>ZEC</th>\n",
       "      <td>-0.179011</td>\n",
       "      <td>-2.024700</td>\n",
       "      <td>0.433256</td>\n",
       "    </tr>\n",
       "  </tbody>\n",
       "</table>\n",
       "</div>"
      ],
      "text/plain": [
       "          PC 1      PC 2      PC 3\n",
       "42   -0.332855  1.038358 -0.564944\n",
       "404  -0.316201  1.038515 -0.565371\n",
       "1337  2.300040  1.643532 -0.570651\n",
       "BTC  -0.149023 -1.309646  0.182620\n",
       "ETH  -0.162646 -2.019908  0.380155\n",
       "LTC  -0.159391 -1.123165 -0.021041\n",
       "DASH -0.410793  1.224033 -0.517184\n",
       "XMR  -0.148242 -2.196597  0.375973\n",
       "ETC  -0.161087 -2.020010  0.380143\n",
       "ZEC  -0.179011 -2.024700  0.433256"
      ]
     },
     "execution_count": 13,
     "metadata": {},
     "output_type": "execute_result"
    }
   ],
   "source": [
    "# Create a DataFrame with the three principal components.\n",
    "# YOUR CODE HERE"
   ]
  },
  {
   "cell_type": "code",
   "execution_count": 36,
   "metadata": {},
   "outputs": [],
   "source": [
    "inertia = []\n",
    "k = list(range(1, 11))\n",
    "# Calculate the inertia for the range of K values\n",
    "for i in k:\n",
    "   km = KMeans(n_clusters=i, random_state=0)\n",
    "   km.fit(pcs_df)\n",
    "   inertia.append(km.inertia_)"
   ]
  },
  {
   "cell_type": "markdown",
   "metadata": {},
   "source": [
    "### Deliverable 3: Clustering Crytocurrencies Using K-Means\n",
    "\n",
    "#### Finding the Best Value for `k` Using the Elbow Curve"
   ]
  },
  {
   "cell_type": "code",
   "execution_count": 14,
   "metadata": {},
   "outputs": [
    {
     "data": {},
     "metadata": {},
     "output_type": "display_data"
    },
    {
     "data": {
      "application/vnd.holoviews_exec.v0+json": "",
      "text/html": [
       "<div id='1001'>\n",
       "\n",
       "\n",
       "\n",
       "\n",
       "\n",
       "  <div class=\"bk-root\" id=\"a9a3e117-2e0a-4dd9-b654-74009050dc29\" data-root-id=\"1001\"></div>\n",
       "</div>\n",
       "<script type=\"application/javascript\">(function(root) {\n",
       "  function embed_document(root) {\n",
       "  var docs_json = {\"8a6cd2be-716a-4d50-b05a-0722ba600585\":{\"roots\":{\"references\":[{\"attributes\":{},\"id\":\"1024\",\"type\":\"PanTool\"},{\"attributes\":{\"align\":null,\"below\":[{\"id\":\"1015\"}],\"center\":[{\"id\":\"1018\"},{\"id\":\"1022\"}],\"left\":[{\"id\":\"1019\"}],\"margin\":null,\"min_border_bottom\":10,\"min_border_left\":10,\"min_border_right\":10,\"min_border_top\":10,\"plot_height\":300,\"plot_width\":700,\"renderers\":[{\"id\":\"1042\"}],\"sizing_mode\":\"fixed\",\"title\":{\"id\":\"1007\"},\"toolbar\":{\"id\":\"1029\"},\"x_range\":{\"id\":\"1003\"},\"x_scale\":{\"id\":\"1011\"},\"y_range\":{\"id\":\"1004\"},\"y_scale\":{\"id\":\"1013\"}},\"id\":\"1006\",\"subtype\":\"Figure\",\"type\":\"Plot\"},{\"attributes\":{\"line_alpha\":0.1,\"line_color\":\"#1f77b3\",\"line_width\":2,\"x\":{\"field\":\"k\"},\"y\":{\"field\":\"inertia\"}},\"id\":\"1040\",\"type\":\"Line\"},{\"attributes\":{\"axis_label\":\"inertia\",\"bounds\":\"auto\",\"formatter\":{\"id\":\"1050\"},\"major_label_orientation\":\"horizontal\",\"ticker\":{\"id\":\"1020\"}},\"id\":\"1019\",\"type\":\"LinearAxis\"},{\"attributes\":{\"end\":10.0,\"reset_end\":10.0,\"reset_start\":1.0,\"start\":1.0,\"tags\":[[[\"k\",\"k\",null]]]},\"id\":\"1003\",\"type\":\"Range1d\"},{\"attributes\":{\"children\":[{\"id\":\"1002\"},{\"id\":\"1006\"},{\"id\":\"1065\"}],\"margin\":[0,0,0,0],\"name\":\"Row01521\",\"tags\":[\"embedded\"]},\"id\":\"1001\",\"type\":\"Row\"},{\"attributes\":{\"axis\":{\"id\":\"1015\"},\"grid_line_color\":null,\"ticker\":null},\"id\":\"1018\",\"type\":\"Grid\"},{\"attributes\":{},\"id\":\"1013\",\"type\":\"LinearScale\"},{\"attributes\":{\"line_alpha\":0.2,\"line_color\":\"#1f77b3\",\"line_width\":2,\"x\":{\"field\":\"k\"},\"y\":{\"field\":\"inertia\"}},\"id\":\"1041\",\"type\":\"Line\"},{\"attributes\":{\"margin\":[5,5,5,5],\"name\":\"HSpacer01525\",\"sizing_mode\":\"stretch_width\"},\"id\":\"1002\",\"type\":\"Spacer\"},{\"attributes\":{\"axis_label\":\"k\",\"bounds\":\"auto\",\"formatter\":{\"id\":\"1046\"},\"major_label_orientation\":\"horizontal\",\"ticker\":{\"id\":\"1044\"}},\"id\":\"1015\",\"type\":\"LinearAxis\"},{\"attributes\":{},\"id\":\"1046\",\"type\":\"BasicTickFormatter\"},{\"attributes\":{\"data\":{\"inertia\":{\"__ndarray__\":\"zD5XhqlyrEDXXA59QVijQO6MnU50K5dAnbBP6Ms/f0D3bC7rjBdzQNmhq2rxMG5AfHAqPw0NaEBcr7eI+pZhQL3Zurfsr1tAXA5Th+DKVUA=\",\"dtype\":\"float64\",\"order\":\"little\",\"shape\":[10]},\"k\":[1,2,3,4,5,6,7,8,9,10]},\"selected\":{\"id\":\"1037\"},\"selection_policy\":{\"id\":\"1057\"}},\"id\":\"1036\",\"type\":\"ColumnDataSource\"},{\"attributes\":{},\"id\":\"1037\",\"type\":\"Selection\"},{\"attributes\":{\"overlay\":{\"id\":\"1028\"}},\"id\":\"1026\",\"type\":\"BoxZoomTool\"},{\"attributes\":{},\"id\":\"1057\",\"type\":\"UnionRenderers\"},{\"attributes\":{},\"id\":\"1011\",\"type\":\"LinearScale\"},{\"attributes\":{},\"id\":\"1027\",\"type\":\"ResetTool\"},{\"attributes\":{\"ticks\":[1,2,3,4,5,6,7,8,9,10]},\"id\":\"1044\",\"type\":\"FixedTicker\"},{\"attributes\":{\"callback\":null,\"renderers\":[{\"id\":\"1042\"}],\"tags\":[\"hv_created\"],\"tooltips\":[[\"k\",\"@{k}\"],[\"inertia\",\"@{inertia}\"]]},\"id\":\"1005\",\"type\":\"HoverTool\"},{\"attributes\":{\"text\":\"Elbow Curve\",\"text_color\":{\"value\":\"black\"},\"text_font_size\":{\"value\":\"12pt\"}},\"id\":\"1007\",\"type\":\"Title\"},{\"attributes\":{\"data_source\":{\"id\":\"1036\"},\"glyph\":{\"id\":\"1039\"},\"hover_glyph\":null,\"muted_glyph\":{\"id\":\"1041\"},\"nonselection_glyph\":{\"id\":\"1040\"},\"selection_glyph\":null,\"view\":{\"id\":\"1043\"}},\"id\":\"1042\",\"type\":\"GlyphRenderer\"},{\"attributes\":{\"end\":3996.7472179564916,\"reset_end\":3996.7472179564916,\"reset_start\":-268.2461607536518,\"start\":-268.2461607536518,\"tags\":[[[\"inertia\",\"inertia\",null]]]},\"id\":\"1004\",\"type\":\"Range1d\"},{\"attributes\":{\"line_color\":\"#1f77b3\",\"line_width\":2,\"x\":{\"field\":\"k\"},\"y\":{\"field\":\"inertia\"}},\"id\":\"1039\",\"type\":\"Line\"},{\"attributes\":{},\"id\":\"1025\",\"type\":\"WheelZoomTool\"},{\"attributes\":{},\"id\":\"1050\",\"type\":\"BasicTickFormatter\"},{\"attributes\":{\"active_drag\":\"auto\",\"active_inspect\":\"auto\",\"active_multi\":null,\"active_scroll\":\"auto\",\"active_tap\":\"auto\",\"tools\":[{\"id\":\"1005\"},{\"id\":\"1023\"},{\"id\":\"1024\"},{\"id\":\"1025\"},{\"id\":\"1026\"},{\"id\":\"1027\"}]},\"id\":\"1029\",\"type\":\"Toolbar\"},{\"attributes\":{},\"id\":\"1020\",\"type\":\"BasicTicker\"},{\"attributes\":{\"margin\":[5,5,5,5],\"name\":\"HSpacer01526\",\"sizing_mode\":\"stretch_width\"},\"id\":\"1065\",\"type\":\"Spacer\"},{\"attributes\":{\"axis\":{\"id\":\"1019\"},\"dimension\":1,\"grid_line_color\":null,\"ticker\":null},\"id\":\"1022\",\"type\":\"Grid\"},{\"attributes\":{\"bottom_units\":\"screen\",\"fill_alpha\":0.5,\"fill_color\":\"lightgrey\",\"left_units\":\"screen\",\"level\":\"overlay\",\"line_alpha\":1.0,\"line_color\":\"black\",\"line_dash\":[4,4],\"line_width\":2,\"right_units\":\"screen\",\"top_units\":\"screen\"},\"id\":\"1028\",\"type\":\"BoxAnnotation\"},{\"attributes\":{\"source\":{\"id\":\"1036\"}},\"id\":\"1043\",\"type\":\"CDSView\"},{\"attributes\":{},\"id\":\"1023\",\"type\":\"SaveTool\"}],\"root_ids\":[\"1001\"]},\"title\":\"Bokeh Application\",\"version\":\"2.1.1\"}};\n",
       "  var render_items = [{\"docid\":\"8a6cd2be-716a-4d50-b05a-0722ba600585\",\"root_ids\":[\"1001\"],\"roots\":{\"1001\":\"a9a3e117-2e0a-4dd9-b654-74009050dc29\"}}];\n",
       "  root.Bokeh.embed.embed_items_notebook(docs_json, render_items);\n",
       "  }\n",
       "if (root.Bokeh !== undefined) {\n",
       "    embed_document(root);\n",
       "  } else {\n",
       "    var attempts = 0;\n",
       "    var timer = setInterval(function(root) {\n",
       "      if (root.Bokeh !== undefined) {\n",
       "        clearInterval(timer);\n",
       "        embed_document(root);\n",
       "      } else if (document.readyState == \"complete\") {\n",
       "        attempts++;\n",
       "        if (attempts > 100) {\n",
       "          clearInterval(timer);\n",
       "          console.log(\"Bokeh: ERROR: Unable to run BokehJS code because BokehJS library is missing\");\n",
       "        }\n",
       "      }\n",
       "    }, 10, root)\n",
       "  }\n",
       "})(window);</script>"
      ],
      "text/plain": [
       ":Curve   [k]   (inertia)"
      ]
     },
     "execution_count": 14,
     "metadata": {
      "application/vnd.holoviews_exec.v0+json": {
       "id": "1001"
      }
     },
     "output_type": "execute_result"
    }
   ],
   "source": [
    "# Create an elbow curve to find the best value for K.\n",
    "# YOUR CODE HERE\n"
   ]
  },
  {
   "cell_type": "code",
   "execution_count": 64,
   "metadata": {},
   "outputs": [
    {
     "data": {
      "text/plain": [
       "array([0, 0, 0, 1, 1, 1, 0, 1, 1, 1, 0, 1, 0, 0, 1, 0, 1, 1, 0, 0, 1, 1,\n",
       "       1, 1, 1, 0, 1, 1, 1, 0, 1, 0, 1, 1, 0, 0, 1, 1, 1, 1, 1, 1, 0, 0,\n",
       "       1, 1, 1, 1, 1, 0, 0, 1, 0, 1, 1, 1, 1, 0, 1, 1, 0, 1, 0, 0, 0, 1,\n",
       "       1, 1, 0, 0, 0, 0, 0, 1, 1, 1, 0, 0, 1, 0, 1, 0, 0, 1, 1, 1, 1, 0,\n",
       "       0, 1, 0, 1, 1, 0, 0, 1, 0, 0, 1, 1, 0, 0, 1, 0, 0, 1, 0, 1, 0, 1,\n",
       "       0, 1, 0, 0, 1, 1, 0, 1, 1, 1, 0, 1, 1, 1, 1, 1, 0, 0, 1, 1, 1, 0,\n",
       "       1, 0, 1, 1, 0, 1, 0, 1, 0, 0, 1, 1, 0, 1, 1, 0, 0, 1, 0, 1, 0, 0,\n",
       "       0, 1, 1, 1, 1, 0, 0, 0, 0, 0, 1, 1, 0, 0, 0, 0, 0, 1, 0, 0, 0, 0,\n",
       "       0, 1, 0, 1, 0, 0, 1, 0, 1, 0, 0, 1, 0, 1, 0, 1, 0, 1, 0, 0, 0, 0,\n",
       "       1, 0, 0, 0, 0, 0, 1, 1, 0, 0, 1, 1, 0, 0, 0, 0, 0, 1, 0, 0, 0, 0,\n",
       "       0, 0, 0, 0, 1, 0, 0, 0, 0, 0, 0, 1, 1, 1, 0, 0, 0, 0, 1, 0, 1, 0,\n",
       "       0, 1, 0, 1, 1, 0, 1, 1, 0, 1, 0, 0, 0, 1, 0, 0, 1, 0, 0, 0, 0, 0,\n",
       "       0, 0, 1, 0, 1, 0, 0, 0, 0, 1, 0, 1, 0, 1, 1, 1, 1, 0, 1, 0, 0, 1,\n",
       "       0, 1, 1, 1, 0, 1, 0, 1, 1, 1, 0, 1, 0, 1, 0, 0, 3, 1, 0, 1, 1, 1,\n",
       "       1, 1, 0, 0, 1, 0, 0, 0, 1, 0, 1, 0, 1, 0, 1, 0, 0, 0, 0, 1, 0, 0,\n",
       "       1, 0, 0, 0, 1, 1, 1, 1, 0, 0, 0, 0, 1, 0, 1, 1, 1, 0, 0, 1, 1, 0,\n",
       "       0, 1, 0, 1, 1, 1, 0, 1, 1, 0, 0, 0, 1, 1, 1, 0, 0, 0, 1, 1, 0, 1,\n",
       "       1, 1, 1, 0, 3, 3, 1, 1, 1, 0, 3, 0, 0, 0, 0, 1, 1, 1, 1, 0, 0, 0,\n",
       "       1, 0, 1, 0, 0, 0, 0, 1, 0, 0, 1, 0, 0, 1, 1, 0, 1, 0, 1, 1, 1, 1,\n",
       "       0, 0, 1, 0, 1, 0, 0, 0, 0, 0, 0, 1, 1, 1, 0, 0, 0, 0, 0, 0, 1, 0,\n",
       "       1, 1, 1, 1, 0, 0, 0, 0, 1, 0, 0, 1, 0, 0, 1, 3, 1, 0, 1, 1, 0, 0,\n",
       "       1, 0, 1, 1, 1, 1, 1, 0, 1, 0, 1, 0, 0, 1, 0, 0, 0, 0, 0, 1, 1, 1,\n",
       "       0, 0, 0, 1, 0, 1, 0, 1, 0, 0, 0, 0, 1, 0, 0, 0, 1, 0, 1, 0, 1, 0,\n",
       "       0, 0, 1, 1, 0, 0, 0, 0, 0, 0, 1, 0, 1, 0, 1, 0, 0, 3, 0, 2, 0, 0,\n",
       "       0, 1, 1, 0])"
      ]
     },
     "execution_count": 64,
     "metadata": {},
     "output_type": "execute_result"
    }
   ],
   "source": [
    "\n",
    "# Initialize the K-Means model\n",
    "model = KMeans(n_clusters=4, random_state=0)\n",
    "\n",
    "# Fit the model\n",
    "model.fit(pcs_df)\n",
    "\n",
    "# Predict clusters\n",
    "predictions = model.predict(pcs_df)\n",
    "\n",
    "#print(predictions)\n",
    "\n",
    "predictions\n",
    "    "
   ]
  },
  {
   "cell_type": "markdown",
   "metadata": {},
   "source": [
    "Running K-Means with `k=4`"
   ]
  },
  {
   "cell_type": "code",
   "execution_count": 15,
   "metadata": {},
   "outputs": [
    {
     "data": {
      "text/plain": [
       "array([0, 0, 0, 1, 1, 1, 0, 1, 1, 1, 0, 1, 0, 0, 1, 0, 1, 1, 0, 0, 1, 1,\n",
       "       1, 1, 1, 0, 1, 1, 1, 0, 1, 0, 1, 1, 0, 0, 1, 1, 1, 1, 1, 1, 0, 0,\n",
       "       1, 1, 1, 1, 1, 0, 0, 1, 0, 1, 1, 1, 1, 0, 1, 1, 0, 1, 0, 0, 0, 1,\n",
       "       1, 1, 0, 0, 0, 0, 0, 1, 1, 1, 0, 0, 1, 0, 1, 0, 0, 1, 1, 1, 1, 0,\n",
       "       0, 1, 0, 1, 1, 0, 0, 1, 0, 0, 1, 1, 0, 0, 1, 0, 0, 1, 0, 1, 0, 1,\n",
       "       0, 1, 0, 0, 1, 1, 0, 1, 1, 1, 0, 1, 1, 1, 1, 1, 0, 0, 1, 1, 1, 0,\n",
       "       1, 0, 1, 1, 0, 1, 0, 1, 0, 0, 1, 1, 0, 1, 1, 0, 0, 1, 0, 1, 0, 0,\n",
       "       0, 1, 1, 1, 1, 0, 0, 0, 0, 0, 1, 1, 0, 0, 0, 0, 0, 1, 0, 0, 0, 0,\n",
       "       0, 1, 0, 1, 0, 0, 1, 0, 1, 0, 0, 1, 0, 1, 0, 1, 0, 1, 0, 0, 0, 0,\n",
       "       1, 0, 0, 0, 0, 0, 1, 1, 0, 0, 1, 1, 0, 0, 0, 0, 0, 1, 0, 0, 0, 0,\n",
       "       0, 0, 0, 0, 1, 0, 0, 0, 0, 0, 0, 1, 1, 1, 0, 0, 0, 0, 1, 0, 1, 0,\n",
       "       0, 1, 0, 1, 1, 0, 1, 1, 0, 1, 0, 0, 0, 1, 0, 0, 1, 0, 0, 0, 0, 0,\n",
       "       0, 0, 1, 0, 1, 0, 0, 0, 0, 1, 0, 1, 0, 1, 1, 1, 1, 0, 1, 0, 0, 1,\n",
       "       0, 1, 1, 1, 0, 1, 0, 1, 1, 1, 0, 1, 0, 1, 0, 0, 0, 1, 0, 1, 1, 1,\n",
       "       1, 1, 0, 0, 1, 0, 0, 0, 1, 0, 1, 0, 1, 0, 1, 0, 0, 0, 0, 1, 0, 0,\n",
       "       1, 0, 0, 0, 1, 1, 1, 1, 0, 0, 0, 0, 1, 0, 1, 1, 1, 0, 0, 1, 1, 0,\n",
       "       0, 1, 0, 1, 1, 1, 0, 1, 1, 0, 0, 0, 1, 1, 1, 0, 0, 0, 1, 1, 0, 1,\n",
       "       1, 1, 1, 0, 3, 3, 1, 1, 1, 0, 3, 0, 0, 0, 0, 1, 1, 1, 1, 0, 0, 0,\n",
       "       1, 0, 1, 0, 0, 0, 0, 1, 0, 0, 1, 0, 0, 1, 1, 0, 1, 0, 1, 1, 1, 1,\n",
       "       0, 0, 1, 0, 1, 0, 0, 0, 0, 0, 0, 1, 1, 1, 0, 0, 0, 0, 0, 0, 1, 0,\n",
       "       1, 1, 1, 1, 0, 0, 0, 0, 1, 0, 0, 1, 0, 0, 1, 0, 1, 0, 1, 1, 0, 0,\n",
       "       1, 0, 1, 1, 0, 1, 1, 0, 1, 0, 1, 0, 0, 1, 0, 0, 0, 0, 0, 1, 1, 1,\n",
       "       0, 0, 0, 1, 0, 1, 0, 1, 0, 0, 0, 0, 1, 0, 0, 0, 1, 0, 1, 0, 1, 0,\n",
       "       0, 0, 1, 1, 0, 0, 0, 0, 0, 0, 1, 0, 1, 0, 1, 0, 0, 3, 0, 2, 0, 0,\n",
       "       0, 1, 1, 0], dtype=int32)"
      ]
     },
     "execution_count": 15,
     "metadata": {},
     "output_type": "execute_result"
    }
   ],
   "source": [
    "# Initialize the K-Means model.\n",
    "# YOUR CODE HERE\n",
    "\n",
    "# Fit the model\n",
    "# YOUR CODE HERE\n",
    "\n",
    "# Predict clusters\n",
    "# YOUR CODE HERE"
   ]
  },
  {
   "cell_type": "code",
   "execution_count": 50,
   "metadata": {},
   "outputs": [
    {
     "name": "stdout",
     "output_type": "stream",
     "text": [
      "(532, 9)\n"
     ]
    },
    {
     "data": {
      "text/html": [
       "<div>\n",
       "<style scoped>\n",
       "    .dataframe tbody tr th:only-of-type {\n",
       "        vertical-align: middle;\n",
       "    }\n",
       "\n",
       "    .dataframe tbody tr th {\n",
       "        vertical-align: top;\n",
       "    }\n",
       "\n",
       "    .dataframe thead th {\n",
       "        text-align: right;\n",
       "    }\n",
       "</style>\n",
       "<table border=\"1\" class=\"dataframe\">\n",
       "  <thead>\n",
       "    <tr style=\"text-align: right;\">\n",
       "      <th></th>\n",
       "      <th>Algorithm</th>\n",
       "      <th>ProofType</th>\n",
       "      <th>TotalCoinsMined</th>\n",
       "      <th>TotalCoinSupply</th>\n",
       "      <th>PC 1</th>\n",
       "      <th>PC 2</th>\n",
       "      <th>PC 3</th>\n",
       "      <th>CoinName</th>\n",
       "      <th>class</th>\n",
       "    </tr>\n",
       "    <tr>\n",
       "      <th></th>\n",
       "      <th></th>\n",
       "      <th></th>\n",
       "      <th></th>\n",
       "      <th></th>\n",
       "      <th></th>\n",
       "      <th></th>\n",
       "      <th></th>\n",
       "      <th></th>\n",
       "      <th></th>\n",
       "    </tr>\n",
       "  </thead>\n",
       "  <tbody>\n",
       "    <tr>\n",
       "      <th>42</th>\n",
       "      <td>Scrypt</td>\n",
       "      <td>PoW/PoS</td>\n",
       "      <td>4.199995e+01</td>\n",
       "      <td>4.200000e+01</td>\n",
       "      <td>-0.333923</td>\n",
       "      <td>1.106007</td>\n",
       "      <td>-0.537988</td>\n",
       "      <td>42 Coin</td>\n",
       "      <td>0</td>\n",
       "    </tr>\n",
       "    <tr>\n",
       "      <th>404</th>\n",
       "      <td>Scrypt</td>\n",
       "      <td>PoW/PoS</td>\n",
       "      <td>1.055185e+09</td>\n",
       "      <td>5.320000e+08</td>\n",
       "      <td>-0.317212</td>\n",
       "      <td>1.106036</td>\n",
       "      <td>-0.538442</td>\n",
       "      <td>404Coin</td>\n",
       "      <td>0</td>\n",
       "    </tr>\n",
       "    <tr>\n",
       "      <th>1337</th>\n",
       "      <td>X13</td>\n",
       "      <td>PoW/PoS</td>\n",
       "      <td>2.927942e+10</td>\n",
       "      <td>3.141593e+11</td>\n",
       "      <td>2.333744</td>\n",
       "      <td>1.614317</td>\n",
       "      <td>-0.644779</td>\n",
       "      <td>EliteCoin</td>\n",
       "      <td>0</td>\n",
       "    </tr>\n",
       "    <tr>\n",
       "      <th>BTC</th>\n",
       "      <td>SHA-256</td>\n",
       "      <td>PoW</td>\n",
       "      <td>1.792718e+07</td>\n",
       "      <td>2.100000e+07</td>\n",
       "      <td>-0.148894</td>\n",
       "      <td>-1.351472</td>\n",
       "      <td>0.190857</td>\n",
       "      <td>Bitcoin</td>\n",
       "      <td>1</td>\n",
       "    </tr>\n",
       "    <tr>\n",
       "      <th>ETH</th>\n",
       "      <td>Ethash</td>\n",
       "      <td>PoW</td>\n",
       "      <td>1.076842e+08</td>\n",
       "      <td>0.000000e+00</td>\n",
       "      <td>-0.151657</td>\n",
       "      <td>-2.036418</td>\n",
       "      <td>0.363926</td>\n",
       "      <td>Ethereum</td>\n",
       "      <td>1</td>\n",
       "    </tr>\n",
       "    <tr>\n",
       "      <th>LTC</th>\n",
       "      <td>Scrypt</td>\n",
       "      <td>PoW</td>\n",
       "      <td>6.303924e+07</td>\n",
       "      <td>8.400000e+07</td>\n",
       "      <td>-0.171830</td>\n",
       "      <td>-1.059197</td>\n",
       "      <td>-0.002302</td>\n",
       "      <td>Litecoin</td>\n",
       "      <td>1</td>\n",
       "    </tr>\n",
       "    <tr>\n",
       "      <th>DASH</th>\n",
       "      <td>X11</td>\n",
       "      <td>PoW/PoS</td>\n",
       "      <td>9.031294e+06</td>\n",
       "      <td>2.200000e+07</td>\n",
       "      <td>-0.404076</td>\n",
       "      <td>1.240198</td>\n",
       "      <td>-0.509543</td>\n",
       "      <td>Dash</td>\n",
       "      <td>0</td>\n",
       "    </tr>\n",
       "    <tr>\n",
       "      <th>XMR</th>\n",
       "      <td>CryptoNight-V7</td>\n",
       "      <td>PoW</td>\n",
       "      <td>1.720114e+07</td>\n",
       "      <td>0.000000e+00</td>\n",
       "      <td>-0.150751</td>\n",
       "      <td>-2.222877</td>\n",
       "      <td>0.314435</td>\n",
       "      <td>Monero</td>\n",
       "      <td>1</td>\n",
       "    </tr>\n",
       "    <tr>\n",
       "      <th>ETC</th>\n",
       "      <td>Ethash</td>\n",
       "      <td>PoW</td>\n",
       "      <td>1.133597e+08</td>\n",
       "      <td>2.100000e+08</td>\n",
       "      <td>-0.150094</td>\n",
       "      <td>-2.036533</td>\n",
       "      <td>0.363901</td>\n",
       "      <td>Ethereum Classic</td>\n",
       "      <td>1</td>\n",
       "    </tr>\n",
       "    <tr>\n",
       "      <th>ZEC</th>\n",
       "      <td>Equihash</td>\n",
       "      <td>PoW</td>\n",
       "      <td>7.383056e+06</td>\n",
       "      <td>2.100000e+07</td>\n",
       "      <td>-0.113993</td>\n",
       "      <td>-2.176161</td>\n",
       "      <td>0.347181</td>\n",
       "      <td>ZCash</td>\n",
       "      <td>1</td>\n",
       "    </tr>\n",
       "  </tbody>\n",
       "</table>\n",
       "</div>"
      ],
      "text/plain": [
       "           Algorithm ProofType  TotalCoinsMined  TotalCoinSupply      PC 1  \\\n",
       "                                                                             \n",
       "42            Scrypt   PoW/PoS     4.199995e+01     4.200000e+01 -0.333923   \n",
       "404           Scrypt   PoW/PoS     1.055185e+09     5.320000e+08 -0.317212   \n",
       "1337             X13   PoW/PoS     2.927942e+10     3.141593e+11  2.333744   \n",
       "BTC          SHA-256       PoW     1.792718e+07     2.100000e+07 -0.148894   \n",
       "ETH           Ethash       PoW     1.076842e+08     0.000000e+00 -0.151657   \n",
       "LTC           Scrypt       PoW     6.303924e+07     8.400000e+07 -0.171830   \n",
       "DASH             X11   PoW/PoS     9.031294e+06     2.200000e+07 -0.404076   \n",
       "XMR   CryptoNight-V7       PoW     1.720114e+07     0.000000e+00 -0.150751   \n",
       "ETC           Ethash       PoW     1.133597e+08     2.100000e+08 -0.150094   \n",
       "ZEC         Equihash       PoW     7.383056e+06     2.100000e+07 -0.113993   \n",
       "\n",
       "          PC 2      PC 3          CoinName  class  \n",
       "                                                   \n",
       "42    1.106007 -0.537988           42 Coin      0  \n",
       "404   1.106036 -0.538442           404Coin      0  \n",
       "1337  1.614317 -0.644779         EliteCoin      0  \n",
       "BTC  -1.351472  0.190857           Bitcoin      1  \n",
       "ETH  -2.036418  0.363926          Ethereum      1  \n",
       "LTC  -1.059197 -0.002302          Litecoin      1  \n",
       "DASH  1.240198 -0.509543              Dash      0  \n",
       "XMR  -2.222877  0.314435            Monero      1  \n",
       "ETC  -2.036533  0.363901  Ethereum Classic      1  \n",
       "ZEC  -2.176161  0.347181             ZCash      1  "
      ]
     },
     "execution_count": 50,
     "metadata": {},
     "output_type": "execute_result"
    }
   ],
   "source": [
    "# Create a new DataFrame including predicted clusters and cryptocurrencies features.\n",
    "# Concatentate the crypto_df and pcs_df DataFrames on the same columns.\n",
    "clustered_df = pd.concat([new_crypto_df_trading, pcs_df], axis=1, sort=False)\n",
    "#  Add a new column, \"CoinName\" to the clustered_df DataFrame that holds the names of the cryptocurrencies.\n",
    "clustered_df['CoinName'] = crypto_name_df['CoinName']\n",
    "#  Add a new column, \"Class\" to the clustered_df DataFrame that holds the predictions.\n",
    "clustered_df[\"class\"] = model.labels_\n",
    "# Print the shape of the clustered_df\n",
    "print(clustered_df.shape)\n",
    "clustered_df.head(10)\n"
   ]
  },
  {
   "cell_type": "code",
   "execution_count": 16,
   "metadata": {},
   "outputs": [
    {
     "name": "stdout",
     "output_type": "stream",
     "text": [
      "(532, 9)\n"
     ]
    },
    {
     "data": {
      "text/html": [
       "<div>\n",
       "<style scoped>\n",
       "    .dataframe tbody tr th:only-of-type {\n",
       "        vertical-align: middle;\n",
       "    }\n",
       "\n",
       "    .dataframe tbody tr th {\n",
       "        vertical-align: top;\n",
       "    }\n",
       "\n",
       "    .dataframe thead th {\n",
       "        text-align: right;\n",
       "    }\n",
       "</style>\n",
       "<table border=\"1\" class=\"dataframe\">\n",
       "  <thead>\n",
       "    <tr style=\"text-align: right;\">\n",
       "      <th></th>\n",
       "      <th>Algorithm</th>\n",
       "      <th>ProofType</th>\n",
       "      <th>TotalCoinsMined</th>\n",
       "      <th>TotalCoinSupply</th>\n",
       "      <th>PC 1</th>\n",
       "      <th>PC 2</th>\n",
       "      <th>PC 3</th>\n",
       "      <th>CoinName</th>\n",
       "      <th>Class</th>\n",
       "    </tr>\n",
       "  </thead>\n",
       "  <tbody>\n",
       "    <tr>\n",
       "      <th>42</th>\n",
       "      <td>Scrypt</td>\n",
       "      <td>PoW/PoS</td>\n",
       "      <td>4.199995e+01</td>\n",
       "      <td>42</td>\n",
       "      <td>-0.332855</td>\n",
       "      <td>1.038358</td>\n",
       "      <td>-0.564944</td>\n",
       "      <td>42 Coin</td>\n",
       "      <td>0</td>\n",
       "    </tr>\n",
       "    <tr>\n",
       "      <th>404</th>\n",
       "      <td>Scrypt</td>\n",
       "      <td>PoW/PoS</td>\n",
       "      <td>1.055185e+09</td>\n",
       "      <td>532000000</td>\n",
       "      <td>-0.316201</td>\n",
       "      <td>1.038515</td>\n",
       "      <td>-0.565371</td>\n",
       "      <td>404Coin</td>\n",
       "      <td>0</td>\n",
       "    </tr>\n",
       "    <tr>\n",
       "      <th>1337</th>\n",
       "      <td>X13</td>\n",
       "      <td>PoW/PoS</td>\n",
       "      <td>2.927942e+10</td>\n",
       "      <td>314159265359</td>\n",
       "      <td>2.300040</td>\n",
       "      <td>1.643532</td>\n",
       "      <td>-0.570651</td>\n",
       "      <td>EliteCoin</td>\n",
       "      <td>0</td>\n",
       "    </tr>\n",
       "    <tr>\n",
       "      <th>BTC</th>\n",
       "      <td>SHA-256</td>\n",
       "      <td>PoW</td>\n",
       "      <td>1.792718e+07</td>\n",
       "      <td>21000000</td>\n",
       "      <td>-0.149023</td>\n",
       "      <td>-1.309646</td>\n",
       "      <td>0.182620</td>\n",
       "      <td>Bitcoin</td>\n",
       "      <td>1</td>\n",
       "    </tr>\n",
       "    <tr>\n",
       "      <th>ETH</th>\n",
       "      <td>Ethash</td>\n",
       "      <td>PoW</td>\n",
       "      <td>1.076842e+08</td>\n",
       "      <td>0</td>\n",
       "      <td>-0.162646</td>\n",
       "      <td>-2.019908</td>\n",
       "      <td>0.380155</td>\n",
       "      <td>Ethereum</td>\n",
       "      <td>1</td>\n",
       "    </tr>\n",
       "    <tr>\n",
       "      <th>LTC</th>\n",
       "      <td>Scrypt</td>\n",
       "      <td>PoW</td>\n",
       "      <td>6.303924e+07</td>\n",
       "      <td>84000000</td>\n",
       "      <td>-0.159391</td>\n",
       "      <td>-1.123165</td>\n",
       "      <td>-0.021041</td>\n",
       "      <td>Litecoin</td>\n",
       "      <td>1</td>\n",
       "    </tr>\n",
       "    <tr>\n",
       "      <th>DASH</th>\n",
       "      <td>X11</td>\n",
       "      <td>PoW/PoS</td>\n",
       "      <td>9.031294e+06</td>\n",
       "      <td>22000000</td>\n",
       "      <td>-0.410793</td>\n",
       "      <td>1.224033</td>\n",
       "      <td>-0.517184</td>\n",
       "      <td>Dash</td>\n",
       "      <td>0</td>\n",
       "    </tr>\n",
       "    <tr>\n",
       "      <th>XMR</th>\n",
       "      <td>CryptoNight-V7</td>\n",
       "      <td>PoW</td>\n",
       "      <td>1.720114e+07</td>\n",
       "      <td>0</td>\n",
       "      <td>-0.148242</td>\n",
       "      <td>-2.196597</td>\n",
       "      <td>0.375973</td>\n",
       "      <td>Monero</td>\n",
       "      <td>1</td>\n",
       "    </tr>\n",
       "    <tr>\n",
       "      <th>ETC</th>\n",
       "      <td>Ethash</td>\n",
       "      <td>PoW</td>\n",
       "      <td>1.133597e+08</td>\n",
       "      <td>210000000</td>\n",
       "      <td>-0.161087</td>\n",
       "      <td>-2.020010</td>\n",
       "      <td>0.380143</td>\n",
       "      <td>Ethereum Classic</td>\n",
       "      <td>1</td>\n",
       "    </tr>\n",
       "    <tr>\n",
       "      <th>ZEC</th>\n",
       "      <td>Equihash</td>\n",
       "      <td>PoW</td>\n",
       "      <td>7.383056e+06</td>\n",
       "      <td>21000000</td>\n",
       "      <td>-0.179011</td>\n",
       "      <td>-2.024700</td>\n",
       "      <td>0.433256</td>\n",
       "      <td>ZCash</td>\n",
       "      <td>1</td>\n",
       "    </tr>\n",
       "  </tbody>\n",
       "</table>\n",
       "</div>"
      ],
      "text/plain": [
       "           Algorithm ProofType  TotalCoinsMined TotalCoinSupply      PC 1  \\\n",
       "42            Scrypt   PoW/PoS     4.199995e+01              42 -0.332855   \n",
       "404           Scrypt   PoW/PoS     1.055185e+09       532000000 -0.316201   \n",
       "1337             X13   PoW/PoS     2.927942e+10    314159265359  2.300040   \n",
       "BTC          SHA-256       PoW     1.792718e+07        21000000 -0.149023   \n",
       "ETH           Ethash       PoW     1.076842e+08               0 -0.162646   \n",
       "LTC           Scrypt       PoW     6.303924e+07        84000000 -0.159391   \n",
       "DASH             X11   PoW/PoS     9.031294e+06        22000000 -0.410793   \n",
       "XMR   CryptoNight-V7       PoW     1.720114e+07               0 -0.148242   \n",
       "ETC           Ethash       PoW     1.133597e+08       210000000 -0.161087   \n",
       "ZEC         Equihash       PoW     7.383056e+06        21000000 -0.179011   \n",
       "\n",
       "          PC 2      PC 3          CoinName  Class  \n",
       "42    1.038358 -0.564944           42 Coin      0  \n",
       "404   1.038515 -0.565371           404Coin      0  \n",
       "1337  1.643532 -0.570651         EliteCoin      0  \n",
       "BTC  -1.309646  0.182620           Bitcoin      1  \n",
       "ETH  -2.019908  0.380155          Ethereum      1  \n",
       "LTC  -1.123165 -0.021041          Litecoin      1  \n",
       "DASH  1.224033 -0.517184              Dash      0  \n",
       "XMR  -2.196597  0.375973            Monero      1  \n",
       "ETC  -2.020010  0.380143  Ethereum Classic      1  \n",
       "ZEC  -2.024700  0.433256             ZCash      1  "
      ]
     },
     "execution_count": 16,
     "metadata": {},
     "output_type": "execute_result"
    }
   ],
   "source": [
    "# Create a new DataFrame including predicted clusters and cryptocurrencies features.\n",
    "# Concatentate the crypto_df and pcs_df DataFrames on the same columns.\n",
    "# YOUR CODE HERE\n",
    "\n",
    "#  Add a new column, \"CoinName\" to the clustered_df DataFrame that holds the names of the cryptocurrencies. \n",
    "# YOUR CODE HERE\n",
    "\n",
    "#  Add a new column, \"Class\" to the clustered_df DataFrame that holds the predictions.\n",
    "# YOUR CODE HERE\n",
    "\n",
    "# Print the shape of the clustered_df\n",
    "#print(clustered_df.shape)\n",
    "#clustered_df.head(10)"
   ]
  },
  {
   "cell_type": "markdown",
   "metadata": {},
   "source": [
    "### Deliverable 4: Visualizing Cryptocurrencies Results\n",
    "\n",
    "#### 3D-Scatter with Clusters"
   ]
  },
  {
   "cell_type": "code",
   "execution_count": 65,
   "metadata": {},
   "outputs": [
    {
     "data": {
      "application/vnd.plotly.v1+json": {
       "config": {
        "plotlyServerURL": "https://plot.ly"
       },
       "data": [
        {
         "customdata": [
          [
           "Scrypt",
           "42 Coin"
          ],
          [
           "Scrypt",
           "404Coin"
          ],
          [
           "X13",
           "EliteCoin"
          ],
          [
           "X11",
           "Dash"
          ],
          [
           "SHA-512",
           "Bitshares"
          ],
          [
           "SHA-256",
           "BitcoinDark"
          ],
          [
           "SHA-256",
           "PayCoin"
          ],
          [
           "X15",
           "KoboCoin"
          ],
          [
           "Scrypt",
           "Aurora Coin"
          ],
          [
           "Scrypt",
           "BlueCoin"
          ],
          [
           "Scrypt",
           "EnergyCoin"
          ],
          [
           "Scrypt",
           "BitBar"
          ],
          [
           "Scrypt",
           "CryptoBullion"
          ],
          [
           "Scrypt",
           "CasinoCoin"
          ],
          [
           "Groestl",
           "Diamond"
          ],
          [
           "PoS",
           "Exclusive Coin"
          ],
          [
           "Scrypt",
           "FlutterCoin"
          ],
          [
           "Scrypt",
           "HoboNickels"
          ],
          [
           "X11",
           "HyperStake"
          ],
          [
           "X11",
           "IOCoin"
          ],
          [
           "SHA3",
           "MaxCoin"
          ],
          [
           "Scrypt",
           "MintCoin"
          ],
          [
           "SHA-256",
           "MazaCoin"
          ],
          [
           "Scrypt",
           "Nautilus Coin"
          ],
          [
           "X13",
           "NavCoin"
          ],
          [
           "X13",
           "OpalCoin"
          ],
          [
           "NeoScrypt",
           "Orbitcoin"
          ],
          [
           "Scrypt",
           "PotCoin"
          ],
          [
           "Scrypt",
           "PhoenixCoin"
          ],
          [
           "Scrypt",
           "Reddcoin"
          ],
          [
           "X11",
           "SuperCoin"
          ],
          [
           "X11",
           "SyncCoin"
          ],
          [
           "Multiple",
           "TeslaCoin"
          ],
          [
           "PHI1612",
           "TittieCoin"
          ],
          [
           "X11",
           "TorCoin"
          ],
          [
           "Scrypt",
           "UnitaryStatus Dollar"
          ],
          [
           "Scrypt",
           "UltraCoin"
          ],
          [
           "Scrypt",
           "VeriCoin"
          ],
          [
           "X11",
           "X11 Coin"
          ],
          [
           "Multiple",
           "Crypti"
          ],
          [
           "X13",
           "StealthCoin"
          ],
          [
           "Scrypt",
           "ZCC Coin"
          ],
          [
           "Shabal256",
           "BurstCoin"
          ],
          [
           "Counterparty",
           "StorjCoin"
          ],
          [
           "SHA-256",
           "Neutron"
          ],
          [
           "Groestl",
           "FairCoin"
          ],
          [
           "Scrypt",
           "RubyCoin"
          ],
          [
           "X13",
           "Kore"
          ],
          [
           "Scrypt",
           "Dnotes"
          ],
          [
           "Scrypt",
           "8BIT Coin"
          ],
          [
           "X13",
           "Sativa Coin"
          ],
          [
           "X11",
           "Ucoin"
          ],
          [
           "Scrypt",
           "Vtorrent"
          ],
          [
           "X11",
           "IslaCoin"
          ],
          [
           "SHA3",
           "Nexus"
          ],
          [
           "QUAIT",
           "Droidz"
          ],
          [
           "X11",
           "Squall Coin"
          ],
          [
           "Scrypt",
           "Diggits"
          ],
          [
           "X13",
           "Paycon"
          ],
          [
           "SHA-256",
           "Emercoin"
          ],
          [
           "X15",
           "EverGreenCoin"
          ],
          [
           "BLAKE256",
           "Decred"
          ],
          [
           "SHA-256",
           "EDRCoin"
          ],
          [
           "X11",
           "Hitcoin"
          ],
          [
           "SHA-256",
           "DubaiCoin"
          ],
          [
           "NIST5",
           "PWR Coin"
          ],
          [
           "Scrypt",
           "BillaryCoin"
          ],
          [
           "Scrypt",
           "GPU Coin"
          ],
          [
           "X11",
           "EuropeCoin"
          ],
          [
           "Scrypt",
           "ZeitCoin"
          ],
          [
           "SHA-256",
           "SwingCoin"
          ],
          [
           "Scrypt",
           "SafeExchangeCoin"
          ],
          [
           "PoS",
           "Nebuchadnezzar"
          ],
          [
           "X11",
           "Ratecoin"
          ],
          [
           "SHA-256",
           "Revenu"
          ],
          [
           "SHA-256",
           "Clockcoin"
          ],
          [
           "NIST5",
           "VIP Tokens"
          ],
          [
           "X11",
           "BitSend"
          ],
          [
           "POS 3.0",
           "Let it Ride"
          ],
          [
           "Scrypt",
           "PutinCoin"
          ],
          [
           "Scrypt",
           "iBankCoin"
          ],
          [
           "Scrypt",
           "Frankywillcoin"
          ],
          [
           "X13",
           "MudraCoin"
          ],
          [
           "X11",
           "Lutetium Coin"
          ],
          [
           "X11",
           "GoldBlocks"
          ],
          [
           "Scrypt",
           "CarterCoin"
          ],
          [
           "SHA-256",
           "BitTokens"
          ],
          [
           "X11",
           "MustangCoin"
          ],
          [
           "Scrypt",
           "ZoneCoin"
          ],
          [
           "Scrypt",
           "RootCoin"
          ],
          [
           "Scrypt",
           "BitCurrency"
          ],
          [
           "Scrypt",
           "Swiscoin"
          ],
          [
           "SHA-256D",
           "BuzzCoin"
          ],
          [
           "PoS",
           "Opair"
          ],
          [
           "Scrypt",
           "PesoBit"
          ],
          [
           "X11",
           "Halloween Coin"
          ],
          [
           "PoS",
           "CoffeeCoin"
          ],
          [
           "X13",
           "RoyalCoin"
          ],
          [
           "X14",
           "GanjaCoin V2"
          ],
          [
           "PoS",
           "TeamUP"
          ],
          [
           "SHA-256D",
           "LanaCoin"
          ],
          [
           "DPoS",
           "ARK"
          ],
          [
           "X11",
           "InsaneCoin"
          ],
          [
           "X13",
           "EmberCoin"
          ],
          [
           "X11",
           "XenixCoin"
          ],
          [
           "PoS",
           "FreeCoin"
          ],
          [
           "Scrypt",
           "PLNCoin"
          ],
          [
           "Scrypt",
           "AquariusCoin"
          ],
          [
           "PoS",
           "Creatio"
          ],
          [
           "X11",
           "Eternity"
          ],
          [
           "SHA-256",
           "Eurocoin"
          ],
          [
           "Scrypt",
           "BitcoinFast"
          ],
          [
           "X11",
           "Stakenet"
          ],
          [
           "Scrypt",
           "BitConnect Coin"
          ],
          [
           "Scrypt",
           "MoneyCoin"
          ],
          [
           "X11",
           "Enigma"
          ],
          [
           "Scrypt",
           "Russiacoin"
          ],
          [
           "Scrypt",
           "PandaCoin"
          ],
          [
           "Scrypt",
           "GameUnits"
          ],
          [
           "Scrypt",
           "GAKHcoin"
          ],
          [
           "Quark",
           "Allsafe"
          ],
          [
           "QuBit",
           "LiteCreed"
          ],
          [
           "Scrypt",
           "Klingon Empire Darsek"
          ],
          [
           "SHA-256",
           "Internet of People"
          ],
          [
           "X11",
           "KushCoin"
          ],
          [
           "Scrypt",
           "Printerium"
          ],
          [
           "Scrypt",
           "Impeach"
          ],
          [
           "Scrypt",
           "Zilbercoin"
          ],
          [
           "Scrypt",
           "FirstCoin"
          ],
          [
           "X13",
           "FindCoin"
          ],
          [
           "Scrypt",
           "OpenChat"
          ],
          [
           "Scrypt",
           "RenosCoin"
          ],
          [
           "X11",
           "VirtacoinPlus"
          ],
          [
           "Blake2S",
           "TajCoin"
          ],
          [
           "X11",
           "Impact"
          ],
          [
           "PoS",
           "Atmos"
          ],
          [
           "X11",
           "HappyCoin"
          ],
          [
           "PoS",
           "MacronCoin"
          ],
          [
           "X11",
           "Condensate"
          ],
          [
           "Scrypt",
           "Independent Money System"
          ],
          [
           "Scrypt",
           "ArgusCoin"
          ],
          [
           "Scrypt",
           "LomoCoin"
          ],
          [
           "SHA-256",
           "ProCurrency"
          ],
          [
           "X11",
           "GoldReserve"
          ],
          [
           "Scrypt",
           "GrowthCoin"
          ],
          [
           "PoS",
           "Phreak"
          ],
          [
           "Scrypt",
           "Degas Coin"
          ],
          [
           "X15",
           "HTML5 Coin"
          ],
          [
           "SHA-256",
           "Ultimate Secure Cash"
          ],
          [
           "POS 3.0",
           "QTUM"
          ],
          [
           "536",
           "Espers"
          ],
          [
           "NIST5",
           "Denarius"
          ],
          [
           "NIST5",
           "Virta Unique Coin"
          ],
          [
           "Skein",
           "Bitcoin Planet"
          ],
          [
           "X13",
           "BritCoin"
          ],
          [
           "Scrypt",
           "Linda"
          ],
          [
           "X13",
           "DeepOnion"
          ],
          [
           "SkunkHash v2 Raptor",
           "Signatum"
          ],
          [
           "Skein",
           "Cream"
          ],
          [
           "X11",
           "Monoeci"
          ],
          [
           "Scrypt",
           "Draftcoin"
          ],
          [
           "PoS",
           "Stakecoin"
          ],
          [
           "Scrypt",
           "CoinonatX"
          ],
          [
           "Scrypt",
           "Ethereum Dark"
          ],
          [
           "SHA-512",
           "Obsidian"
          ],
          [
           "Ouroboros",
           "Cardano"
          ],
          [
           "X11",
           "Regalcoin"
          ],
          [
           "NeoScrypt",
           "TrezarCoin"
          ],
          [
           "Scrypt",
           "TerraNovaCoin"
          ],
          [
           "Lyra2REv2",
           "Rupee"
          ],
          [
           "Scrypt",
           "WomenCoin"
          ],
          [
           "SHA-256",
           "Theresa May Coin"
          ],
          [
           "NIST5",
           "NamoCoin"
          ],
          [
           "PHI1612",
           "LUXCoin"
          ],
          [
           "Scrypt",
           "Xios"
          ],
          [
           "Quark",
           "Bitcloud 2.0"
          ],
          [
           "POS 2.0",
           "KekCoin"
          ],
          [
           "Scrypt",
           "BlackholeCoin"
          ],
          [
           "SHA-256",
           "Infinity Economics"
          ],
          [
           "X11",
           "Magnet"
          ],
          [
           "DPoS",
           "Lamden Tau"
          ],
          [
           "NIST5",
           "Electra"
          ],
          [
           "X13",
           "Bitcoin Diamond"
          ],
          [
           "Scrypt",
           "Cash & Back Coin"
          ],
          [
           "NIST5",
           "Bulwark"
          ],
          [
           "Quark",
           "Kalkulus"
          ],
          [
           "Scrypt",
           "GermanCoin"
          ],
          [
           "Scrypt",
           "LiteCoin Ultra"
          ],
          [
           "X11",
           "PhantomX"
          ],
          [
           "Quark",
           "Digiwage"
          ],
          [
           "Scrypt",
           "Trollcoin"
          ],
          [
           "Scrypt",
           "Litecoin Plus"
          ],
          [
           "X11",
           "Monkey Project"
          ],
          [
           "POS 3.0",
           "TokenPay"
          ],
          [
           "Ethash",
           "1717 Masonic Commemorative Token"
          ],
          [
           "Scrypt",
           "My Big Coin"
          ],
          [
           "Scrypt",
           "Unified Society USDEX"
          ],
          [
           "X13",
           "Tokyo Coin"
          ],
          [
           "C11",
           "Stipend"
          ],
          [
           "X11",
           "Pushi"
          ],
          [
           "XEVAN",
           "Ellerium"
          ],
          [
           "Scrypt",
           "Velox"
          ],
          [
           "VBFT",
           "Ontology"
          ],
          [
           "NIST5",
           "Bitspace"
          ],
          [
           "Scrypt",
           "Briacoin"
          ],
          [
           "Scrypt",
           "Ignition"
          ],
          [
           "Scrypt",
           "MedicCoin"
          ],
          [
           "Green Protocol",
           "Bitcoin Green"
          ],
          [
           "PoS",
           "Deviant Coin"
          ],
          [
           "Scrypt",
           "Abjcoin"
          ],
          [
           "Semux BFT consensus",
           "Semux"
          ],
          [
           "Quark",
           "Carebit"
          ],
          [
           "PoS",
           "Zealium"
          ],
          [
           "X16R",
           "Proton"
          ],
          [
           "Scrypt",
           "iDealCash"
          ],
          [
           "XEVAN",
           "Bitcoin Incognito"
          ],
          [
           "Scrypt",
           "HollyWoodCoin"
          ],
          [
           "Scrypt",
           "Swisscoin"
          ],
          [
           "Scrypt",
           "Xt3ch"
          ],
          [
           "SHA-256D",
           "TheVig"
          ],
          [
           "Scrypt",
           "EmaratCoin"
          ],
          [
           "X15",
           "Dekado"
          ],
          [
           "Scrypt",
           "Lynx"
          ],
          [
           "Quark",
           "Poseidon Quark"
          ],
          [
           "SHA-256",
           "BitcoinWSpectrum"
          ],
          [
           "DPoS",
           "Muse"
          ],
          [
           "X16R",
           "Trivechain"
          ],
          [
           "Quark",
           "Dystem"
          ],
          [
           "Quark",
           "Giant"
          ],
          [
           "Scrypt",
           "Peony Coin"
          ],
          [
           "Lyra2REv2",
           "Absolute Coin"
          ],
          [
           "Quark",
           "Vitae"
          ],
          [
           "Scrypt",
           "TPCash"
          ],
          [
           "X11",
           "ARENON"
          ],
          [
           "X11",
           "EUNO"
          ],
          [
           "Scrypt",
           "MMOCoin"
          ],
          [
           "PoS",
           "Ketan"
          ],
          [
           "Keccak",
           "XDNA"
          ],
          [
           "X11",
           "PAXEX"
          ],
          [
           "Scrypt",
           "ThunderStake"
          ],
          [
           "SHA-512",
           "Kcash"
          ],
          [
           "XEVAN",
           "Bettex coin"
          ],
          [
           "XEVAN",
           "BitMoney"
          ],
          [
           "X11",
           "Junson Ming Chan Coin"
          ],
          [
           "Quark",
           "HerbCoin"
          ],
          [
           "Scrypt",
           "Oduwa"
          ],
          [
           "Quark",
           "Galilel"
          ],
          [
           "Quark",
           "Crypto Sports"
          ],
          [
           "Scrypt",
           "Credit"
          ],
          [
           "X11",
           "Dash Platinum"
          ],
          [
           "Scrypt",
           "Nasdacoin"
          ],
          [
           "XEVAN",
           "Beetle Coin"
          ],
          [
           "SHA-256D",
           "Titan Coin"
          ],
          [
           "X11",
           "Award"
          ],
          [
           "X11",
           "Insane Coin"
          ],
          [
           "DPoS",
           "ALAX"
          ],
          [
           "Scrypt",
           "LiteDoge"
          ],
          [
           "X11",
           "TruckCoin"
          ],
          [
           "Scrypt",
           "OrangeCoin"
          ],
          [
           "Scrypt",
           "BitstarCoin"
          ],
          [
           "SHA-256",
           "NeosCoin"
          ],
          [
           "Scrypt",
           "HyperCoin"
          ],
          [
           "X11",
           "PinkCoin"
          ],
          [
           "Scrypt",
           "AudioCoin"
          ],
          [
           "SHA-256",
           "IncaKoin"
          ],
          [
           "X11",
           "Piggy Coin"
          ],
          [
           "Scrypt",
           "Genstake"
          ],
          [
           "Scrypt",
           "XiaoMiCoin"
          ],
          [
           "X11",
           "CapriCoin"
          ],
          [
           "Scrypt",
           " ClubCoin"
          ],
          [
           "PoS",
           "Radium"
          ],
          [
           "X11",
           "Creditbit "
          ],
          [
           "SHA-256",
           "OKCash"
          ],
          [
           "DPoS",
           "Lisk"
          ],
          [
           "Scrypt",
           "HiCoin"
          ],
          [
           "Scrypt",
           "WhiteCoin"
          ],
          [
           "NeoScrypt",
           "FriendshipCoin"
          ],
          [
           "X13",
           "Triangles Coin"
          ],
          [
           "DPoS",
           "EOS"
          ],
          [
           "DPoS",
           "Oxycoin"
          ],
          [
           "SHA-256",
           "TigerCash"
          ],
          [
           "PoS",
           "Particl"
          ],
          [
           "PoS",
           "Nxt"
          ],
          [
           "SHA-256",
           "ZEPHYR"
          ],
          [
           "Scrypt",
           "Gapcoin"
          ],
          [
           "Scrypt",
           "BitcoinPlus"
          ]
         ],
         "hovertemplate": "class=%{marker.color}<br>PC 1=%{x}<br>PC 2=%{y}<br>PC 3=%{z}<br>Algorithm=%{customdata[0]}<br>CoinName=%{customdata[1]}<extra></extra>",
         "legendgroup": "0",
         "marker": {
          "color": [
           0,
           0,
           0,
           0,
           0,
           0,
           0,
           0,
           0,
           0,
           0,
           0,
           0,
           0,
           0,
           0,
           0,
           0,
           0,
           0,
           0,
           0,
           0,
           0,
           0,
           0,
           0,
           0,
           0,
           0,
           0,
           0,
           0,
           0,
           0,
           0,
           0,
           0,
           0,
           0,
           0,
           0,
           0,
           0,
           0,
           0,
           0,
           0,
           0,
           0,
           0,
           0,
           0,
           0,
           0,
           0,
           0,
           0,
           0,
           0,
           0,
           0,
           0,
           0,
           0,
           0,
           0,
           0,
           0,
           0,
           0,
           0,
           0,
           0,
           0,
           0,
           0,
           0,
           0,
           0,
           0,
           0,
           0,
           0,
           0,
           0,
           0,
           0,
           0,
           0,
           0,
           0,
           0,
           0,
           0,
           0,
           0,
           0,
           0,
           0,
           0,
           0,
           0,
           0,
           0,
           0,
           0,
           0,
           0,
           0,
           0,
           0,
           0,
           0,
           0,
           0,
           0,
           0,
           0,
           0,
           0,
           0,
           0,
           0,
           0,
           0,
           0,
           0,
           0,
           0,
           0,
           0,
           0,
           0,
           0,
           0,
           0,
           0,
           0,
           0,
           0,
           0,
           0,
           0,
           0,
           0,
           0,
           0,
           0,
           0,
           0,
           0,
           0,
           0,
           0,
           0,
           0,
           0,
           0,
           0,
           0,
           0,
           0,
           0,
           0,
           0,
           0,
           0,
           0,
           0,
           0,
           0,
           0,
           0,
           0,
           0,
           0,
           0,
           0,
           0,
           0,
           0,
           0,
           0,
           0,
           0,
           0,
           0,
           0,
           0,
           0,
           0,
           0,
           0,
           0,
           0,
           0,
           0,
           0,
           0,
           0,
           0,
           0,
           0,
           0,
           0,
           0,
           0,
           0,
           0,
           0,
           0,
           0,
           0,
           0,
           0,
           0,
           0,
           0,
           0,
           0,
           0,
           0,
           0,
           0,
           0,
           0,
           0,
           0,
           0,
           0,
           0,
           0,
           0,
           0,
           0,
           0,
           0,
           0,
           0,
           0,
           0,
           0,
           0,
           0,
           0,
           0,
           0,
           0,
           0,
           0,
           0,
           0,
           0,
           0,
           0,
           0,
           0,
           0,
           0,
           0,
           0,
           0,
           0,
           0,
           0,
           0,
           0,
           0,
           0,
           0,
           0,
           0,
           0,
           0,
           0,
           0,
           0,
           0,
           0,
           0,
           0,
           0,
           0,
           0,
           0
          ],
          "coloraxis": "coloraxis",
          "symbol": "circle"
         },
         "mode": "markers",
         "name": "0",
         "scene": "scene",
         "showlegend": true,
         "type": "scatter3d",
         "x": [
          -0.3339230159269828,
          -0.317211647726466,
          2.3337439365864605,
          -0.40407579401208843,
          -0.27092542608360276,
          -0.309814881195032,
          -0.26742572076299254,
          -0.23285204921376393,
          -0.3335815793370615,
          -0.32613774926485023,
          -0.3324152408711529,
          -0.3339189394568532,
          -0.3339031742029126,
          0.6601192678225042,
          -0.3446681210825294,
          -0.36424958523926415,
          -0.30079948138954576,
          -0.3319759676582518,
          -0.3414519818700512,
          -0.40397018570224646,
          -0.3164996142674152,
          -0.030702497364867746,
          -0.273010866207414,
          -0.29128417877845353,
          -0.25822721839534646,
          -0.25885122603871646,
          -0.33744734850447317,
          -0.32820805583740464,
          -0.3323199646193105,
          0.025253796728595842,
          -0.36139607770857735,
          -0.40434287088921594,
          -0.2471097942257597,
          -0.30085737610948,
          -0.40425423734088883,
          -0.3090806491714636,
          -0.33259641147165037,
          -0.2887485806119893,
          -0.4042186186931919,
          -0.24757906295868576,
          -0.2586314559705407,
          -0.3249986357601952,
          -0.0008935129764348574,
          -0.3054811381811236,
          -0.3090242352970763,
          -0.3440880196419885,
          -0.29126440991677577,
          -0.2589268093833022,
          -0.28590210158663143,
          -0.3339050326279015,
          -0.25887886016695744,
          -0.3618421726324087,
          -0.3336386108619411,
          -0.4043243463914163,
          -0.19102373832129824,
          -0.41680774075020083,
          -0.39651637358785424,
          -0.28966114891768907,
          -0.25839904355982085,
          -0.3023483543690592,
          -0.2353011280869781,
          -0.06891357188612983,
          -0.309785711065995,
          -0.0808129224104314,
          -0.30984961003575634,
          -0.2089185838552279,
          -0.3335140933096272,
          -0.2895296007303651,
          -0.4014846839254931,
          0.865385252948531,
          -0.3096490426098902,
          -0.07282945053857232,
          -0.3639319079304286,
          -0.40216097447535504,
          -0.3083886307452237,
          -0.3060495885615067,
          -0.3306278780928343,
          -0.40305563625980273,
          -0.30906457376616703,
          -0.30973855641378567,
          -0.33355229699014943,
          -0.3319866890609637,
          -0.21522788412356725,
          -0.3492956794250314,
          -0.40379664292796463,
          -0.33275414209214466,
          -0.3098304883869588,
          -0.4043135014287454,
          -0.33374204719208717,
          -0.33389924905579915,
          -0.2895195399801358,
          -0.27337093648857214,
          0.06432820633951872,
          -0.3628858767799057,
          -0.3335122906299777,
          -0.3904332414553993,
          -0.3622126354764642,
          -0.2166629723627045,
          -0.4233559415193294,
          -0.3619603886575873,
          -0.2511289874367278,
          3.648714969891292,
          -0.40390481896040903,
          0.8765618675399043,
          -0.4042682793881547,
          -0.3633510096266476,
          -0.33343956817137826,
          -0.33359433424437146,
          -0.3639319079304286,
          -0.40384185708978576,
          -0.30969276615365304,
          -0.33344031590950574,
          -0.49871559422115375,
          -0.3335881414133953,
          -0.32916232533937595,
          -0.40429735504276565,
          -0.3327963586761512,
          0.35390384548713033,
          -0.3337880199616336,
          -0.3338588122000407,
          -0.3388034678830162,
          -0.33735301246635524,
          -0.330073794950379,
          -0.30980683390596436,
          -0.4042070385952175,
          -0.33363595208603786,
          -0.3337632687619221,
          -0.2911705529206628,
          -0.2973766203862923,
          -0.21643013423610014,
          -0.31455973994753095,
          -0.2909109715644137,
          -0.40347050209955504,
          -0.39945606093145775,
          -0.4022052084085449,
          -0.36217323419023045,
          -0.40336809215569436,
          -0.3565564476236849,
          -0.39929664097531564,
          -0.33370639263979496,
          -0.33370556728486184,
          -0.32680569865579817,
          0.26690971962046073,
          -0.40384805951187985,
          -0.2737590677660521,
          -0.3639662836910551,
          -0.3329146521891206,
          0.9025111269642644,
          -0.26611201665529477,
          -0.3078392766265901,
          0.6291920591112984,
          -0.332168106740439,
          -0.3306658121043223,
          -0.392769995905121,
          -0.25856300887207695,
          0.13245584584310974,
          -0.2586340052949615,
          -0.34382187568018385,
          -0.39227345026966504,
          -0.40412128472139175,
          -0.29124503566114773,
          -0.36383211594638104,
          -0.3333404868136519,
          -0.33384169097770455,
          -0.32916353590982866,
          0.7081639233653624,
          -0.40406191067065644,
          -0.33243143898972816,
          -0.33379715760693046,
          -0.298115932455668,
          0.4375863477891158,
          -0.3081481852592427,
          -0.31688882825664516,
          -0.3788871050182268,
          -0.3337473435477874,
          -0.37956602162158826,
          -0.30588841550352214,
          -0.3336173791817127,
          -0.09339208751133118,
          -0.40285086834579087,
          3.653585675852496,
          0.22899422966980953,
          -0.25529489834259816,
          -0.3310699670802327,
          -0.28960538642593053,
          -0.3386890330972021,
          0.08181270291640946,
          -0.33275318270313825,
          -0.40343385451921576,
          -0.3378511793685627,
          -0.32028168310432575,
          -0.3338638867945469,
          -0.36181401921993267,
          -0.30934732007648935,
          -0.27134308341347857,
          -0.35315461469453824,
          -0.32939586383474095,
          -0.2082007873750022,
          -0.3828483132095596,
          -0.4041385522187064,
          -0.30062229202715623,
          -0.2904024028157413,
          -0.3104358208987289,
          -0.3317658372211188,
          -0.3338913223379487,
          -0.33387297693515333,
          -0.2847669267920986,
          -0.3715621744633767,
          -0.3634253547704032,
          -0.3335886242265341,
          3.809060066358819,
          -0.3782302007620774,
          -0.3636145831511356,
          -0.3379478869398493,
          -0.28029598093054775,
          -0.292948671535519,
          -0.2909383464938549,
          -0.1364175934546623,
          -0.29119110074027277,
          -0.31664598698087787,
          -0.33306103966847184,
          -0.19231732377167796,
          2.228875869286314,
          -0.33438344567088646,
          -0.2662402894450405,
          0.9818319588296361,
          -0.3796079967837235,
          -0.33880289130369906,
          -0.38125538470938186,
          -0.1715477881021005,
          -0.34036950129479365,
          -0.33751858349565184,
          -0.32674561685201786,
          -0.36139014504663575,
          -0.4036103223756771,
          -0.2884282346232394,
          -0.362711546330642,
          -0.3452130911677532,
          -0.36125104185483226,
          -0.19293491275787217,
          -0.32477500795550135,
          -0.2582898409382876,
          0.5687187317097114,
          -0.15115990820628578,
          -0.3805478882871765,
          -0.3335926259197676,
          -0.3810053874395195,
          -0.33892021964014063,
          0.5756733594249891,
          -0.3618684934744681,
          -0.3330739388037896,
          -0.29506109752126325,
          -0.2712260900211866,
          -0.40116726174300055,
          -0.4038382515789723,
          3.6658636465753736,
          0.10265700753399971,
          -0.40137085392559807,
          -0.33245744087024603,
          -0.33328508564462966,
          -0.26745842916997253,
          -0.3338050144616682,
          -0.39544105481157626,
          -0.24723948223582637,
          -0.08883696051976488,
          -0.3911762218516553,
          -0.3330812237745645,
          -0.32612482019894556,
          -0.4003966316709654,
          -0.3315156420046848,
          -0.3642083545112262,
          -0.44340793318823235,
          -0.30832550602539893,
          3.649107979146516,
          -0.0978988789607103,
          -0.32870206559749493,
          -0.3370720226761299,
          -0.25903434493499705,
          3.659004167771157,
          3.660251892641139,
          -0.24829830173043524,
          -0.3641440366505383,
          -0.4392428354601899,
          2.436084895050624,
          -0.3319622822868161,
          -0.29158879313168246
         ],
         "y": [
          1.1060071382991985,
          1.1060362545551887,
          1.6143174805660918,
          1.2401980870150668,
          1.2902831258516012,
          0.8136995566069297,
          0.5761781500091947,
          1.8503843302957288,
          1.1060034138152817,
          1.1062021756623117,
          1.1060449112717734,
          1.1060068743462632,
          1.1060069031912365,
          0.3519618144844177,
          0.9190708611385299,
          1.5860741493614618,
          0.4255678280880822,
          1.105968050106271,
          1.003192753770613,
          1.2402007327257316,
          1.6548832811828273,
          0.8750131507394948,
          0.8128663072278238,
          0.8684731833606153,
          1.7794154911554567,
          1.7793998584492936,
          0.5363763880866168,
          1.105842779523416,
          1.1059755410032208,
          1.1150052742224972,
          1.0026931121504252,
          1.2402075041899645,
          0.05598839547183615,
          1.5226114923650151,
          1.2402024032222236,
          1.1054579468236108,
          1.105967150995718,
          0.5551679728163575,
          1.240206590515079,
          0.05604986087220343,
          1.7794053641525267,
          1.1054984971474477,
          0.3370692023715208,
          1.4344386408898624,
          0.8136856820298812,
          0.9190886010066099,
          0.8684855258624078,
          1.7793891783387712,
          0.8682537551296602,
          1.106007588849483,
          1.7793918439990788,
          1.002667292218561,
          1.105999618961871,
          1.2402079689998788,
          1.3208690560625023,
          1.8940818705938578,
          0.6660056342774355,
          0.8684524693574713,
          1.77937457578767,
          0.8131705018723218,
          1.850559995399233,
          0.9612846379522306,
          0.8137002873801195,
          1.2288722847138185,
          0.8137071070569439,
          1.4626346098464484,
          1.1059866296433198,
          0.8683671282780594,
          1.2399979376955095,
          0.8249726817141281,
          0.8136905313301404,
          0.3613161119337267,
          1.5860674635331886,
          1.2402072498461911,
          0.8135883131875978,
          0.8134255806191677,
          1.4595196361875329,
          1.2401379748782442,
          1.3946901126551454,
          1.1051485785778272,
          1.1059839640575582,
          1.1059824258267064,
          1.5417559715071103,
          1.0025151869010547,
          1.2401845782980307,
          1.1059705216684401,
          0.8136998978295977,
          1.2402060440419183,
          1.1059962954481675,
          1.1060077337401493,
          0.8685292385305184,
          0.4419151453593251,
          1.9007687166510472,
          1.5860541291691126,
          1.1060174278639834,
          1.2394576468829857,
          1.5860958906909512,
          1.541864632034746,
          1.919543384611412,
          1.5859111016307104,
          1.9020141523796947,
          2.0684243753584393,
          1.2401965125746683,
          1.807221965248807,
          1.2402065521300414,
          1.5860600497883262,
          1.1059910301213964,
          1.1059846194388476,
          1.5860674635331886,
          1.240176123430936,
          0.8137040802774117,
          1.105995067864004,
          0.8021432139735969,
          1.1059950256022246,
          1.105649980308926,
          1.240204984111489,
          1.1059299244058278,
          0.8608404170393575,
          1.1060010014590969,
          1.1060063188957903,
          1.442172035853168,
          0.5841503113135567,
          1.1057374615711335,
          0.8137004904241834,
          1.2402040586615912,
          1.1059996855698098,
          1.1059950804020484,
          0.8684476053139584,
          0.43331387468548577,
          1.5418616604260262,
          1.1057600134808545,
          0.8684691726700852,
          1.24015613802751,
          1.858052106121411,
          1.2401805141431868,
          1.5860454102374086,
          1.2401587036123676,
          1.5859739923838576,
          1.2399678157591723,
          1.105997033351493,
          1.1059916445073197,
          1.105453226414683,
          0.5346573531493185,
          1.2401906123613575,
          0.867459640148383,
          1.5860592801908782,
          1.1059555173167162,
          1.8131844316790908,
          0.5760737089670509,
          1.3946721165854326,
          1.7862413221362148,
          1.459539627471513,
          1.4594967193893806,
          1.9260570201602147,
          1.7793851124253082,
          1.0810801260071434,
          1.7793914627367466,
          1.5147740452355225,
          1.926069459674536,
          1.240206094749368,
          0.868473266361382,
          1.5860395033848058,
          1.1059864010392015,
          1.1060061003852981,
          1.2913936163587776,
          1.4943460538825037,
          1.2401947737434804,
          0.5362119213577601,
          1.105998771152472,
          0.6071587787029983,
          1.1070296806510929,
          0.813684198026385,
          1.459051068896194,
          1.7608871468680853,
          1.1059961627632988,
          1.6796056885188348,
          1.5483789073933965,
          1.1060039669663795,
          0.5739572705101451,
          1.2401394436673676,
          2.0682718159141253,
          1.4516387772032857,
          1.7793351866520655,
          1.105924847915837,
          1.2220026408431897,
          1.4421712416071097,
          1.0798114085787804,
          1.1059266127606688,
          1.240193666912015,
          1.4421190100374426,
          1.10568988832025,
          1.106005690776464,
          1.002667265305151,
          1.3946892530978836,
          -0.10880495099676667,
          0.5578410869041341,
          1.1059506789836606,
          1.5414926856609108,
          1.057880228215118,
          1.2401943181426451,
          1.2515234468101486,
          0.8684163262086119,
          1.3831091353198066,
          1.4595204165421722,
          1.1060057356740072,
          1.1060047308335825,
          0.8682821936499184,
          1.4112005546781337,
          1.586030363088932,
          1.105993549075322,
          2.1728351579721856,
          1.679639153645754,
          1.5860314802449818,
          0.629720689082556,
          1.1036002354018544,
          0.6773463026918465,
          0.8684746568297111,
          1.1034864650565894,
          0.8684551449205747,
          1.9057956030401768,
          1.1059672265318112,
          1.6129998862293402,
          0.4947295765551504,
          1.4418178097473031,
          0.5761435866961686,
          1.7701837133673939,
          0.8672398237988128,
          1.4421676570034454,
          1.6797060379127418,
          0.8591248783122315,
          0.8446696700573543,
          1.4421419865789544,
          1.1054547315904517,
          1.0026529889121603,
          1.2401892460204171,
          0.8683662019448289,
          1.5859589151778533,
          0.9323827129911697,
          1.002623524033321,
          1.0963593046106712,
          1.0575709412813363,
          1.0140009856317425,
          0.4005902462671696,
          1.0079599711347877,
          1.6796879941835887,
          1.1060000387658486,
          1.6797021340566867,
          1.442170304487276,
          1.0740247089588364,
          1.0026668524907258,
          1.1059669033812947,
          1.251340591537616,
          1.903345610182679,
          1.2399795300244536,
          1.2401981802278224,
          2.0682132970946534,
          1.091316837947136,
          1.2402819602087447,
          1.1058974109312647,
          1.1059833926449631,
          0.5761711067611688,
          1.1060100945152709,
          1.2400644063157573,
          1.1004904785439023,
          0.8191125068505863,
          1.239805141512758,
          1.1060172437612872,
          1.1059096132794082,
          1.2401540656614878,
          1.1059502936054095,
          1.586068592336694,
          0.7009916537560139,
          0.813676094689062,
          2.068408653267316,
          0.866001113135271,
          1.1059182694230882,
          0.5363444951816988,
          1.7793951830692514,
          2.06877366840675,
          2.068804926543526,
          0.5759342691430103,
          1.5860704715230514,
          2.013706882937033,
          0.8739594191298017,
          1.1058732049116038,
          0.8684766671637357
         ],
         "z": [
          -0.5379884146398457,
          -0.5384418566912165,
          -0.6447785289996482,
          -0.5095430309603246,
          -0.2504598800791364,
          -0.3448557009019629,
          -0.060275676193818295,
          -0.5256413266146499,
          -0.537997048016421,
          -0.5382261720691159,
          -0.5380344611999648,
          -0.5379884856474468,
          -0.5379889136190774,
          -0.4456371470257284,
          -0.46966819965855316,
          -0.10778593658841722,
          -0.2755046992144234,
          -0.5380350387741771,
          -0.2255822977567426,
          -0.5095462561754501,
          -0.7552690239858381,
          -0.2613730085518191,
          -0.34572322184506077,
          -0.25341326767519584,
          -0.5992299450411296,
          -0.5992108882179317,
          -0.3196750182533767,
          -0.538118014642933,
          -0.5380268868654153,
          -0.5489574613992851,
          -0.22497321690288546,
          -0.5095372280383106,
          0.1239271431330435,
          -0.1750178220734047,
          -0.5095388651638454,
          -0.5385759181980195,
          -0.5380182303830792,
          -0.4243762267780148,
          -0.5095404343450538,
          0.12393077634748818,
          -0.5992175998654216,
          -0.5381539801773351,
          -0.5710881837398747,
          -0.12159257964973254,
          -0.3448749256904388,
          -0.46968638418363834,
          -0.253415602336734,
          -0.5992072961905238,
          -0.25352587418043754,
          -0.537988963843623,
          -0.599208974490627,
          -0.2249574538337375,
          -0.5379949606114374,
          -0.5095377938724625,
          -0.8096745398351832,
          -0.5682525333424804,
          -0.29516882747727585,
          -0.25345386700217704,
          -0.599219348615434,
          -0.34497909801322285,
          -0.5256011627554904,
          -0.4815894508538113,
          -0.3448565917403966,
          -0.5165773286581687,
          -0.3448558705708094,
          -0.547788812587785,
          -0.5379964097492752,
          -0.2534449342263851,
          -0.5095834352583006,
          -0.2781480022935544,
          -0.34485883987859667,
          -0.42730278048082354,
          -0.1077934986701002,
          -0.5095958384865488,
          -0.3448777842357038,
          -0.34491687989459174,
          -0.544062254776419,
          -0.5095616693429532,
          -0.08049456245993504,
          -0.5385130342042362,
          -0.5379949934121759,
          -0.5380368509437466,
          -0.3146461424240023,
          -0.225272470196432,
          -0.5095485606360256,
          -0.5380144831809366,
          -0.34485533124732387,
          -0.5095378041319607,
          -0.5379916947475425,
          -0.5379891404704836,
          -0.25346888962934844,
          -0.3477537268735263,
          -0.7092391824408261,
          -0.10781966693472804,
          -0.5380009579512215,
          -0.5098015503619155,
          -0.10784386464684564,
          -0.31462344416648413,
          -0.6444019267414347,
          -0.10782364639136423,
          -0.7009419118082291,
          -0.10813593635338567,
          -0.5095473965990244,
          -0.6337947976617296,
          -0.5095390938975709,
          -0.10780802956737354,
          -0.5379990558526891,
          -0.5379939592387359,
          -0.1077934986701002,
          -0.509546110024926,
          -0.3448596441823592,
          -0.5379996256849833,
          -0.1768974268749304,
          -0.5379956460805129,
          -0.5380641958890129,
          -0.5095380832735239,
          -0.5380074170054208,
          -0.2696402206385835,
          -0.5379911466043751,
          -0.5379900206658138,
          -0.20284843997624985,
          -0.29600383491787896,
          -0.5380524776979967,
          -0.34485605364113886,
          -0.5095403756944481,
          -0.5379950418088761,
          -0.5379909468056667,
          -0.25341258478787887,
          -0.10406472812354786,
          -0.314629268502477,
          -0.5384727778619423,
          -0.2534227132044532,
          -0.509553171796304,
          -0.6771279935862058,
          -0.5095907433174914,
          -0.10783754831853808,
          -0.5095562993352286,
          -0.10797808854982775,
          -0.5096378471416948,
          -0.5379927609237651,
          -0.5379919957762233,
          -0.5380987935486536,
          -0.06857182008545376,
          -0.5095480602014826,
          -0.2537362456151752,
          -0.10779137905734287,
          -0.5380079766016718,
          -0.5507239104886584,
          -0.06029572822844467,
          -0.08052486815472859,
          -0.814588227611092,
          -0.5440237754867451,
          -0.5440578869019439,
          -0.7160389829195358,
          -0.5992164808069272,
          -0.546882361256848,
          -0.5992155002873234,
          -0.180884379180871,
          -0.716054147128637,
          -0.5095429781699842,
          -0.25341433193725,
          -0.10779209590454733,
          -0.5380010427513106,
          -0.537990448945121,
          -0.2490567340971273,
          -0.32963724052359594,
          -0.5095429200506246,
          -0.31978581257064553,
          -0.5379905751348495,
          0.01666629147093617,
          -0.5588753593081136,
          -0.3448982563870685,
          -0.5443630896928621,
          -0.4587500558966615,
          -0.5379915329999819,
          -0.48745936534294393,
          -0.3015123324518532,
          -0.5379961665632466,
          -0.06462907966275103,
          -0.5095673879348446,
          -0.1082445674202108,
          -0.5579530178234052,
          -0.599297030609866,
          -0.5380530793174768,
          -0.2594461396208228,
          -0.20285139984800118,
          -0.5453357497190006,
          -0.5380080936955655,
          -0.5095596399787825,
          -0.20286628942952967,
          -0.538308731087062,
          -0.5379897924939921,
          -0.22495820664250835,
          -0.08048683688318453,
          0.11283012110863248,
          -0.24024828301993767,
          -0.5381018518829981,
          -0.31479655794403066,
          -0.4633758814427244,
          -0.5095407934227042,
          -0.5174267229144827,
          -0.253428662034108,
          -0.07996914287546104,
          -0.5440317813694994,
          -0.5379890616085167,
          -0.5379894079067491,
          -0.25356054174515097,
          0.001372825821566424,
          -0.10780169388058262,
          -0.5379954173762014,
          -0.11876050613982202,
          -0.4875001605194363,
          -0.1077967707960456,
          0.03897331529365552,
          -0.5390782074536998,
          -0.3030578256893545,
          -0.25342277864691143,
          -0.5429289196923824,
          -0.253413134046825,
          -0.6997333534860612,
          -0.5380057525894951,
          -0.2410314669876308,
          -0.4436323796712614,
          -0.20291549269575881,
          -0.06030248978485895,
          -0.10454899393008403,
          -0.24562597377270654,
          -0.20284781570618585,
          -0.4874286180923807,
          -0.2552658588866475,
          -0.2679158415089031,
          -0.20287858630500266,
          -0.538100628411294,
          -0.22496751419703118,
          -0.5095542507551465,
          -0.2534744027144498,
          -0.10781044163825378,
          -0.31773584647716346,
          -0.224966948237571,
          -0.5403684723027645,
          -0.43216737661723653,
          -0.23284501982651432,
          -0.3558834546594546,
          -0.23139370478405258,
          -0.4874449987599143,
          -0.5379962579845458,
          -0.48743476744706027,
          -0.20284504882383703,
          -0.5577648635451642,
          -0.2249566821047601,
          -0.5380053586575556,
          -0.5175494874085339,
          -0.7005962494534982,
          -0.5095892778726987,
          -0.5095494295273582,
          -0.10856603949025026,
          -0.5475770185503378,
          -0.5096279917800288,
          -0.5380117764885571,
          -0.5380020923510387,
          -0.060273767970665276,
          -0.5379920183390782,
          -0.5097555944555737,
          -0.5395123910381423,
          -0.3515862628940363,
          -0.509832350052615,
          -0.5380125177810939,
          -0.5381837750181719,
          -0.5096354921632568,
          -0.5380448176568261,
          -0.10778623293270742,
          -0.4707300483308841,
          -0.34489230621736455,
          -0.10814420306142652,
          -0.2582501282686311,
          -0.5381157654470449,
          -0.31968044702246745,
          -0.5992052830379164,
          -0.10846353481973883,
          -0.10850163959697878,
          -0.06075417372697932,
          -0.10778823630162084,
          0.002496718555451316,
          -0.06478001977758353,
          -0.5380215493507935,
          -0.2534055888860684
         ]
        },
        {
         "customdata": [
          [
           "SHA-256",
           "Bitcoin"
          ],
          [
           "Ethash",
           "Ethereum"
          ],
          [
           "Scrypt",
           "Litecoin"
          ],
          [
           "CryptoNight-V7",
           "Monero"
          ],
          [
           "Ethash",
           "Ethereum Classic"
          ],
          [
           "Equihash",
           "ZCash"
          ],
          [
           "Multiple",
           "DigiByte"
          ],
          [
           "Scrypt",
           "ProsperCoin"
          ],
          [
           "X11",
           "Spreadcoin"
          ],
          [
           "Scrypt",
           "Argentum"
          ],
          [
           "Multiple",
           "MyriadCoin"
          ],
          [
           "Scrypt",
           "MoonCoin"
          ],
          [
           "SHA-256",
           "ZetaCoin"
          ],
          [
           "Scrypt",
           "SexCoin"
          ],
          [
           "Scrypt",
           "Quatloo"
          ],
          [
           "Quark",
           "QuarkCoin"
          ],
          [
           "Groestl",
           "Riecoin"
          ],
          [
           "Scrypt",
           "Digitalcoin "
          ],
          [
           "Scrypt",
           "Catcoin"
          ],
          [
           "Scrypt",
           "CannaCoin"
          ],
          [
           "X11",
           "CryptCoin"
          ],
          [
           "Multiple",
           "Verge"
          ],
          [
           "SHA-256",
           "DevCoin"
          ],
          [
           "Scrypt",
           "EarthCoin"
          ],
          [
           "Scrypt",
           "E-Gulden"
          ],
          [
           "Scrypt",
           "Einsteinium"
          ],
          [
           "Scrypt",
           "Emerald"
          ],
          [
           "Scrypt",
           "Franko"
          ],
          [
           "NeoScrypt",
           "FeatherCoin"
          ],
          [
           "Scrypt",
           "GrandCoin"
          ],
          [
           "Scrypt",
           "GlobalCoin"
          ],
          [
           "Scrypt",
           "GoldCoin"
          ],
          [
           "Scrypt",
           "Infinite Coin"
          ],
          [
           "SHA-256",
           "IXcoin"
          ],
          [
           "Scrypt",
           "KrugerCoin"
          ],
          [
           "Scrypt",
           "LuckyCoin"
          ],
          [
           "Scrypt",
           "Litebar "
          ],
          [
           "Scrypt",
           "MegaCoin"
          ],
          [
           "HybridScryptHash256",
           "MediterraneanCoin"
          ],
          [
           "Scrypt",
           "MinCoin"
          ],
          [
           "Scrypt",
           "NobleCoin"
          ],
          [
           "SHA-256",
           "Namecoin"
          ],
          [
           "Scrypt",
           "NyanCoin"
          ],
          [
           "Scrypt",
           "RonPaulCoin"
          ],
          [
           "Scrypt",
           "StableCoin"
          ],
          [
           "Scrypt",
           "SmartCoin"
          ],
          [
           "SHA-256",
           "SysCoin"
          ],
          [
           "SHA-256",
           "TigerCoin"
          ],
          [
           "SHA-256",
           "TerraCoin"
          ],
          [
           "SHA-256",
           "UnbreakableCoin"
          ],
          [
           "SHA-256",
           "Unobtanium"
          ],
          [
           "X11",
           "UroCoin"
          ],
          [
           "Scrypt",
           "ViaCoin"
          ],
          [
           "Lyra2REv2",
           "Vertcoin"
          ],
          [
           "Scrypt",
           "WorldCoin"
          ],
          [
           "SHA-256",
           "JouleCoin"
          ],
          [
           "CryptoNight",
           "ByteCoin"
          ],
          [
           "CryptoNight",
           "DigitalNote "
          ],
          [
           "Scrypt",
           "MonaCoin"
          ],
          [
           "Scrypt",
           "Gulden"
          ],
          [
           "Scrypt",
           "PesetaCoin"
          ],
          [
           "Scrypt",
           "Wild Beast Coin"
          ],
          [
           "Scrypt",
           "Flo"
          ],
          [
           "Scrypt",
           "ArtByte"
          ],
          [
           "Stanford Folding",
           "Folding Coin"
          ],
          [
           "Multiple",
           "Unitus"
          ],
          [
           "QuBit",
           "CypherPunkCoin"
          ],
          [
           "Scrypt",
           "OmniCron"
          ],
          [
           "Scrypt",
           "GreenCoin"
          ],
          [
           "M7 POW",
           "Cryptonite"
          ],
          [
           "Scrypt",
           "MasterCoin"
          ],
          [
           "SHA-256",
           "SoonCoin"
          ],
          [
           "Scrypt",
           "1Credit"
          ],
          [
           "X11",
           "MarsCoin "
          ],
          [
           "Lyra2RE",
           "Crypto"
          ],
          [
           "SHA-256",
           "Anarchists Prime"
          ],
          [
           "X11",
           "BowsCoin"
          ],
          [
           "Scrypt",
           "Song Coin"
          ],
          [
           "Scrypt",
           "BitZeny"
          ],
          [
           "Ethash",
           "Expanse"
          ],
          [
           "Blake2b",
           "Siacoin"
          ],
          [
           "X11",
           "MindCoin"
          ],
          [
           "SHA-256",
           "I0coin"
          ],
          [
           "Scrypt",
           "Revolution VR"
          ],
          [
           "1GB AES Pattern Search",
           "HOdlcoin"
          ],
          [
           "Scrypt",
           "Gamecredits"
          ],
          [
           "SHA-256",
           "CarpeDiemCoin"
          ],
          [
           "X11",
           "Adzcoin"
          ],
          [
           "Dagger",
           "SoilCoin"
          ],
          [
           "Scrypt",
           "YoCoin"
          ],
          [
           "X11GOST",
           "SibCoin"
          ],
          [
           "Scrypt",
           "Francs"
          ],
          [
           "X11",
           "BolivarCoin"
          ],
          [
           "Scrypt",
           "Omni"
          ],
          [
           "X11",
           "PizzaCoin"
          ],
          [
           "Equihash",
           "Komodo"
          ],
          [
           "CryptoNight",
           "Karbo"
          ],
          [
           "SHA-256",
           "ZayedCoin"
          ],
          [
           "Multiple",
           "Circuits of Value"
          ],
          [
           "Scrypt",
           "DopeCoin"
          ],
          [
           "SHA-256",
           "DollarCoin"
          ],
          [
           "Scrypt",
           "Shilling"
          ],
          [
           "Lyra2Z",
           "ZCoin"
          ],
          [
           "Ethash",
           "Elementrem"
          ],
          [
           "Equihash",
           "ZClassic"
          ],
          [
           "Scrypt",
           "KiloCoin"
          ],
          [
           "X11",
           "ArtexCoin"
          ],
          [
           "X11",
           "Kurrent"
          ],
          [
           "CryptoNight",
           "Cannabis Industry Coin"
          ],
          [
           "Scrypt",
           "OsmiumCoin"
          ],
          [
           "CryptoNight",
           "Bikercoins"
          ],
          [
           "Lyra2RE",
           "HexxCoin"
          ],
          [
           "X11",
           "PacCoin"
          ],
          [
           "CryptoNight-V7",
           "Citadel"
          ],
          [
           "Scrypt",
           "BeaverCoin"
          ],
          [
           "X11",
           "VaultCoin"
          ],
          [
           "Equihash",
           "Zero"
          ],
          [
           "Scrypt",
           "Canada eCoin"
          ],
          [
           "Lyra2RE",
           "Zoin"
          ],
          [
           "Dagger-Hashimoto",
           "DubaiCoin"
          ],
          [
           "Scrypt",
           "EB3coin"
          ],
          [
           "NIST5",
           "Coinonat"
          ],
          [
           "Scrypt",
           "BenjiRolls"
          ],
          [
           "SHA-256",
           "ILCoin"
          ],
          [
           "Scrypt",
           "EquiTrader"
          ],
          [
           "CryptoNight-V7",
           "Quantum Resistant Ledger"
          ],
          [
           "Argon2d",
           "Dynamic"
          ],
          [
           "Blake2b",
           "Nano"
          ],
          [
           "Cloverhash",
           "ChanCoin"
          ],
          [
           "CryptoNight",
           "Dinastycoin"
          ],
          [
           "X11",
           "DigitalPrice"
          ],
          [
           "Scrypt",
           "Unify"
          ],
          [
           "Scrypt",
           "SocialCoin"
          ],
          [
           "X11",
           "ArcticCoin"
          ],
          [
           "X11",
           "DAS"
          ],
          [
           "CryptoNight",
           "LeviarCoin"
          ],
          [
           "Time Travel",
           "Bitcore"
          ],
          [
           "Scrypt",
           "gCn Coin"
          ],
          [
           "Keccak",
           "SmartCash"
          ],
          [
           "X11",
           "Onix"
          ],
          [
           "SHA-256",
           "Bitcoin Cash"
          ],
          [
           "Scrypt",
           "Sojourn Coin"
          ],
          [
           "Scrypt",
           "NewYorkCoin"
          ],
          [
           "Scrypt",
           "FrazCoin"
          ],
          [
           "Scrypt",
           "Kronecoin"
          ],
          [
           "Scrypt",
           "AdCoin"
          ],
          [
           "Scrypt",
           "Linx"
          ],
          [
           "CryptoNight",
           "Sumokoin"
          ],
          [
           "Equihash",
           "BitcoinZ"
          ],
          [
           "X11",
           "Elements"
          ],
          [
           "NeoScrypt",
           "VIVO Coin"
          ],
          [
           "Equihash",
           "Bitcoin Gold"
          ],
          [
           "Dagger",
           "Pirl"
          ],
          [
           "Scrypt",
           "eBoost"
          ],
          [
           "X11",
           "Pura"
          ],
          [
           "NeoScrypt",
           "Innova"
          ],
          [
           "Ethash",
           "Ellaism"
          ],
          [
           "NeoScrypt",
           "GoByte"
          ],
          [
           "Multiple",
           "SHIELD"
          ],
          [
           "CryptoNight",
           "UltraNote"
          ],
          [
           "CryptoNight",
           "BitCoal"
          ],
          [
           "Ethash",
           "DaxxCoin"
          ],
          [
           "X11",
           "AC3"
          ],
          [
           "CryptoNight-V7",
           "Lethean"
          ],
          [
           "Scrypt",
           "PopularCoin"
          ],
          [
           "BLAKE256",
           "Photon"
          ],
          [
           "X11",
           "Sucre"
          ],
          [
           "NeoScrypt",
           "SparksPay"
          ],
          [
           "NeoScrypt",
           "GunCoin"
          ],
          [
           "Scrypt",
           "IrishCoin"
          ],
          [
           "X11",
           "Pioneer Coin"
          ],
          [
           "SHA-256",
           "UnitedBitcoin"
          ],
          [
           "C11",
           "Interzone"
          ],
          [
           "CryptoNight",
           "TurtleCoin"
          ],
          [
           "SkunkHash",
           "MUNcoin"
          ],
          [
           "CryptoNight",
           "Niobio Cash"
          ],
          [
           "Scrypt",
           "ShareChain"
          ],
          [
           "Dagger",
           "Travelflex"
          ],
          [
           "Lyra2REv2",
           "KREDS"
          ],
          [
           "Scrypt",
           "BitFlip"
          ],
          [
           "Scrypt",
           "LottoCoin"
          ],
          [
           "X11",
           "Crypto Improvement Fund"
          ],
          [
           "Ethash",
           "Callisto Network"
          ],
          [
           "CryptoNight",
           "BitTube"
          ],
          [
           "Scrypt",
           "Poseidon"
          ],
          [
           "IMesh",
           "Aidos Kuneen"
          ],
          [
           "Equihash",
           "Bitrolium"
          ],
          [
           "Lyra2Z",
           "Alpenschillling"
          ],
          [
           "X11",
           "FuturoCoin"
          ],
          [
           "CryptoNight",
           "Monero Classic"
          ],
          [
           "NIST5",
           "Jumpcoin"
          ],
          [
           "Lyra2RE",
           "Infinex"
          ],
          [
           "Tribus",
           "KEYCO"
          ],
          [
           "Lyra2Z",
           "GINcoin"
          ],
          [
           "CryptoNight",
           "PlatinCoin"
          ],
          [
           "CryptoNight Heavy",
           "Loki"
          ],
          [
           "CryptoNight",
           "Newton Coin"
          ],
          [
           "Jump Consistent Hash",
           "MassGrid"
          ],
          [
           "CryptoNight",
           "PluraCoin"
          ],
          [
           "X16R",
           "Motion"
          ],
          [
           "HMQ1725",
           "PlusOneCoin"
          ],
          [
           "X11",
           "Axe"
          ],
          [
           "Scrypt",
           "HexCoin"
          ],
          [
           "CryptoNight-V7",
           "Webchain"
          ],
          [
           "Cryptonight-GPU",
           "Ryo"
          ],
          [
           "XEVAN",
           "Urals Coin"
          ],
          [
           "CryptoNight Heavy",
           "Qwertycoin"
          ],
          [
           "SHA-256",
           "Project Pai"
          ],
          [
           "X11",
           "Azart"
          ],
          [
           "X16R",
           "Xchange"
          ],
          [
           "Equihash",
           "CrypticCoin"
          ],
          [
           "Lyra2Z",
           "Actinium"
          ],
          [
           "SHA-256",
           "Bitcoin SV"
          ],
          [
           "CryptoNight",
           "FREDEnergy"
          ],
          [
           "Blake",
           "Universal Molecule"
          ],
          [
           "Blake",
           "Lithium"
          ],
          [
           "Equihash",
           "PirateCash"
          ],
          [
           "Exosis",
           "Exosis"
          ],
          [
           "Scrypt",
           "Block-Logic"
          ],
          [
           "Equihash",
           "Beam"
          ],
          [
           "Equihash",
           "Bithereum"
          ],
          [
           "QuBit",
           "SLICE"
          ],
          [
           "SHA-256",
           "BLAST"
          ],
          [
           "X13",
           "Bitcoin Rhodium"
          ],
          [
           "SHA-256",
           "GlobalToken"
          ],
          [
           "Scrypt",
           "SolarCoin"
          ],
          [
           "NeoScrypt",
           "UFO Coin"
          ],
          [
           "Blake",
           "BlakeCoin"
          ],
          [
           "Scrypt",
           "Crypto Escudo"
          ],
          [
           "SHA-256",
           "Crown Coin"
          ],
          [
           "Scrypt",
           "SmileyCoin"
          ],
          [
           "Groestl",
           "Groestlcoin"
          ],
          [
           "Scrypt",
           "Bata"
          ],
          [
           "Scrypt",
           "Pakcoin"
          ],
          [
           "Multiple",
           "JoinCoin"
          ],
          [
           "Equihash+Scrypt",
           "Vollar"
          ],
          [
           "Ethash",
           "Reality Clash"
          ],
          [
           "CryptoNight",
           "Beldex"
          ],
          [
           "Equihash",
           "Horizen"
          ]
         ],
         "hovertemplate": "class=%{marker.color}<br>PC 1=%{x}<br>PC 2=%{y}<br>PC 3=%{z}<br>Algorithm=%{customdata[0]}<br>CoinName=%{customdata[1]}<extra></extra>",
         "legendgroup": "1",
         "marker": {
          "color": [
           1,
           1,
           1,
           1,
           1,
           1,
           1,
           1,
           1,
           1,
           1,
           1,
           1,
           1,
           1,
           1,
           1,
           1,
           1,
           1,
           1,
           1,
           1,
           1,
           1,
           1,
           1,
           1,
           1,
           1,
           1,
           1,
           1,
           1,
           1,
           1,
           1,
           1,
           1,
           1,
           1,
           1,
           1,
           1,
           1,
           1,
           1,
           1,
           1,
           1,
           1,
           1,
           1,
           1,
           1,
           1,
           1,
           1,
           1,
           1,
           1,
           1,
           1,
           1,
           1,
           1,
           1,
           1,
           1,
           1,
           1,
           1,
           1,
           1,
           1,
           1,
           1,
           1,
           1,
           1,
           1,
           1,
           1,
           1,
           1,
           1,
           1,
           1,
           1,
           1,
           1,
           1,
           1,
           1,
           1,
           1,
           1,
           1,
           1,
           1,
           1,
           1,
           1,
           1,
           1,
           1,
           1,
           1,
           1,
           1,
           1,
           1,
           1,
           1,
           1,
           1,
           1,
           1,
           1,
           1,
           1,
           1,
           1,
           1,
           1,
           1,
           1,
           1,
           1,
           1,
           1,
           1,
           1,
           1,
           1,
           1,
           1,
           1,
           1,
           1,
           1,
           1,
           1,
           1,
           1,
           1,
           1,
           1,
           1,
           1,
           1,
           1,
           1,
           1,
           1,
           1,
           1,
           1,
           1,
           1,
           1,
           1,
           1,
           1,
           1,
           1,
           1,
           1,
           1,
           1,
           1,
           1,
           1,
           1,
           1,
           1,
           1,
           1,
           1,
           1,
           1,
           1,
           1,
           1,
           1,
           1,
           1,
           1,
           1,
           1,
           1,
           1,
           1,
           1,
           1,
           1,
           1,
           1,
           1,
           1,
           1,
           1,
           1,
           1,
           1,
           1,
           1,
           1,
           1,
           1,
           1,
           1,
           1,
           1,
           1,
           1,
           1,
           1,
           1,
           1,
           1,
           1,
           1,
           1,
           1,
           1,
           1,
           1,
           1,
           1,
           1,
           1,
           1,
           1,
           1,
           1,
           1,
           1,
           1
          ],
          "coloraxis": "coloraxis",
          "symbol": "diamond"
         },
         "mode": "markers",
         "name": "1",
         "scene": "scene",
         "showlegend": true,
         "type": "scatter3d",
         "x": [
          -0.14889448285083962,
          -0.15165694223967982,
          -0.17182965894192254,
          -0.15075102355337802,
          -0.1500940554450455,
          -0.11399332229488471,
          0.1586788404214305,
          -0.17297935236911263,
          -0.24334040557913464,
          -0.17259469849405143,
          -0.09549913782602114,
          2.557498384004458,
          -0.14597065550879268,
          -0.16984176775274565,
          -0.17239809369540227,
          -0.2157043042180989,
          -0.18281168585640314,
          -0.17244709722158016,
          -0.1729615666713746,
          -0.17304828783103687,
          -0.24343001195061412,
          0.1824895879905632,
          0.23009046291859492,
          0.07643080810137068,
          -0.17279382923358996,
          -0.16838584245793262,
          -0.1727329268013996,
          -0.1731054603498538,
          -0.17184396950832123,
          -0.15226474918669866,
          -0.1718969500450252,
          -0.172175202892178,
          1.5810614818182545,
          -0.1488557396270082,
          -0.1694563535035913,
          -0.17282034968407547,
          -0.17317623059663484,
          -0.17243324962189532,
          -0.16898758241189749,
          -0.1730571356943661,
          -0.03754223569020519,
          -0.1489335764965605,
          -0.1667020037338725,
          -0.17303649796179182,
          -0.1711248767557218,
          -0.17252169155596053,
          -0.13604667757067232,
          -0.1483957354550681,
          -0.1486837866698151,
          -0.14866665570092358,
          -0.14925922376485545,
          -0.24360444484142144,
          -0.17275215711512154,
          -0.17895821079397706,
          -0.16984646856632946,
          -0.14846322998874198,
          3.8661219257174686,
          0.4548681598930724,
          -0.17161630578145834,
          -0.15616754621021797,
          -0.170331280469284,
          -0.17317844412230693,
          -0.17019593740734498,
          -0.15637793562788224,
          -0.1053886297093098,
          -0.1296083823672764,
          -0.17748233414151854,
          -0.1730511503162472,
          -0.04560115654286243,
          -0.11438360201580822,
          -0.17318736610100285,
          -0.14896143504182482,
          0.4810313874377402,
          -0.24298978610296773,
          -0.16386793588766482,
          -0.14870048152274482,
          -0.2432755367914581,
          -0.171305311394531,
          -0.17049512795209137,
          -0.15272748479099793,
          0.3815020742552328,
          -0.24331104548925148,
          -0.14885686525217995,
          -0.16913307309851627,
          -0.1922133631625362,
          -0.1717463832775965,
          0.2708851456349082,
          -0.24246920126155183,
          -0.17945390402592684,
          -0.17199438480692966,
          -0.19619149864814747,
          -0.1729766312918517,
          -0.24327416612884267,
          -0.17318742477173169,
          -0.24342457474894685,
          -0.08874423419379084,
          0.29930309576143393,
          -0.1491177285285922,
          -0.10962064086065945,
          -0.17034552518040771,
          -0.14907623593935662,
          -0.17284979208296275,
          -0.14301308106913024,
          -0.15246887335718295,
          -0.11401500243542682,
          -0.09968238142730712,
          -0.22996792305030195,
          -0.24124603823068866,
          0.2992974620806396,
          -0.1731691057336595,
          0.2994285663685645,
          -0.1644100533841802,
          0.47407911718041923,
          -0.14951180586901638,
          -0.17313729921468649,
          -0.23613575865252726,
          -0.11402742020375191,
          -0.1712649521202991,
          -0.16412759277718297,
          -0.12526408542447312,
          -0.14396928279545607,
          -0.17109951172863974,
          -0.17269834435401735,
          -0.11534032899606433,
          -0.1725198276635142,
          -0.14936926312348403,
          -0.13022695221371902,
          -0.019968677244238262,
          -0.18731832314706,
          0.33552827160597803,
          -0.24247759200190505,
          -0.17284011075628758,
          -0.17260270580455708,
          -0.2428734921279262,
          -0.24345269955470356,
          0.299693658713167,
          -0.1617494962066296,
          3.2468039207814123,
          -0.1241363857419735,
          -0.234296343758155,
          -0.1488936446287881,
          -0.09852589990029778,
          1.5789304763573127,
          -0.17293824263913488,
          -0.17238817627653333,
          -0.1720882515049621,
          -0.17207514428672857,
          0.2998778638360816,
          0.0989543099242986,
          -0.19770347450661266,
          -0.1765469174738911,
          -0.11387301533980523,
          -0.17820916320939056,
          -0.1712631560482631,
          -0.23898356013701597,
          -0.17639184759086596,
          -0.15082887260097058,
          -0.1764923676217623,
          -0.11981056558547089,
          1.1398299764123296,
          0.29928016701422144,
          -0.0754823678072633,
          -0.2387240403077143,
          -0.13844803315865573,
          -0.08907367135201885,
          1.100202244659242,
          -0.24342662074076085,
          -0.1765444791916963,
          -0.16956121549756872,
          -0.1721869827590629,
          -0.2433518050359995,
          -0.14887298331136142,
          -0.22209048430625344,
          8.061401949467173,
          -0.12739588932216678,
          0.30316645520448127,
          0.020433406702047126,
          -0.17771102430307292,
          -0.16447238241014434,
          -0.1727624228712524,
          0.13524134414046857,
          -0.237474804310313,
          -0.10371978142947776,
          0.3072281029223506,
          -0.17300015760789428,
          -0.131189930391733,
          -0.11286107836409123,
          -0.1407896520461395,
          -0.242518483504001,
          0.29946322864105934,
          -0.17115919282259423,
          -0.1642548125494869,
          -0.10935729734105498,
          -0.14309772232439605,
          0.303403894491896,
          0.556807444574692,
          2.1135394374568515,
          -0.13455591998015262,
          0.31310955533088436,
          -0.2196671876115192,
          -0.20509094703258318,
          -0.24340872683771184,
          -0.17302480937870293,
          -0.1383262974210287,
          -0.12160510870152287,
          -0.13865642358560498,
          3.087040837233718,
          -0.10860058188648668,
          -0.24338000210112726,
          -0.2190931079204556,
          -0.00829911056357276,
          -0.14249359233282122,
          -0.1488936823039485,
          0.37946988897374256,
          -0.13713537502890782,
          -0.1375286785694773,
          -0.2317194472522882,
          -0.1271823788130654,
          -0.17191370683471896,
          -0.11192704737042823,
          -0.11370532930125554,
          -0.1766908350688665,
          -0.14816763834217123,
          -0.09828399555757589,
          -0.1470320960158824,
          0.5250893661262194,
          -0.1014848283670456,
          -0.08783772711618425,
          -0.15652896156316531,
          -0.14868315528208498,
          0.5448257853245805,
          -0.18237136848184746,
          -0.17310190092143665,
          -0.17105134441949152,
          -0.13034540947511952,
          -0.12086704438828201,
          -0.1525021316234117,
          0.32110316492209795,
          -0.11399438232994243
         ],
         "y": [
          -1.3514716307597219,
          -2.036418390423061,
          -1.0591969022866727,
          -2.2228770845056536,
          -2.036533002114771,
          -2.176160764171498,
          -1.8797620667634996,
          -1.0591795749396558,
          -0.9249770030239391,
          -1.0592014238251217,
          -1.872217662182124,
          -1.2719308102912381,
          -1.3515073331915346,
          -1.0592686492317187,
          -1.0592228582261887,
          -0.4855269589624185,
          -1.2461359077625145,
          -1.0591861321987488,
          -1.0591791293704553,
          -1.0591755467027484,
          -0.9249777834209167,
          -1.875910858548418,
          -1.3573384127401176,
          -1.0628008604770005,
          -1.0591749271942392,
          -1.0592686340555446,
          -1.0591814558327892,
          -1.0591755847191664,
          -1.6289214769887252,
          -1.0596854466317436,
          -1.0591883370506638,
          -1.0591969522075404,
          -1.0815605231483296,
          -1.3514706601603352,
          -1.0592702851447549,
          -1.0591748593716908,
          -1.0591701191153855,
          -1.0591812704451453,
          -2.1956271563436975,
          -1.0591734692030426,
          -1.066754448911474,
          -1.351472610137909,
          -1.059253694294606,
          -1.0591810065571499,
          -1.0593007938155752,
          -1.0591902224864436,
          -1.3517845971878446,
          -1.3514781824582318,
          -1.3514817289063465,
          -1.3515091239363919,
          -1.3514655748121298,
          -0.9249689734495916,
          -1.0591753476512906,
          -1.3205130164370424,
          -1.0592800583489945,
          -1.3514784001439282,
          -2.3712198395424773,
          -2.328931132753206,
          -1.059207021736252,
          -1.0599731496349942,
          -1.0592196890723853,
          -1.0591711103405423,
          -1.059211622514023,
          -1.0594805136516536,
          -2.2988256175568327,
          -1.8716077392050927,
          -1.5809901815951075,
          -1.0591684656455382,
          -1.063295263317311,
          -2.285456852314551,
          -1.0591698631835473,
          -1.351473308053162,
          -1.1101436966141243,
          -0.9249777380715604,
          -2.2452423683551412,
          -1.3514907580043143,
          -0.9249761101398464,
          -1.0592762011868735,
          -1.0592850172812516,
          -2.036457588898904,
          -2.1861830354605623,
          -0.9249733386289977,
          -1.351470688359617,
          -1.059221606309185,
          -2.228052786253413,
          -1.0591948160558298,
          -1.3567749920430328,
          -0.9250020393255965,
          -2.1583073383094336,
          -1.0592627923635036,
          -2.182913162231099,
          -1.059178774555229,
          -0.9249790046646928,
          -1.0591698624347594,
          -0.9249827727175166,
          -1.980101724568434,
          -2.3255135304396175,
          -1.3514689758565577,
          -1.8719856630186944,
          -1.0592446586312232,
          -1.3514685970565476,
          -1.0591829191228952,
          -2.292197038762268,
          -2.036457919115472,
          -2.1761613073046937,
          -1.0646501119422758,
          -0.9249934577025262,
          -0.9250768355766069,
          -2.3255217259479806,
          -1.0591709395741966,
          -2.325521370372182,
          -2.2452150998845015,
          -0.9802110589725495,
          -2.2229814993978008,
          -1.059170615555818,
          -0.9255140828331873,
          -2.176158689533121,
          -1.059194470642361,
          -2.2452160780247126,
          -2.324150753755606,
          -1.0613662978792255,
          -0.7056565881873577,
          -1.059183167161801,
          -1.3524461912521304,
          -1.0592054058787397,
          -2.2229193511450593,
          -2.324025133027144,
          -2.196489883722895,
          -2.1943215680400785,
          -2.3260631227224486,
          -0.9250139649826505,
          -1.0591748248897837,
          -1.0592096787979095,
          -0.9249945944865893,
          -0.9249790107873361,
          -2.3255359635059722,
          -2.125274615379115,
          -1.1199345640321152,
          -1.2346752519492104,
          -0.9255412231855032,
          -1.3514716097604902,
          -1.064987247497533,
          -1.0152751661701647,
          -1.059177812838599,
          -1.0592108943226217,
          -1.0592150960265239,
          -1.0592147676630919,
          -2.3255568949713803,
          -2.186187130673825,
          -0.9251370457103489,
          -1.6288130410899135,
          -2.176157750228802,
          -2.1583686387032133,
          -1.0591944256469723,
          -0.9251094860500239,
          -1.6288223361453797,
          -2.036602665932252,
          -1.6288151891365878,
          -1.871845545619425,
          -2.366687574238435,
          -2.3255159353923127,
          -2.041832213925398,
          -0.9252494276731497,
          -2.223300704741558,
          -1.0607232628625363,
          -1.244513899476808,
          -0.9249790164522398,
          -1.628808586711559,
          -1.628984372567441,
          -1.05919120968696,
          -0.9249794852514751,
          -1.3514704814830578,
          -1.1072984435487996,
          -2.863264986445138,
          -2.220614854685612,
          -2.325655447466853,
          -1.0616409583823978,
          -2.1583149305999383,
          -1.3208940470758443,
          -1.0591880524971478,
          -1.0649205003618354,
          -0.9251815208940428,
          -2.0399768656505506,
          -2.326039885864379,
          -1.0591800961547206,
          -2.353932669845932,
          -2.176168277645248,
          -2.2923453324770655,
          -0.9250149894009309,
          -2.3255156693855525,
          -0.7056381289820238,
          -2.245223131246982,
          -2.1930171158521956,
          -2.292191178052821,
          -2.3258428044386803,
          -2.2395003066774404,
          -2.4147834558718526,
          -2.2071732458313753,
          -2.3258925430901445,
          -1.2979123588396562,
          -2.180276204478183,
          -0.924979446831118,
          -1.0591815230244481,
          -2.2238471964280606,
          -2.148998990818174,
          -0.9137321138998257,
          -2.3110746286606423,
          -1.3519844601040831,
          -0.9249816560787801,
          -1.297955034330393,
          -2.179062364336402,
          -2.2922298611782606,
          -1.3514716107043323,
          -2.329414164133822,
          -2.212497972710399,
          -2.2124493282000923,
          -0.2485585435798057,
          -2.2324184970202414,
          -1.0592253676289554,
          -2.176286049389506,
          -2.176160788024735,
          -1.5810435744465696,
          -1.351484907048865,
          -0.385782446385095,
          -1.3515326097548057,
          -1.1135064672434187,
          -1.6298416706207364,
          -2.21631150220738,
          -1.0594842971695233,
          -1.3514817130887544,
          -1.0777924528005607,
          -1.2461402534144652,
          -1.0591709295877543,
          -1.059249161007479,
          -1.8716282534909399,
          -2.263862426364572,
          -2.0364574946550733,
          -2.325985335610244,
          -2.1761607907276086
         ],
         "z": [
          0.1908569991275747,
          0.3639264439450742,
          -0.0023024427976612474,
          0.31443543244894634,
          0.36390118005553423,
          0.3471811049098037,
          0.36852211527873524,
          -0.002274071566292623,
          0.02617521218238882,
          -0.0022812185384959507,
          0.3742519448228902,
          -0.044583267119169184,
          0.19078362528895543,
          -0.0023453931779115612,
          -0.002283371461673632,
          0.04816864357527194,
          0.06602453906679945,
          -0.0022874201110244415,
          -0.0022746147309490425,
          -0.0022728071789605633,
          0.026177734748324605,
          0.3673194242203411,
          0.18152735175478435,
          -0.008448929941933617,
          -0.0022797373327785534,
          -0.002384529488269992,
          -0.00228042047975765,
          -0.002271264873591683,
          0.21593031518506084,
          -0.0027569533813645067,
          -0.0023018854836930765,
          -0.002293147562424074,
          -0.04615131986698686,
          0.1908558159325042,
          -0.002355513787199118,
          -0.002279034393697936,
          -0.002270161173971624,
          -0.002288502645594266,
          0.3230190822040849,
          -0.0022728728868550894,
          -0.004807791192452738,
          0.1908581930243189,
          -0.002431972470605615,
          -0.002272326373797203,
          -0.002306207790243336,
          -0.0022848174677717915,
          0.19055738621369162,
          0.1908445504316538,
          0.1908528111658028,
          0.19085635322638678,
          0.19086591826902846,
          0.02618113618995445,
          -0.0022807960150674255,
          0.26778534380704844,
          -0.002343599904642578,
          0.19084639643484855,
          0.28943525144197885,
          0.3749484356549863,
          -0.0023066990644412598,
          -0.0026100147591725203,
          -0.002339388754159871,
          -0.0022699568541001748,
          -0.0023442052236056165,
          -0.002676335815991439,
          0.5399412125959667,
          0.3750796614290605,
          0.23973259614859513,
          -0.0022737648094115362,
          -0.00509657524288288,
          0.41422337719225844,
          -0.0022698992533303343,
          0.1908590438077624,
          -0.012407281805255438,
          0.02616589520826388,
          0.4058183668756045,
          0.1908545790984763,
          0.026173338107842933,
          -0.0023049509379843287,
          -0.0023254399450693413,
          0.36396094632141496,
          0.35880321071435123,
          0.02617388762369397,
          0.19085585030842922,
          -0.0023713154818699074,
          0.44544828579710355,
          -0.002304985987044381,
          0.18034850562161048,
          0.026155452822936215,
          0.3920304435080682,
          -0.0022883882871383467,
          0.32199099190903285,
          -0.002274261646120032,
          0.026173724167589407,
          -0.0022698977857098126,
          0.02617831755760826,
          0.3166528179425856,
          0.3786305727888781,
          0.19086261189829976,
          0.37459762335323304,
          -0.0023353577120737872,
          0.19086144126685017,
          -0.0022770654428807425,
          0.4401482218635094,
          0.3639540433014784,
          0.3471817670084321,
          -0.0034449667218978447,
          0.025818174776334434,
          0.02613350323259043,
          0.3786319216153132,
          -0.002270232812094654,
          0.3786283456871146,
          0.4058289545186519,
          0.014961480251839921,
          0.31441737872844355,
          -0.002271135085995809,
          0.02606002668736406,
          0.34718171832073963,
          -0.0023179769330720543,
          0.40582150511657417,
          0.3934863991305253,
          -0.0027343494842090874,
          -0.008311402126663212,
          -0.002281099995697501,
          0.19009747795821946,
          -0.0022826492112997055,
          0.314404467178178,
          0.35431283551618353,
          0.3711002925880832,
          0.6517131033340765,
          0.3777371670986867,
          0.026157420747046266,
          -0.002278508270026705,
          -0.0022797972228178177,
          0.026165232112308475,
          0.026178523896060835,
          0.3786233523367215,
          0.19005493298662313,
          -0.08531852183489592,
          0.21663556673136083,
          0.02601455002207153,
          0.190856973528769,
          -0.003426795110397032,
          -0.05577860488280758,
          -0.002275434012797694,
          -0.0022853860096396636,
          -0.002292833858336955,
          -0.0022932341450052894,
          0.37862145922580803,
          0.34292213858107345,
          0.024971911325736864,
          0.2160408836852279,
          0.34717743080677443,
          0.39200594212377354,
          -0.0023180317840464297,
          0.026077460022531227,
          0.21603807357836796,
          0.36393110951746566,
          0.21603973126787257,
          0.37485104854765755,
          0.3620535888512294,
          0.37863154046856984,
          0.36266991506076185,
          0.026090930389393353,
          0.31416663069686984,
          -0.004303849145263658,
          0.03295959649527999,
          0.026177823746324075,
          0.2160401673430825,
          0.2158781459097035,
          -0.0022936699351402082,
          0.026175881254265183,
          0.19085625332328848,
          0.07234228182313615,
          0.2485593517027236,
          0.3456575749669725,
          0.3785474634796718,
          -0.007113231625349412,
          0.3919847055773673,
          0.2674516466210504,
          -0.002278663849345641,
          -0.009720021380556974,
          0.02604743047609988,
          0.36315783982093947,
          0.378494457717119,
          -0.0022734361866441773,
          0.5676129259082556,
          0.34715176885930527,
          0.44011012421655504,
          0.026158669549258856,
          0.3786265810555785,
          -0.008312494913402095,
          0.4058259551859791,
          0.43899375906398896,
          0.4401496406780352,
          0.3785684549321092,
          0.4602133912321141,
          0.34290807411758095,
          0.26334468766966035,
          0.37831484165009266,
          0.29011028015123225,
          0.4372488880350303,
          0.02617740565283241,
          -0.00227256509543882,
          0.31424320323372795,
          0.20261940920062185,
          0.018270203019667062,
          0.40266007074829807,
          0.18984885818331304,
          0.02617695633538922,
          0.29010108441961296,
          0.34476406586045,
          0.4401390539175929,
          0.19085697467934615,
          0.37704565300889825,
          0.29536523267837134,
          0.2953686971950021,
          0.09603373754262429,
          0.42689464736488003,
          -0.0022960247541596694,
          0.3471438698012576,
          0.34717336737637966,
          0.2397191222107579,
          0.19083940185644505,
          -0.06348707101419442,
          0.190815848960736,
          -0.013100209905892715,
          0.21417356253548345,
          0.2945973242458358,
          -0.002671723573533168,
          0.19085279188359625,
          -0.018848674046121665,
          0.06601333861001525,
          -0.002272040682091711,
          -0.0023157280466448056,
          0.37510246934292646,
          0.5623587692723264,
          0.363954875241326,
          0.3781135372675797,
          0.34718113728264466
         ]
        },
        {
         "customdata": [
          [
           "VeChainThor Authority",
           "Vechain"
          ],
          [
           "Proof-of-BibleHash",
           "BiblePay"
          ],
          [
           "SHA-256 + Hive",
           "LitecoinCash"
          ],
          [
           "Proof-of-Authority",
           "Poa Network"
          ],
          [
           "ECC 256K1",
           "Acute Angle Cloud"
          ],
          [
           "Leased POS",
           "Waves"
          ]
         ],
         "hovertemplate": "class=%{marker.color}<br>PC 1=%{x}<br>PC 2=%{y}<br>PC 3=%{z}<br>Algorithm=%{customdata[0]}<br>CoinName=%{customdata[1]}<extra></extra>",
         "legendgroup": "3",
         "marker": {
          "color": [
           3,
           3,
           3,
           3,
           3,
           3
          ],
          "coloraxis": "coloraxis",
          "symbol": "square"
         },
         "mode": "markers",
         "name": "3",
         "scene": "scene",
         "showlegend": true,
         "type": "scatter3d",
         "x": [
          4.400115736733119,
          -0.16403806994195524,
          -0.49035821548249436,
          -0.395498076308828,
          -0.29607269093781863,
          -0.19983077840916347
         ],
         "y": [
          2.523257696747185,
          3.2214369661748257,
          3.923616175592971,
          2.602648119196566,
          2.3304971766235676,
          2.5124020044919004
         ],
         "z": [
          7.17001704561351,
          14.7273096048085,
          19.433516741229354,
          12.762264501851227,
          10.126027140794246,
          9.348780390421368
         ]
        },
        {
         "customdata": [
          [
           "TRC10",
           "BitTorrent"
          ]
         ],
         "hovertemplate": "class=%{marker.color}<br>PC 1=%{x}<br>PC 2=%{y}<br>PC 3=%{z}<br>Algorithm=%{customdata[0]}<br>CoinName=%{customdata[1]}<extra></extra>",
         "legendgroup": "2",
         "marker": {
          "color": [
           2
          ],
          "coloraxis": "coloraxis",
          "symbol": "x"
         },
         "mode": "markers",
         "name": "2",
         "scene": "scene",
         "showlegend": true,
         "type": "scatter3d",
         "x": [
          34.11791526872543
         ],
         "y": [
          1.5298259554888833
         ],
         "z": [
          -1.0766389449483709
         ]
        }
       ],
       "layout": {
        "coloraxis": {
         "colorbar": {
          "title": {
           "text": "class"
          }
         },
         "colorscale": [
          [
           0,
           "#0d0887"
          ],
          [
           0.1111111111111111,
           "#46039f"
          ],
          [
           0.2222222222222222,
           "#7201a8"
          ],
          [
           0.3333333333333333,
           "#9c179e"
          ],
          [
           0.4444444444444444,
           "#bd3786"
          ],
          [
           0.5555555555555556,
           "#d8576b"
          ],
          [
           0.6666666666666666,
           "#ed7953"
          ],
          [
           0.7777777777777778,
           "#fb9f3a"
          ],
          [
           0.8888888888888888,
           "#fdca26"
          ],
          [
           1,
           "#f0f921"
          ]
         ]
        },
        "legend": {
         "title": {
          "text": "class"
         },
         "tracegroupgap": 0,
         "x": 0,
         "y": 1
        },
        "margin": {
         "t": 60
        },
        "scene": {
         "domain": {
          "x": [
           0,
           1
          ],
          "y": [
           0,
           1
          ]
         },
         "xaxis": {
          "title": {
           "text": "PC 1"
          }
         },
         "yaxis": {
          "title": {
           "text": "PC 2"
          }
         },
         "zaxis": {
          "title": {
           "text": "PC 3"
          }
         }
        },
        "template": {
         "data": {
          "bar": [
           {
            "error_x": {
             "color": "#2a3f5f"
            },
            "error_y": {
             "color": "#2a3f5f"
            },
            "marker": {
             "line": {
              "color": "#E5ECF6",
              "width": 0.5
             }
            },
            "type": "bar"
           }
          ],
          "barpolar": [
           {
            "marker": {
             "line": {
              "color": "#E5ECF6",
              "width": 0.5
             }
            },
            "type": "barpolar"
           }
          ],
          "carpet": [
           {
            "aaxis": {
             "endlinecolor": "#2a3f5f",
             "gridcolor": "white",
             "linecolor": "white",
             "minorgridcolor": "white",
             "startlinecolor": "#2a3f5f"
            },
            "baxis": {
             "endlinecolor": "#2a3f5f",
             "gridcolor": "white",
             "linecolor": "white",
             "minorgridcolor": "white",
             "startlinecolor": "#2a3f5f"
            },
            "type": "carpet"
           }
          ],
          "choropleth": [
           {
            "colorbar": {
             "outlinewidth": 0,
             "ticks": ""
            },
            "type": "choropleth"
           }
          ],
          "contour": [
           {
            "colorbar": {
             "outlinewidth": 0,
             "ticks": ""
            },
            "colorscale": [
             [
              0,
              "#0d0887"
             ],
             [
              0.1111111111111111,
              "#46039f"
             ],
             [
              0.2222222222222222,
              "#7201a8"
             ],
             [
              0.3333333333333333,
              "#9c179e"
             ],
             [
              0.4444444444444444,
              "#bd3786"
             ],
             [
              0.5555555555555556,
              "#d8576b"
             ],
             [
              0.6666666666666666,
              "#ed7953"
             ],
             [
              0.7777777777777778,
              "#fb9f3a"
             ],
             [
              0.8888888888888888,
              "#fdca26"
             ],
             [
              1,
              "#f0f921"
             ]
            ],
            "type": "contour"
           }
          ],
          "contourcarpet": [
           {
            "colorbar": {
             "outlinewidth": 0,
             "ticks": ""
            },
            "type": "contourcarpet"
           }
          ],
          "heatmap": [
           {
            "colorbar": {
             "outlinewidth": 0,
             "ticks": ""
            },
            "colorscale": [
             [
              0,
              "#0d0887"
             ],
             [
              0.1111111111111111,
              "#46039f"
             ],
             [
              0.2222222222222222,
              "#7201a8"
             ],
             [
              0.3333333333333333,
              "#9c179e"
             ],
             [
              0.4444444444444444,
              "#bd3786"
             ],
             [
              0.5555555555555556,
              "#d8576b"
             ],
             [
              0.6666666666666666,
              "#ed7953"
             ],
             [
              0.7777777777777778,
              "#fb9f3a"
             ],
             [
              0.8888888888888888,
              "#fdca26"
             ],
             [
              1,
              "#f0f921"
             ]
            ],
            "type": "heatmap"
           }
          ],
          "heatmapgl": [
           {
            "colorbar": {
             "outlinewidth": 0,
             "ticks": ""
            },
            "colorscale": [
             [
              0,
              "#0d0887"
             ],
             [
              0.1111111111111111,
              "#46039f"
             ],
             [
              0.2222222222222222,
              "#7201a8"
             ],
             [
              0.3333333333333333,
              "#9c179e"
             ],
             [
              0.4444444444444444,
              "#bd3786"
             ],
             [
              0.5555555555555556,
              "#d8576b"
             ],
             [
              0.6666666666666666,
              "#ed7953"
             ],
             [
              0.7777777777777778,
              "#fb9f3a"
             ],
             [
              0.8888888888888888,
              "#fdca26"
             ],
             [
              1,
              "#f0f921"
             ]
            ],
            "type": "heatmapgl"
           }
          ],
          "histogram": [
           {
            "marker": {
             "colorbar": {
              "outlinewidth": 0,
              "ticks": ""
             }
            },
            "type": "histogram"
           }
          ],
          "histogram2d": [
           {
            "colorbar": {
             "outlinewidth": 0,
             "ticks": ""
            },
            "colorscale": [
             [
              0,
              "#0d0887"
             ],
             [
              0.1111111111111111,
              "#46039f"
             ],
             [
              0.2222222222222222,
              "#7201a8"
             ],
             [
              0.3333333333333333,
              "#9c179e"
             ],
             [
              0.4444444444444444,
              "#bd3786"
             ],
             [
              0.5555555555555556,
              "#d8576b"
             ],
             [
              0.6666666666666666,
              "#ed7953"
             ],
             [
              0.7777777777777778,
              "#fb9f3a"
             ],
             [
              0.8888888888888888,
              "#fdca26"
             ],
             [
              1,
              "#f0f921"
             ]
            ],
            "type": "histogram2d"
           }
          ],
          "histogram2dcontour": [
           {
            "colorbar": {
             "outlinewidth": 0,
             "ticks": ""
            },
            "colorscale": [
             [
              0,
              "#0d0887"
             ],
             [
              0.1111111111111111,
              "#46039f"
             ],
             [
              0.2222222222222222,
              "#7201a8"
             ],
             [
              0.3333333333333333,
              "#9c179e"
             ],
             [
              0.4444444444444444,
              "#bd3786"
             ],
             [
              0.5555555555555556,
              "#d8576b"
             ],
             [
              0.6666666666666666,
              "#ed7953"
             ],
             [
              0.7777777777777778,
              "#fb9f3a"
             ],
             [
              0.8888888888888888,
              "#fdca26"
             ],
             [
              1,
              "#f0f921"
             ]
            ],
            "type": "histogram2dcontour"
           }
          ],
          "mesh3d": [
           {
            "colorbar": {
             "outlinewidth": 0,
             "ticks": ""
            },
            "type": "mesh3d"
           }
          ],
          "parcoords": [
           {
            "line": {
             "colorbar": {
              "outlinewidth": 0,
              "ticks": ""
             }
            },
            "type": "parcoords"
           }
          ],
          "pie": [
           {
            "automargin": true,
            "type": "pie"
           }
          ],
          "scatter": [
           {
            "marker": {
             "colorbar": {
              "outlinewidth": 0,
              "ticks": ""
             }
            },
            "type": "scatter"
           }
          ],
          "scatter3d": [
           {
            "line": {
             "colorbar": {
              "outlinewidth": 0,
              "ticks": ""
             }
            },
            "marker": {
             "colorbar": {
              "outlinewidth": 0,
              "ticks": ""
             }
            },
            "type": "scatter3d"
           }
          ],
          "scattercarpet": [
           {
            "marker": {
             "colorbar": {
              "outlinewidth": 0,
              "ticks": ""
             }
            },
            "type": "scattercarpet"
           }
          ],
          "scattergeo": [
           {
            "marker": {
             "colorbar": {
              "outlinewidth": 0,
              "ticks": ""
             }
            },
            "type": "scattergeo"
           }
          ],
          "scattergl": [
           {
            "marker": {
             "colorbar": {
              "outlinewidth": 0,
              "ticks": ""
             }
            },
            "type": "scattergl"
           }
          ],
          "scattermapbox": [
           {
            "marker": {
             "colorbar": {
              "outlinewidth": 0,
              "ticks": ""
             }
            },
            "type": "scattermapbox"
           }
          ],
          "scatterpolar": [
           {
            "marker": {
             "colorbar": {
              "outlinewidth": 0,
              "ticks": ""
             }
            },
            "type": "scatterpolar"
           }
          ],
          "scatterpolargl": [
           {
            "marker": {
             "colorbar": {
              "outlinewidth": 0,
              "ticks": ""
             }
            },
            "type": "scatterpolargl"
           }
          ],
          "scatterternary": [
           {
            "marker": {
             "colorbar": {
              "outlinewidth": 0,
              "ticks": ""
             }
            },
            "type": "scatterternary"
           }
          ],
          "surface": [
           {
            "colorbar": {
             "outlinewidth": 0,
             "ticks": ""
            },
            "colorscale": [
             [
              0,
              "#0d0887"
             ],
             [
              0.1111111111111111,
              "#46039f"
             ],
             [
              0.2222222222222222,
              "#7201a8"
             ],
             [
              0.3333333333333333,
              "#9c179e"
             ],
             [
              0.4444444444444444,
              "#bd3786"
             ],
             [
              0.5555555555555556,
              "#d8576b"
             ],
             [
              0.6666666666666666,
              "#ed7953"
             ],
             [
              0.7777777777777778,
              "#fb9f3a"
             ],
             [
              0.8888888888888888,
              "#fdca26"
             ],
             [
              1,
              "#f0f921"
             ]
            ],
            "type": "surface"
           }
          ],
          "table": [
           {
            "cells": {
             "fill": {
              "color": "#EBF0F8"
             },
             "line": {
              "color": "white"
             }
            },
            "header": {
             "fill": {
              "color": "#C8D4E3"
             },
             "line": {
              "color": "white"
             }
            },
            "type": "table"
           }
          ]
         },
         "layout": {
          "annotationdefaults": {
           "arrowcolor": "#2a3f5f",
           "arrowhead": 0,
           "arrowwidth": 1
          },
          "coloraxis": {
           "colorbar": {
            "outlinewidth": 0,
            "ticks": ""
           }
          },
          "colorscale": {
           "diverging": [
            [
             0,
             "#8e0152"
            ],
            [
             0.1,
             "#c51b7d"
            ],
            [
             0.2,
             "#de77ae"
            ],
            [
             0.3,
             "#f1b6da"
            ],
            [
             0.4,
             "#fde0ef"
            ],
            [
             0.5,
             "#f7f7f7"
            ],
            [
             0.6,
             "#e6f5d0"
            ],
            [
             0.7,
             "#b8e186"
            ],
            [
             0.8,
             "#7fbc41"
            ],
            [
             0.9,
             "#4d9221"
            ],
            [
             1,
             "#276419"
            ]
           ],
           "sequential": [
            [
             0,
             "#0d0887"
            ],
            [
             0.1111111111111111,
             "#46039f"
            ],
            [
             0.2222222222222222,
             "#7201a8"
            ],
            [
             0.3333333333333333,
             "#9c179e"
            ],
            [
             0.4444444444444444,
             "#bd3786"
            ],
            [
             0.5555555555555556,
             "#d8576b"
            ],
            [
             0.6666666666666666,
             "#ed7953"
            ],
            [
             0.7777777777777778,
             "#fb9f3a"
            ],
            [
             0.8888888888888888,
             "#fdca26"
            ],
            [
             1,
             "#f0f921"
            ]
           ],
           "sequentialminus": [
            [
             0,
             "#0d0887"
            ],
            [
             0.1111111111111111,
             "#46039f"
            ],
            [
             0.2222222222222222,
             "#7201a8"
            ],
            [
             0.3333333333333333,
             "#9c179e"
            ],
            [
             0.4444444444444444,
             "#bd3786"
            ],
            [
             0.5555555555555556,
             "#d8576b"
            ],
            [
             0.6666666666666666,
             "#ed7953"
            ],
            [
             0.7777777777777778,
             "#fb9f3a"
            ],
            [
             0.8888888888888888,
             "#fdca26"
            ],
            [
             1,
             "#f0f921"
            ]
           ]
          },
          "colorway": [
           "#636efa",
           "#EF553B",
           "#00cc96",
           "#ab63fa",
           "#FFA15A",
           "#19d3f3",
           "#FF6692",
           "#B6E880",
           "#FF97FF",
           "#FECB52"
          ],
          "font": {
           "color": "#2a3f5f"
          },
          "geo": {
           "bgcolor": "white",
           "lakecolor": "white",
           "landcolor": "#E5ECF6",
           "showlakes": true,
           "showland": true,
           "subunitcolor": "white"
          },
          "hoverlabel": {
           "align": "left"
          },
          "hovermode": "closest",
          "mapbox": {
           "style": "light"
          },
          "paper_bgcolor": "white",
          "plot_bgcolor": "#E5ECF6",
          "polar": {
           "angularaxis": {
            "gridcolor": "white",
            "linecolor": "white",
            "ticks": ""
           },
           "bgcolor": "#E5ECF6",
           "radialaxis": {
            "gridcolor": "white",
            "linecolor": "white",
            "ticks": ""
           }
          },
          "scene": {
           "xaxis": {
            "backgroundcolor": "#E5ECF6",
            "gridcolor": "white",
            "gridwidth": 2,
            "linecolor": "white",
            "showbackground": true,
            "ticks": "",
            "zerolinecolor": "white"
           },
           "yaxis": {
            "backgroundcolor": "#E5ECF6",
            "gridcolor": "white",
            "gridwidth": 2,
            "linecolor": "white",
            "showbackground": true,
            "ticks": "",
            "zerolinecolor": "white"
           },
           "zaxis": {
            "backgroundcolor": "#E5ECF6",
            "gridcolor": "white",
            "gridwidth": 2,
            "linecolor": "white",
            "showbackground": true,
            "ticks": "",
            "zerolinecolor": "white"
           }
          },
          "shapedefaults": {
           "line": {
            "color": "#2a3f5f"
           }
          },
          "ternary": {
           "aaxis": {
            "gridcolor": "white",
            "linecolor": "white",
            "ticks": ""
           },
           "baxis": {
            "gridcolor": "white",
            "linecolor": "white",
            "ticks": ""
           },
           "bgcolor": "#E5ECF6",
           "caxis": {
            "gridcolor": "white",
            "linecolor": "white",
            "ticks": ""
           }
          },
          "title": {
           "x": 0.05
          },
          "xaxis": {
           "automargin": true,
           "gridcolor": "white",
           "linecolor": "white",
           "ticks": "",
           "title": {
            "standoff": 15
           },
           "zerolinecolor": "white",
           "zerolinewidth": 2
          },
          "yaxis": {
           "automargin": true,
           "gridcolor": "white",
           "linecolor": "white",
           "ticks": "",
           "title": {
            "standoff": 15
           },
           "zerolinecolor": "white",
           "zerolinewidth": 2
          }
         }
        },
        "width": 800
       }
      },
      "text/html": [
       "<div>                            <div id=\"d235025b-6798-48ef-a926-58335abe0759\" class=\"plotly-graph-div\" style=\"height:525px; width:800px;\"></div>            <script type=\"text/javascript\">                require([\"plotly\"], function(Plotly) {                    window.PLOTLYENV=window.PLOTLYENV || {};                                    if (document.getElementById(\"d235025b-6798-48ef-a926-58335abe0759\")) {                    Plotly.newPlot(                        \"d235025b-6798-48ef-a926-58335abe0759\",                        [{\"customdata\": [[\"Scrypt\", \"42 Coin\"], [\"Scrypt\", \"404Coin\"], [\"X13\", \"EliteCoin\"], [\"X11\", \"Dash\"], [\"SHA-512\", \"Bitshares\"], [\"SHA-256\", \"BitcoinDark\"], [\"SHA-256\", \"PayCoin\"], [\"X15\", \"KoboCoin\"], [\"Scrypt\", \"Aurora Coin\"], [\"Scrypt\", \"BlueCoin\"], [\"Scrypt\", \"EnergyCoin\"], [\"Scrypt\", \"BitBar\"], [\"Scrypt\", \"CryptoBullion\"], [\"Scrypt\", \"CasinoCoin\"], [\"Groestl\", \"Diamond\"], [\"PoS\", \"Exclusive Coin\"], [\"Scrypt\", \"FlutterCoin\"], [\"Scrypt\", \"HoboNickels\"], [\"X11\", \"HyperStake\"], [\"X11\", \"IOCoin\"], [\"SHA3\", \"MaxCoin\"], [\"Scrypt\", \"MintCoin\"], [\"SHA-256\", \"MazaCoin\"], [\"Scrypt\", \"Nautilus Coin\"], [\"X13\", \"NavCoin\"], [\"X13\", \"OpalCoin\"], [\"NeoScrypt\", \"Orbitcoin\"], [\"Scrypt\", \"PotCoin\"], [\"Scrypt\", \"PhoenixCoin\"], [\"Scrypt\", \"Reddcoin\"], [\"X11\", \"SuperCoin\"], [\"X11\", \"SyncCoin\"], [\"Multiple\", \"TeslaCoin\"], [\"PHI1612\", \"TittieCoin\"], [\"X11\", \"TorCoin\"], [\"Scrypt\", \"UnitaryStatus Dollar\"], [\"Scrypt\", \"UltraCoin\"], [\"Scrypt\", \"VeriCoin\"], [\"X11\", \"X11 Coin\"], [\"Multiple\", \"Crypti\"], [\"X13\", \"StealthCoin\"], [\"Scrypt\", \"ZCC Coin\"], [\"Shabal256\", \"BurstCoin\"], [\"Counterparty\", \"StorjCoin\"], [\"SHA-256\", \"Neutron\"], [\"Groestl\", \"FairCoin\"], [\"Scrypt\", \"RubyCoin\"], [\"X13\", \"Kore\"], [\"Scrypt\", \"Dnotes\"], [\"Scrypt\", \"8BIT Coin\"], [\"X13\", \"Sativa Coin\"], [\"X11\", \"Ucoin\"], [\"Scrypt\", \"Vtorrent\"], [\"X11\", \"IslaCoin\"], [\"SHA3\", \"Nexus\"], [\"QUAIT\", \"Droidz\"], [\"X11\", \"Squall Coin\"], [\"Scrypt\", \"Diggits\"], [\"X13\", \"Paycon\"], [\"SHA-256\", \"Emercoin\"], [\"X15\", \"EverGreenCoin\"], [\"BLAKE256\", \"Decred\"], [\"SHA-256\", \"EDRCoin\"], [\"X11\", \"Hitcoin\"], [\"SHA-256\", \"DubaiCoin\"], [\"NIST5\", \"PWR Coin\"], [\"Scrypt\", \"BillaryCoin\"], [\"Scrypt\", \"GPU Coin\"], [\"X11\", \"EuropeCoin\"], [\"Scrypt\", \"ZeitCoin\"], [\"SHA-256\", \"SwingCoin\"], [\"Scrypt\", \"SafeExchangeCoin\"], [\"PoS\", \"Nebuchadnezzar\"], [\"X11\", \"Ratecoin\"], [\"SHA-256\", \"Revenu\"], [\"SHA-256\", \"Clockcoin\"], [\"NIST5\", \"VIP Tokens\"], [\"X11\", \"BitSend\"], [\"POS 3.0\", \"Let it Ride\"], [\"Scrypt\", \"PutinCoin\"], [\"Scrypt\", \"iBankCoin\"], [\"Scrypt\", \"Frankywillcoin\"], [\"X13\", \"MudraCoin\"], [\"X11\", \"Lutetium Coin\"], [\"X11\", \"GoldBlocks\"], [\"Scrypt\", \"CarterCoin\"], [\"SHA-256\", \"BitTokens\"], [\"X11\", \"MustangCoin\"], [\"Scrypt\", \"ZoneCoin\"], [\"Scrypt\", \"RootCoin\"], [\"Scrypt\", \"BitCurrency\"], [\"Scrypt\", \"Swiscoin\"], [\"SHA-256D\", \"BuzzCoin\"], [\"PoS\", \"Opair\"], [\"Scrypt\", \"PesoBit\"], [\"X11\", \"Halloween Coin\"], [\"PoS\", \"CoffeeCoin\"], [\"X13\", \"RoyalCoin\"], [\"X14\", \"GanjaCoin V2\"], [\"PoS\", \"TeamUP\"], [\"SHA-256D\", \"LanaCoin\"], [\"DPoS\", \"ARK\"], [\"X11\", \"InsaneCoin\"], [\"X13\", \"EmberCoin\"], [\"X11\", \"XenixCoin\"], [\"PoS\", \"FreeCoin\"], [\"Scrypt\", \"PLNCoin\"], [\"Scrypt\", \"AquariusCoin\"], [\"PoS\", \"Creatio\"], [\"X11\", \"Eternity\"], [\"SHA-256\", \"Eurocoin\"], [\"Scrypt\", \"BitcoinFast\"], [\"X11\", \"Stakenet\"], [\"Scrypt\", \"BitConnect Coin\"], [\"Scrypt\", \"MoneyCoin\"], [\"X11\", \"Enigma\"], [\"Scrypt\", \"Russiacoin\"], [\"Scrypt\", \"PandaCoin\"], [\"Scrypt\", \"GameUnits\"], [\"Scrypt\", \"GAKHcoin\"], [\"Quark\", \"Allsafe\"], [\"QuBit\", \"LiteCreed\"], [\"Scrypt\", \"Klingon Empire Darsek\"], [\"SHA-256\", \"Internet of People\"], [\"X11\", \"KushCoin\"], [\"Scrypt\", \"Printerium\"], [\"Scrypt\", \"Impeach\"], [\"Scrypt\", \"Zilbercoin\"], [\"Scrypt\", \"FirstCoin\"], [\"X13\", \"FindCoin\"], [\"Scrypt\", \"OpenChat\"], [\"Scrypt\", \"RenosCoin\"], [\"X11\", \"VirtacoinPlus\"], [\"Blake2S\", \"TajCoin\"], [\"X11\", \"Impact\"], [\"PoS\", \"Atmos\"], [\"X11\", \"HappyCoin\"], [\"PoS\", \"MacronCoin\"], [\"X11\", \"Condensate\"], [\"Scrypt\", \"Independent Money System\"], [\"Scrypt\", \"ArgusCoin\"], [\"Scrypt\", \"LomoCoin\"], [\"SHA-256\", \"ProCurrency\"], [\"X11\", \"GoldReserve\"], [\"Scrypt\", \"GrowthCoin\"], [\"PoS\", \"Phreak\"], [\"Scrypt\", \"Degas Coin\"], [\"X15\", \"HTML5 Coin\"], [\"SHA-256\", \"Ultimate Secure Cash\"], [\"POS 3.0\", \"QTUM\"], [\"536\", \"Espers\"], [\"NIST5\", \"Denarius\"], [\"NIST5\", \"Virta Unique Coin\"], [\"Skein\", \"Bitcoin Planet\"], [\"X13\", \"BritCoin\"], [\"Scrypt\", \"Linda\"], [\"X13\", \"DeepOnion\"], [\"SkunkHash v2 Raptor\", \"Signatum\"], [\"Skein\", \"Cream\"], [\"X11\", \"Monoeci\"], [\"Scrypt\", \"Draftcoin\"], [\"PoS\", \"Stakecoin\"], [\"Scrypt\", \"CoinonatX\"], [\"Scrypt\", \"Ethereum Dark\"], [\"SHA-512\", \"Obsidian\"], [\"Ouroboros\", \"Cardano\"], [\"X11\", \"Regalcoin\"], [\"NeoScrypt\", \"TrezarCoin\"], [\"Scrypt\", \"TerraNovaCoin\"], [\"Lyra2REv2\", \"Rupee\"], [\"Scrypt\", \"WomenCoin\"], [\"SHA-256\", \"Theresa May Coin\"], [\"NIST5\", \"NamoCoin\"], [\"PHI1612\", \"LUXCoin\"], [\"Scrypt\", \"Xios\"], [\"Quark\", \"Bitcloud 2.0\"], [\"POS 2.0\", \"KekCoin\"], [\"Scrypt\", \"BlackholeCoin\"], [\"SHA-256\", \"Infinity Economics\"], [\"X11\", \"Magnet\"], [\"DPoS\", \"Lamden Tau\"], [\"NIST5\", \"Electra\"], [\"X13\", \"Bitcoin Diamond\"], [\"Scrypt\", \"Cash & Back Coin\"], [\"NIST5\", \"Bulwark\"], [\"Quark\", \"Kalkulus\"], [\"Scrypt\", \"GermanCoin\"], [\"Scrypt\", \"LiteCoin Ultra\"], [\"X11\", \"PhantomX\"], [\"Quark\", \"Digiwage\"], [\"Scrypt\", \"Trollcoin\"], [\"Scrypt\", \"Litecoin Plus\"], [\"X11\", \"Monkey Project\"], [\"POS 3.0\", \"TokenPay\"], [\"Ethash\", \"1717 Masonic Commemorative Token\"], [\"Scrypt\", \"My Big Coin\"], [\"Scrypt\", \"Unified Society USDEX\"], [\"X13\", \"Tokyo Coin\"], [\"C11\", \"Stipend\"], [\"X11\", \"Pushi\"], [\"XEVAN\", \"Ellerium\"], [\"Scrypt\", \"Velox\"], [\"VBFT\", \"Ontology\"], [\"NIST5\", \"Bitspace\"], [\"Scrypt\", \"Briacoin\"], [\"Scrypt\", \"Ignition\"], [\"Scrypt\", \"MedicCoin\"], [\"Green Protocol\", \"Bitcoin Green\"], [\"PoS\", \"Deviant Coin\"], [\"Scrypt\", \"Abjcoin\"], [\"Semux BFT consensus\", \"Semux\"], [\"Quark\", \"Carebit\"], [\"PoS\", \"Zealium\"], [\"X16R\", \"Proton\"], [\"Scrypt\", \"iDealCash\"], [\"XEVAN\", \"Bitcoin Incognito\"], [\"Scrypt\", \"HollyWoodCoin\"], [\"Scrypt\", \"Swisscoin\"], [\"Scrypt\", \"Xt3ch\"], [\"SHA-256D\", \"TheVig\"], [\"Scrypt\", \"EmaratCoin\"], [\"X15\", \"Dekado\"], [\"Scrypt\", \"Lynx\"], [\"Quark\", \"Poseidon Quark\"], [\"SHA-256\", \"BitcoinWSpectrum\"], [\"DPoS\", \"Muse\"], [\"X16R\", \"Trivechain\"], [\"Quark\", \"Dystem\"], [\"Quark\", \"Giant\"], [\"Scrypt\", \"Peony Coin\"], [\"Lyra2REv2\", \"Absolute Coin\"], [\"Quark\", \"Vitae\"], [\"Scrypt\", \"TPCash\"], [\"X11\", \"ARENON\"], [\"X11\", \"EUNO\"], [\"Scrypt\", \"MMOCoin\"], [\"PoS\", \"Ketan\"], [\"Keccak\", \"XDNA\"], [\"X11\", \"PAXEX\"], [\"Scrypt\", \"ThunderStake\"], [\"SHA-512\", \"Kcash\"], [\"XEVAN\", \"Bettex coin\"], [\"XEVAN\", \"BitMoney\"], [\"X11\", \"Junson Ming Chan Coin\"], [\"Quark\", \"HerbCoin\"], [\"Scrypt\", \"Oduwa\"], [\"Quark\", \"Galilel\"], [\"Quark\", \"Crypto Sports\"], [\"Scrypt\", \"Credit\"], [\"X11\", \"Dash Platinum\"], [\"Scrypt\", \"Nasdacoin\"], [\"XEVAN\", \"Beetle Coin\"], [\"SHA-256D\", \"Titan Coin\"], [\"X11\", \"Award\"], [\"X11\", \"Insane Coin\"], [\"DPoS\", \"ALAX\"], [\"Scrypt\", \"LiteDoge\"], [\"X11\", \"TruckCoin\"], [\"Scrypt\", \"OrangeCoin\"], [\"Scrypt\", \"BitstarCoin\"], [\"SHA-256\", \"NeosCoin\"], [\"Scrypt\", \"HyperCoin\"], [\"X11\", \"PinkCoin\"], [\"Scrypt\", \"AudioCoin\"], [\"SHA-256\", \"IncaKoin\"], [\"X11\", \"Piggy Coin\"], [\"Scrypt\", \"Genstake\"], [\"Scrypt\", \"XiaoMiCoin\"], [\"X11\", \"CapriCoin\"], [\"Scrypt\", \" ClubCoin\"], [\"PoS\", \"Radium\"], [\"X11\", \"Creditbit \"], [\"SHA-256\", \"OKCash\"], [\"DPoS\", \"Lisk\"], [\"Scrypt\", \"HiCoin\"], [\"Scrypt\", \"WhiteCoin\"], [\"NeoScrypt\", \"FriendshipCoin\"], [\"X13\", \"Triangles Coin\"], [\"DPoS\", \"EOS\"], [\"DPoS\", \"Oxycoin\"], [\"SHA-256\", \"TigerCash\"], [\"PoS\", \"Particl\"], [\"PoS\", \"Nxt\"], [\"SHA-256\", \"ZEPHYR\"], [\"Scrypt\", \"Gapcoin\"], [\"Scrypt\", \"BitcoinPlus\"]], \"hovertemplate\": \"class=%{marker.color}<br>PC 1=%{x}<br>PC 2=%{y}<br>PC 3=%{z}<br>Algorithm=%{customdata[0]}<br>CoinName=%{customdata[1]}<extra></extra>\", \"legendgroup\": \"0\", \"marker\": {\"color\": [0, 0, 0, 0, 0, 0, 0, 0, 0, 0, 0, 0, 0, 0, 0, 0, 0, 0, 0, 0, 0, 0, 0, 0, 0, 0, 0, 0, 0, 0, 0, 0, 0, 0, 0, 0, 0, 0, 0, 0, 0, 0, 0, 0, 0, 0, 0, 0, 0, 0, 0, 0, 0, 0, 0, 0, 0, 0, 0, 0, 0, 0, 0, 0, 0, 0, 0, 0, 0, 0, 0, 0, 0, 0, 0, 0, 0, 0, 0, 0, 0, 0, 0, 0, 0, 0, 0, 0, 0, 0, 0, 0, 0, 0, 0, 0, 0, 0, 0, 0, 0, 0, 0, 0, 0, 0, 0, 0, 0, 0, 0, 0, 0, 0, 0, 0, 0, 0, 0, 0, 0, 0, 0, 0, 0, 0, 0, 0, 0, 0, 0, 0, 0, 0, 0, 0, 0, 0, 0, 0, 0, 0, 0, 0, 0, 0, 0, 0, 0, 0, 0, 0, 0, 0, 0, 0, 0, 0, 0, 0, 0, 0, 0, 0, 0, 0, 0, 0, 0, 0, 0, 0, 0, 0, 0, 0, 0, 0, 0, 0, 0, 0, 0, 0, 0, 0, 0, 0, 0, 0, 0, 0, 0, 0, 0, 0, 0, 0, 0, 0, 0, 0, 0, 0, 0, 0, 0, 0, 0, 0, 0, 0, 0, 0, 0, 0, 0, 0, 0, 0, 0, 0, 0, 0, 0, 0, 0, 0, 0, 0, 0, 0, 0, 0, 0, 0, 0, 0, 0, 0, 0, 0, 0, 0, 0, 0, 0, 0, 0, 0, 0, 0, 0, 0, 0, 0, 0, 0, 0, 0, 0, 0, 0, 0, 0, 0, 0, 0, 0, 0, 0, 0, 0, 0, 0, 0, 0, 0, 0, 0, 0, 0, 0, 0, 0, 0], \"coloraxis\": \"coloraxis\", \"symbol\": \"circle\"}, \"mode\": \"markers\", \"name\": \"0\", \"scene\": \"scene\", \"showlegend\": true, \"type\": \"scatter3d\", \"x\": [-0.3339230159269828, -0.317211647726466, 2.3337439365864605, -0.40407579401208843, -0.27092542608360276, -0.309814881195032, -0.26742572076299254, -0.23285204921376393, -0.3335815793370615, -0.32613774926485023, -0.3324152408711529, -0.3339189394568532, -0.3339031742029126, 0.6601192678225042, -0.3446681210825294, -0.36424958523926415, -0.30079948138954576, -0.3319759676582518, -0.3414519818700512, -0.40397018570224646, -0.3164996142674152, -0.030702497364867746, -0.273010866207414, -0.29128417877845353, -0.25822721839534646, -0.25885122603871646, -0.33744734850447317, -0.32820805583740464, -0.3323199646193105, 0.025253796728595842, -0.36139607770857735, -0.40434287088921594, -0.2471097942257597, -0.30085737610948, -0.40425423734088883, -0.3090806491714636, -0.33259641147165037, -0.2887485806119893, -0.4042186186931919, -0.24757906295868576, -0.2586314559705407, -0.3249986357601952, -0.0008935129764348574, -0.3054811381811236, -0.3090242352970763, -0.3440880196419885, -0.29126440991677577, -0.2589268093833022, -0.28590210158663143, -0.3339050326279015, -0.25887886016695744, -0.3618421726324087, -0.3336386108619411, -0.4043243463914163, -0.19102373832129824, -0.41680774075020083, -0.39651637358785424, -0.28966114891768907, -0.25839904355982085, -0.3023483543690592, -0.2353011280869781, -0.06891357188612983, -0.309785711065995, -0.0808129224104314, -0.30984961003575634, -0.2089185838552279, -0.3335140933096272, -0.2895296007303651, -0.4014846839254931, 0.865385252948531, -0.3096490426098902, -0.07282945053857232, -0.3639319079304286, -0.40216097447535504, -0.3083886307452237, -0.3060495885615067, -0.3306278780928343, -0.40305563625980273, -0.30906457376616703, -0.30973855641378567, -0.33355229699014943, -0.3319866890609637, -0.21522788412356725, -0.3492956794250314, -0.40379664292796463, -0.33275414209214466, -0.3098304883869588, -0.4043135014287454, -0.33374204719208717, -0.33389924905579915, -0.2895195399801358, -0.27337093648857214, 0.06432820633951872, -0.3628858767799057, -0.3335122906299777, -0.3904332414553993, -0.3622126354764642, -0.2166629723627045, -0.4233559415193294, -0.3619603886575873, -0.2511289874367278, 3.648714969891292, -0.40390481896040903, 0.8765618675399043, -0.4042682793881547, -0.3633510096266476, -0.33343956817137826, -0.33359433424437146, -0.3639319079304286, -0.40384185708978576, -0.30969276615365304, -0.33344031590950574, -0.49871559422115375, -0.3335881414133953, -0.32916232533937595, -0.40429735504276565, -0.3327963586761512, 0.35390384548713033, -0.3337880199616336, -0.3338588122000407, -0.3388034678830162, -0.33735301246635524, -0.330073794950379, -0.30980683390596436, -0.4042070385952175, -0.33363595208603786, -0.3337632687619221, -0.2911705529206628, -0.2973766203862923, -0.21643013423610014, -0.31455973994753095, -0.2909109715644137, -0.40347050209955504, -0.39945606093145775, -0.4022052084085449, -0.36217323419023045, -0.40336809215569436, -0.3565564476236849, -0.39929664097531564, -0.33370639263979496, -0.33370556728486184, -0.32680569865579817, 0.26690971962046073, -0.40384805951187985, -0.2737590677660521, -0.3639662836910551, -0.3329146521891206, 0.9025111269642644, -0.26611201665529477, -0.3078392766265901, 0.6291920591112984, -0.332168106740439, -0.3306658121043223, -0.392769995905121, -0.25856300887207695, 0.13245584584310974, -0.2586340052949615, -0.34382187568018385, -0.39227345026966504, -0.40412128472139175, -0.29124503566114773, -0.36383211594638104, -0.3333404868136519, -0.33384169097770455, -0.32916353590982866, 0.7081639233653624, -0.40406191067065644, -0.33243143898972816, -0.33379715760693046, -0.298115932455668, 0.4375863477891158, -0.3081481852592427, -0.31688882825664516, -0.3788871050182268, -0.3337473435477874, -0.37956602162158826, -0.30588841550352214, -0.3336173791817127, -0.09339208751133118, -0.40285086834579087, 3.653585675852496, 0.22899422966980953, -0.25529489834259816, -0.3310699670802327, -0.28960538642593053, -0.3386890330972021, 0.08181270291640946, -0.33275318270313825, -0.40343385451921576, -0.3378511793685627, -0.32028168310432575, -0.3338638867945469, -0.36181401921993267, -0.30934732007648935, -0.27134308341347857, -0.35315461469453824, -0.32939586383474095, -0.2082007873750022, -0.3828483132095596, -0.4041385522187064, -0.30062229202715623, -0.2904024028157413, -0.3104358208987289, -0.3317658372211188, -0.3338913223379487, -0.33387297693515333, -0.2847669267920986, -0.3715621744633767, -0.3634253547704032, -0.3335886242265341, 3.809060066358819, -0.3782302007620774, -0.3636145831511356, -0.3379478869398493, -0.28029598093054775, -0.292948671535519, -0.2909383464938549, -0.1364175934546623, -0.29119110074027277, -0.31664598698087787, -0.33306103966847184, -0.19231732377167796, 2.228875869286314, -0.33438344567088646, -0.2662402894450405, 0.9818319588296361, -0.3796079967837235, -0.33880289130369906, -0.38125538470938186, -0.1715477881021005, -0.34036950129479365, -0.33751858349565184, -0.32674561685201786, -0.36139014504663575, -0.4036103223756771, -0.2884282346232394, -0.362711546330642, -0.3452130911677532, -0.36125104185483226, -0.19293491275787217, -0.32477500795550135, -0.2582898409382876, 0.5687187317097114, -0.15115990820628578, -0.3805478882871765, -0.3335926259197676, -0.3810053874395195, -0.33892021964014063, 0.5756733594249891, -0.3618684934744681, -0.3330739388037896, -0.29506109752126325, -0.2712260900211866, -0.40116726174300055, -0.4038382515789723, 3.6658636465753736, 0.10265700753399971, -0.40137085392559807, -0.33245744087024603, -0.33328508564462966, -0.26745842916997253, -0.3338050144616682, -0.39544105481157626, -0.24723948223582637, -0.08883696051976488, -0.3911762218516553, -0.3330812237745645, -0.32612482019894556, -0.4003966316709654, -0.3315156420046848, -0.3642083545112262, -0.44340793318823235, -0.30832550602539893, 3.649107979146516, -0.0978988789607103, -0.32870206559749493, -0.3370720226761299, -0.25903434493499705, 3.659004167771157, 3.660251892641139, -0.24829830173043524, -0.3641440366505383, -0.4392428354601899, 2.436084895050624, -0.3319622822868161, -0.29158879313168246], \"y\": [1.1060071382991985, 1.1060362545551887, 1.6143174805660918, 1.2401980870150668, 1.2902831258516012, 0.8136995566069297, 0.5761781500091947, 1.8503843302957288, 1.1060034138152817, 1.1062021756623117, 1.1060449112717734, 1.1060068743462632, 1.1060069031912365, 0.3519618144844177, 0.9190708611385299, 1.5860741493614618, 0.4255678280880822, 1.105968050106271, 1.003192753770613, 1.2402007327257316, 1.6548832811828273, 0.8750131507394948, 0.8128663072278238, 0.8684731833606153, 1.7794154911554567, 1.7793998584492936, 0.5363763880866168, 1.105842779523416, 1.1059755410032208, 1.1150052742224972, 1.0026931121504252, 1.2402075041899645, 0.05598839547183615, 1.5226114923650151, 1.2402024032222236, 1.1054579468236108, 1.105967150995718, 0.5551679728163575, 1.240206590515079, 0.05604986087220343, 1.7794053641525267, 1.1054984971474477, 0.3370692023715208, 1.4344386408898624, 0.8136856820298812, 0.9190886010066099, 0.8684855258624078, 1.7793891783387712, 0.8682537551296602, 1.106007588849483, 1.7793918439990788, 1.002667292218561, 1.105999618961871, 1.2402079689998788, 1.3208690560625023, 1.8940818705938578, 0.6660056342774355, 0.8684524693574713, 1.77937457578767, 0.8131705018723218, 1.850559995399233, 0.9612846379522306, 0.8137002873801195, 1.2288722847138185, 0.8137071070569439, 1.4626346098464484, 1.1059866296433198, 0.8683671282780594, 1.2399979376955095, 0.8249726817141281, 0.8136905313301404, 0.3613161119337267, 1.5860674635331886, 1.2402072498461911, 0.8135883131875978, 0.8134255806191677, 1.4595196361875329, 1.2401379748782442, 1.3946901126551454, 1.1051485785778272, 1.1059839640575582, 1.1059824258267064, 1.5417559715071103, 1.0025151869010547, 1.2401845782980307, 1.1059705216684401, 0.8136998978295977, 1.2402060440419183, 1.1059962954481675, 1.1060077337401493, 0.8685292385305184, 0.4419151453593251, 1.9007687166510472, 1.5860541291691126, 1.1060174278639834, 1.2394576468829857, 1.5860958906909512, 1.541864632034746, 1.919543384611412, 1.5859111016307104, 1.9020141523796947, 2.0684243753584393, 1.2401965125746683, 1.807221965248807, 1.2402065521300414, 1.5860600497883262, 1.1059910301213964, 1.1059846194388476, 1.5860674635331886, 1.240176123430936, 0.8137040802774117, 1.105995067864004, 0.8021432139735969, 1.1059950256022246, 1.105649980308926, 1.240204984111489, 1.1059299244058278, 0.8608404170393575, 1.1060010014590969, 1.1060063188957903, 1.442172035853168, 0.5841503113135567, 1.1057374615711335, 0.8137004904241834, 1.2402040586615912, 1.1059996855698098, 1.1059950804020484, 0.8684476053139584, 0.43331387468548577, 1.5418616604260262, 1.1057600134808545, 0.8684691726700852, 1.24015613802751, 1.858052106121411, 1.2401805141431868, 1.5860454102374086, 1.2401587036123676, 1.5859739923838576, 1.2399678157591723, 1.105997033351493, 1.1059916445073197, 1.105453226414683, 0.5346573531493185, 1.2401906123613575, 0.867459640148383, 1.5860592801908782, 1.1059555173167162, 1.8131844316790908, 0.5760737089670509, 1.3946721165854326, 1.7862413221362148, 1.459539627471513, 1.4594967193893806, 1.9260570201602147, 1.7793851124253082, 1.0810801260071434, 1.7793914627367466, 1.5147740452355225, 1.926069459674536, 1.240206094749368, 0.868473266361382, 1.5860395033848058, 1.1059864010392015, 1.1060061003852981, 1.2913936163587776, 1.4943460538825037, 1.2401947737434804, 0.5362119213577601, 1.105998771152472, 0.6071587787029983, 1.1070296806510929, 0.813684198026385, 1.459051068896194, 1.7608871468680853, 1.1059961627632988, 1.6796056885188348, 1.5483789073933965, 1.1060039669663795, 0.5739572705101451, 1.2401394436673676, 2.0682718159141253, 1.4516387772032857, 1.7793351866520655, 1.105924847915837, 1.2220026408431897, 1.4421712416071097, 1.0798114085787804, 1.1059266127606688, 1.240193666912015, 1.4421190100374426, 1.10568988832025, 1.106005690776464, 1.002667265305151, 1.3946892530978836, -0.10880495099676667, 0.5578410869041341, 1.1059506789836606, 1.5414926856609108, 1.057880228215118, 1.2401943181426451, 1.2515234468101486, 0.8684163262086119, 1.3831091353198066, 1.4595204165421722, 1.1060057356740072, 1.1060047308335825, 0.8682821936499184, 1.4112005546781337, 1.586030363088932, 1.105993549075322, 2.1728351579721856, 1.679639153645754, 1.5860314802449818, 0.629720689082556, 1.1036002354018544, 0.6773463026918465, 0.8684746568297111, 1.1034864650565894, 0.8684551449205747, 1.9057956030401768, 1.1059672265318112, 1.6129998862293402, 0.4947295765551504, 1.4418178097473031, 0.5761435866961686, 1.7701837133673939, 0.8672398237988128, 1.4421676570034454, 1.6797060379127418, 0.8591248783122315, 0.8446696700573543, 1.4421419865789544, 1.1054547315904517, 1.0026529889121603, 1.2401892460204171, 0.8683662019448289, 1.5859589151778533, 0.9323827129911697, 1.002623524033321, 1.0963593046106712, 1.0575709412813363, 1.0140009856317425, 0.4005902462671696, 1.0079599711347877, 1.6796879941835887, 1.1060000387658486, 1.6797021340566867, 1.442170304487276, 1.0740247089588364, 1.0026668524907258, 1.1059669033812947, 1.251340591537616, 1.903345610182679, 1.2399795300244536, 1.2401981802278224, 2.0682132970946534, 1.091316837947136, 1.2402819602087447, 1.1058974109312647, 1.1059833926449631, 0.5761711067611688, 1.1060100945152709, 1.2400644063157573, 1.1004904785439023, 0.8191125068505863, 1.239805141512758, 1.1060172437612872, 1.1059096132794082, 1.2401540656614878, 1.1059502936054095, 1.586068592336694, 0.7009916537560139, 0.813676094689062, 2.068408653267316, 0.866001113135271, 1.1059182694230882, 0.5363444951816988, 1.7793951830692514, 2.06877366840675, 2.068804926543526, 0.5759342691430103, 1.5860704715230514, 2.013706882937033, 0.8739594191298017, 1.1058732049116038, 0.8684766671637357], \"z\": [-0.5379884146398457, -0.5384418566912165, -0.6447785289996482, -0.5095430309603246, -0.2504598800791364, -0.3448557009019629, -0.060275676193818295, -0.5256413266146499, -0.537997048016421, -0.5382261720691159, -0.5380344611999648, -0.5379884856474468, -0.5379889136190774, -0.4456371470257284, -0.46966819965855316, -0.10778593658841722, -0.2755046992144234, -0.5380350387741771, -0.2255822977567426, -0.5095462561754501, -0.7552690239858381, -0.2613730085518191, -0.34572322184506077, -0.25341326767519584, -0.5992299450411296, -0.5992108882179317, -0.3196750182533767, -0.538118014642933, -0.5380268868654153, -0.5489574613992851, -0.22497321690288546, -0.5095372280383106, 0.1239271431330435, -0.1750178220734047, -0.5095388651638454, -0.5385759181980195, -0.5380182303830792, -0.4243762267780148, -0.5095404343450538, 0.12393077634748818, -0.5992175998654216, -0.5381539801773351, -0.5710881837398747, -0.12159257964973254, -0.3448749256904388, -0.46968638418363834, -0.253415602336734, -0.5992072961905238, -0.25352587418043754, -0.537988963843623, -0.599208974490627, -0.2249574538337375, -0.5379949606114374, -0.5095377938724625, -0.8096745398351832, -0.5682525333424804, -0.29516882747727585, -0.25345386700217704, -0.599219348615434, -0.34497909801322285, -0.5256011627554904, -0.4815894508538113, -0.3448565917403966, -0.5165773286581687, -0.3448558705708094, -0.547788812587785, -0.5379964097492752, -0.2534449342263851, -0.5095834352583006, -0.2781480022935544, -0.34485883987859667, -0.42730278048082354, -0.1077934986701002, -0.5095958384865488, -0.3448777842357038, -0.34491687989459174, -0.544062254776419, -0.5095616693429532, -0.08049456245993504, -0.5385130342042362, -0.5379949934121759, -0.5380368509437466, -0.3146461424240023, -0.225272470196432, -0.5095485606360256, -0.5380144831809366, -0.34485533124732387, -0.5095378041319607, -0.5379916947475425, -0.5379891404704836, -0.25346888962934844, -0.3477537268735263, -0.7092391824408261, -0.10781966693472804, -0.5380009579512215, -0.5098015503619155, -0.10784386464684564, -0.31462344416648413, -0.6444019267414347, -0.10782364639136423, -0.7009419118082291, -0.10813593635338567, -0.5095473965990244, -0.6337947976617296, -0.5095390938975709, -0.10780802956737354, -0.5379990558526891, -0.5379939592387359, -0.1077934986701002, -0.509546110024926, -0.3448596441823592, -0.5379996256849833, -0.1768974268749304, -0.5379956460805129, -0.5380641958890129, -0.5095380832735239, -0.5380074170054208, -0.2696402206385835, -0.5379911466043751, -0.5379900206658138, -0.20284843997624985, -0.29600383491787896, -0.5380524776979967, -0.34485605364113886, -0.5095403756944481, -0.5379950418088761, -0.5379909468056667, -0.25341258478787887, -0.10406472812354786, -0.314629268502477, -0.5384727778619423, -0.2534227132044532, -0.509553171796304, -0.6771279935862058, -0.5095907433174914, -0.10783754831853808, -0.5095562993352286, -0.10797808854982775, -0.5096378471416948, -0.5379927609237651, -0.5379919957762233, -0.5380987935486536, -0.06857182008545376, -0.5095480602014826, -0.2537362456151752, -0.10779137905734287, -0.5380079766016718, -0.5507239104886584, -0.06029572822844467, -0.08052486815472859, -0.814588227611092, -0.5440237754867451, -0.5440578869019439, -0.7160389829195358, -0.5992164808069272, -0.546882361256848, -0.5992155002873234, -0.180884379180871, -0.716054147128637, -0.5095429781699842, -0.25341433193725, -0.10779209590454733, -0.5380010427513106, -0.537990448945121, -0.2490567340971273, -0.32963724052359594, -0.5095429200506246, -0.31978581257064553, -0.5379905751348495, 0.01666629147093617, -0.5588753593081136, -0.3448982563870685, -0.5443630896928621, -0.4587500558966615, -0.5379915329999819, -0.48745936534294393, -0.3015123324518532, -0.5379961665632466, -0.06462907966275103, -0.5095673879348446, -0.1082445674202108, -0.5579530178234052, -0.599297030609866, -0.5380530793174768, -0.2594461396208228, -0.20285139984800118, -0.5453357497190006, -0.5380080936955655, -0.5095596399787825, -0.20286628942952967, -0.538308731087062, -0.5379897924939921, -0.22495820664250835, -0.08048683688318453, 0.11283012110863248, -0.24024828301993767, -0.5381018518829981, -0.31479655794403066, -0.4633758814427244, -0.5095407934227042, -0.5174267229144827, -0.253428662034108, -0.07996914287546104, -0.5440317813694994, -0.5379890616085167, -0.5379894079067491, -0.25356054174515097, 0.001372825821566424, -0.10780169388058262, -0.5379954173762014, -0.11876050613982202, -0.4875001605194363, -0.1077967707960456, 0.03897331529365552, -0.5390782074536998, -0.3030578256893545, -0.25342277864691143, -0.5429289196923824, -0.253413134046825, -0.6997333534860612, -0.5380057525894951, -0.2410314669876308, -0.4436323796712614, -0.20291549269575881, -0.06030248978485895, -0.10454899393008403, -0.24562597377270654, -0.20284781570618585, -0.4874286180923807, -0.2552658588866475, -0.2679158415089031, -0.20287858630500266, -0.538100628411294, -0.22496751419703118, -0.5095542507551465, -0.2534744027144498, -0.10781044163825378, -0.31773584647716346, -0.224966948237571, -0.5403684723027645, -0.43216737661723653, -0.23284501982651432, -0.3558834546594546, -0.23139370478405258, -0.4874449987599143, -0.5379962579845458, -0.48743476744706027, -0.20284504882383703, -0.5577648635451642, -0.2249566821047601, -0.5380053586575556, -0.5175494874085339, -0.7005962494534982, -0.5095892778726987, -0.5095494295273582, -0.10856603949025026, -0.5475770185503378, -0.5096279917800288, -0.5380117764885571, -0.5380020923510387, -0.060273767970665276, -0.5379920183390782, -0.5097555944555737, -0.5395123910381423, -0.3515862628940363, -0.509832350052615, -0.5380125177810939, -0.5381837750181719, -0.5096354921632568, -0.5380448176568261, -0.10778623293270742, -0.4707300483308841, -0.34489230621736455, -0.10814420306142652, -0.2582501282686311, -0.5381157654470449, -0.31968044702246745, -0.5992052830379164, -0.10846353481973883, -0.10850163959697878, -0.06075417372697932, -0.10778823630162084, 0.002496718555451316, -0.06478001977758353, -0.5380215493507935, -0.2534055888860684]}, {\"customdata\": [[\"SHA-256\", \"Bitcoin\"], [\"Ethash\", \"Ethereum\"], [\"Scrypt\", \"Litecoin\"], [\"CryptoNight-V7\", \"Monero\"], [\"Ethash\", \"Ethereum Classic\"], [\"Equihash\", \"ZCash\"], [\"Multiple\", \"DigiByte\"], [\"Scrypt\", \"ProsperCoin\"], [\"X11\", \"Spreadcoin\"], [\"Scrypt\", \"Argentum\"], [\"Multiple\", \"MyriadCoin\"], [\"Scrypt\", \"MoonCoin\"], [\"SHA-256\", \"ZetaCoin\"], [\"Scrypt\", \"SexCoin\"], [\"Scrypt\", \"Quatloo\"], [\"Quark\", \"QuarkCoin\"], [\"Groestl\", \"Riecoin\"], [\"Scrypt\", \"Digitalcoin \"], [\"Scrypt\", \"Catcoin\"], [\"Scrypt\", \"CannaCoin\"], [\"X11\", \"CryptCoin\"], [\"Multiple\", \"Verge\"], [\"SHA-256\", \"DevCoin\"], [\"Scrypt\", \"EarthCoin\"], [\"Scrypt\", \"E-Gulden\"], [\"Scrypt\", \"Einsteinium\"], [\"Scrypt\", \"Emerald\"], [\"Scrypt\", \"Franko\"], [\"NeoScrypt\", \"FeatherCoin\"], [\"Scrypt\", \"GrandCoin\"], [\"Scrypt\", \"GlobalCoin\"], [\"Scrypt\", \"GoldCoin\"], [\"Scrypt\", \"Infinite Coin\"], [\"SHA-256\", \"IXcoin\"], [\"Scrypt\", \"KrugerCoin\"], [\"Scrypt\", \"LuckyCoin\"], [\"Scrypt\", \"Litebar \"], [\"Scrypt\", \"MegaCoin\"], [\"HybridScryptHash256\", \"MediterraneanCoin\"], [\"Scrypt\", \"MinCoin\"], [\"Scrypt\", \"NobleCoin\"], [\"SHA-256\", \"Namecoin\"], [\"Scrypt\", \"NyanCoin\"], [\"Scrypt\", \"RonPaulCoin\"], [\"Scrypt\", \"StableCoin\"], [\"Scrypt\", \"SmartCoin\"], [\"SHA-256\", \"SysCoin\"], [\"SHA-256\", \"TigerCoin\"], [\"SHA-256\", \"TerraCoin\"], [\"SHA-256\", \"UnbreakableCoin\"], [\"SHA-256\", \"Unobtanium\"], [\"X11\", \"UroCoin\"], [\"Scrypt\", \"ViaCoin\"], [\"Lyra2REv2\", \"Vertcoin\"], [\"Scrypt\", \"WorldCoin\"], [\"SHA-256\", \"JouleCoin\"], [\"CryptoNight\", \"ByteCoin\"], [\"CryptoNight\", \"DigitalNote \"], [\"Scrypt\", \"MonaCoin\"], [\"Scrypt\", \"Gulden\"], [\"Scrypt\", \"PesetaCoin\"], [\"Scrypt\", \"Wild Beast Coin\"], [\"Scrypt\", \"Flo\"], [\"Scrypt\", \"ArtByte\"], [\"Stanford Folding\", \"Folding Coin\"], [\"Multiple\", \"Unitus\"], [\"QuBit\", \"CypherPunkCoin\"], [\"Scrypt\", \"OmniCron\"], [\"Scrypt\", \"GreenCoin\"], [\"M7 POW\", \"Cryptonite\"], [\"Scrypt\", \"MasterCoin\"], [\"SHA-256\", \"SoonCoin\"], [\"Scrypt\", \"1Credit\"], [\"X11\", \"MarsCoin \"], [\"Lyra2RE\", \"Crypto\"], [\"SHA-256\", \"Anarchists Prime\"], [\"X11\", \"BowsCoin\"], [\"Scrypt\", \"Song Coin\"], [\"Scrypt\", \"BitZeny\"], [\"Ethash\", \"Expanse\"], [\"Blake2b\", \"Siacoin\"], [\"X11\", \"MindCoin\"], [\"SHA-256\", \"I0coin\"], [\"Scrypt\", \"Revolution VR\"], [\"1GB AES Pattern Search\", \"HOdlcoin\"], [\"Scrypt\", \"Gamecredits\"], [\"SHA-256\", \"CarpeDiemCoin\"], [\"X11\", \"Adzcoin\"], [\"Dagger\", \"SoilCoin\"], [\"Scrypt\", \"YoCoin\"], [\"X11GOST\", \"SibCoin\"], [\"Scrypt\", \"Francs\"], [\"X11\", \"BolivarCoin\"], [\"Scrypt\", \"Omni\"], [\"X11\", \"PizzaCoin\"], [\"Equihash\", \"Komodo\"], [\"CryptoNight\", \"Karbo\"], [\"SHA-256\", \"ZayedCoin\"], [\"Multiple\", \"Circuits of Value\"], [\"Scrypt\", \"DopeCoin\"], [\"SHA-256\", \"DollarCoin\"], [\"Scrypt\", \"Shilling\"], [\"Lyra2Z\", \"ZCoin\"], [\"Ethash\", \"Elementrem\"], [\"Equihash\", \"ZClassic\"], [\"Scrypt\", \"KiloCoin\"], [\"X11\", \"ArtexCoin\"], [\"X11\", \"Kurrent\"], [\"CryptoNight\", \"Cannabis Industry Coin\"], [\"Scrypt\", \"OsmiumCoin\"], [\"CryptoNight\", \"Bikercoins\"], [\"Lyra2RE\", \"HexxCoin\"], [\"X11\", \"PacCoin\"], [\"CryptoNight-V7\", \"Citadel\"], [\"Scrypt\", \"BeaverCoin\"], [\"X11\", \"VaultCoin\"], [\"Equihash\", \"Zero\"], [\"Scrypt\", \"Canada eCoin\"], [\"Lyra2RE\", \"Zoin\"], [\"Dagger-Hashimoto\", \"DubaiCoin\"], [\"Scrypt\", \"EB3coin\"], [\"NIST5\", \"Coinonat\"], [\"Scrypt\", \"BenjiRolls\"], [\"SHA-256\", \"ILCoin\"], [\"Scrypt\", \"EquiTrader\"], [\"CryptoNight-V7\", \"Quantum Resistant Ledger\"], [\"Argon2d\", \"Dynamic\"], [\"Blake2b\", \"Nano\"], [\"Cloverhash\", \"ChanCoin\"], [\"CryptoNight\", \"Dinastycoin\"], [\"X11\", \"DigitalPrice\"], [\"Scrypt\", \"Unify\"], [\"Scrypt\", \"SocialCoin\"], [\"X11\", \"ArcticCoin\"], [\"X11\", \"DAS\"], [\"CryptoNight\", \"LeviarCoin\"], [\"Time Travel\", \"Bitcore\"], [\"Scrypt\", \"gCn Coin\"], [\"Keccak\", \"SmartCash\"], [\"X11\", \"Onix\"], [\"SHA-256\", \"Bitcoin Cash\"], [\"Scrypt\", \"Sojourn Coin\"], [\"Scrypt\", \"NewYorkCoin\"], [\"Scrypt\", \"FrazCoin\"], [\"Scrypt\", \"Kronecoin\"], [\"Scrypt\", \"AdCoin\"], [\"Scrypt\", \"Linx\"], [\"CryptoNight\", \"Sumokoin\"], [\"Equihash\", \"BitcoinZ\"], [\"X11\", \"Elements\"], [\"NeoScrypt\", \"VIVO Coin\"], [\"Equihash\", \"Bitcoin Gold\"], [\"Dagger\", \"Pirl\"], [\"Scrypt\", \"eBoost\"], [\"X11\", \"Pura\"], [\"NeoScrypt\", \"Innova\"], [\"Ethash\", \"Ellaism\"], [\"NeoScrypt\", \"GoByte\"], [\"Multiple\", \"SHIELD\"], [\"CryptoNight\", \"UltraNote\"], [\"CryptoNight\", \"BitCoal\"], [\"Ethash\", \"DaxxCoin\"], [\"X11\", \"AC3\"], [\"CryptoNight-V7\", \"Lethean\"], [\"Scrypt\", \"PopularCoin\"], [\"BLAKE256\", \"Photon\"], [\"X11\", \"Sucre\"], [\"NeoScrypt\", \"SparksPay\"], [\"NeoScrypt\", \"GunCoin\"], [\"Scrypt\", \"IrishCoin\"], [\"X11\", \"Pioneer Coin\"], [\"SHA-256\", \"UnitedBitcoin\"], [\"C11\", \"Interzone\"], [\"CryptoNight\", \"TurtleCoin\"], [\"SkunkHash\", \"MUNcoin\"], [\"CryptoNight\", \"Niobio Cash\"], [\"Scrypt\", \"ShareChain\"], [\"Dagger\", \"Travelflex\"], [\"Lyra2REv2\", \"KREDS\"], [\"Scrypt\", \"BitFlip\"], [\"Scrypt\", \"LottoCoin\"], [\"X11\", \"Crypto Improvement Fund\"], [\"Ethash\", \"Callisto Network\"], [\"CryptoNight\", \"BitTube\"], [\"Scrypt\", \"Poseidon\"], [\"IMesh\", \"Aidos Kuneen\"], [\"Equihash\", \"Bitrolium\"], [\"Lyra2Z\", \"Alpenschillling\"], [\"X11\", \"FuturoCoin\"], [\"CryptoNight\", \"Monero Classic\"], [\"NIST5\", \"Jumpcoin\"], [\"Lyra2RE\", \"Infinex\"], [\"Tribus\", \"KEYCO\"], [\"Lyra2Z\", \"GINcoin\"], [\"CryptoNight\", \"PlatinCoin\"], [\"CryptoNight Heavy\", \"Loki\"], [\"CryptoNight\", \"Newton Coin\"], [\"Jump Consistent Hash\", \"MassGrid\"], [\"CryptoNight\", \"PluraCoin\"], [\"X16R\", \"Motion\"], [\"HMQ1725\", \"PlusOneCoin\"], [\"X11\", \"Axe\"], [\"Scrypt\", \"HexCoin\"], [\"CryptoNight-V7\", \"Webchain\"], [\"Cryptonight-GPU\", \"Ryo\"], [\"XEVAN\", \"Urals Coin\"], [\"CryptoNight Heavy\", \"Qwertycoin\"], [\"SHA-256\", \"Project Pai\"], [\"X11\", \"Azart\"], [\"X16R\", \"Xchange\"], [\"Equihash\", \"CrypticCoin\"], [\"Lyra2Z\", \"Actinium\"], [\"SHA-256\", \"Bitcoin SV\"], [\"CryptoNight\", \"FREDEnergy\"], [\"Blake\", \"Universal Molecule\"], [\"Blake\", \"Lithium\"], [\"Equihash\", \"PirateCash\"], [\"Exosis\", \"Exosis\"], [\"Scrypt\", \"Block-Logic\"], [\"Equihash\", \"Beam\"], [\"Equihash\", \"Bithereum\"], [\"QuBit\", \"SLICE\"], [\"SHA-256\", \"BLAST\"], [\"X13\", \"Bitcoin Rhodium\"], [\"SHA-256\", \"GlobalToken\"], [\"Scrypt\", \"SolarCoin\"], [\"NeoScrypt\", \"UFO Coin\"], [\"Blake\", \"BlakeCoin\"], [\"Scrypt\", \"Crypto Escudo\"], [\"SHA-256\", \"Crown Coin\"], [\"Scrypt\", \"SmileyCoin\"], [\"Groestl\", \"Groestlcoin\"], [\"Scrypt\", \"Bata\"], [\"Scrypt\", \"Pakcoin\"], [\"Multiple\", \"JoinCoin\"], [\"Equihash+Scrypt\", \"Vollar\"], [\"Ethash\", \"Reality Clash\"], [\"CryptoNight\", \"Beldex\"], [\"Equihash\", \"Horizen\"]], \"hovertemplate\": \"class=%{marker.color}<br>PC 1=%{x}<br>PC 2=%{y}<br>PC 3=%{z}<br>Algorithm=%{customdata[0]}<br>CoinName=%{customdata[1]}<extra></extra>\", \"legendgroup\": \"1\", \"marker\": {\"color\": [1, 1, 1, 1, 1, 1, 1, 1, 1, 1, 1, 1, 1, 1, 1, 1, 1, 1, 1, 1, 1, 1, 1, 1, 1, 1, 1, 1, 1, 1, 1, 1, 1, 1, 1, 1, 1, 1, 1, 1, 1, 1, 1, 1, 1, 1, 1, 1, 1, 1, 1, 1, 1, 1, 1, 1, 1, 1, 1, 1, 1, 1, 1, 1, 1, 1, 1, 1, 1, 1, 1, 1, 1, 1, 1, 1, 1, 1, 1, 1, 1, 1, 1, 1, 1, 1, 1, 1, 1, 1, 1, 1, 1, 1, 1, 1, 1, 1, 1, 1, 1, 1, 1, 1, 1, 1, 1, 1, 1, 1, 1, 1, 1, 1, 1, 1, 1, 1, 1, 1, 1, 1, 1, 1, 1, 1, 1, 1, 1, 1, 1, 1, 1, 1, 1, 1, 1, 1, 1, 1, 1, 1, 1, 1, 1, 1, 1, 1, 1, 1, 1, 1, 1, 1, 1, 1, 1, 1, 1, 1, 1, 1, 1, 1, 1, 1, 1, 1, 1, 1, 1, 1, 1, 1, 1, 1, 1, 1, 1, 1, 1, 1, 1, 1, 1, 1, 1, 1, 1, 1, 1, 1, 1, 1, 1, 1, 1, 1, 1, 1, 1, 1, 1, 1, 1, 1, 1, 1, 1, 1, 1, 1, 1, 1, 1, 1, 1, 1, 1, 1, 1, 1, 1, 1, 1, 1, 1, 1, 1, 1, 1, 1, 1, 1, 1, 1, 1, 1, 1], \"coloraxis\": \"coloraxis\", \"symbol\": \"diamond\"}, \"mode\": \"markers\", \"name\": \"1\", \"scene\": \"scene\", \"showlegend\": true, \"type\": \"scatter3d\", \"x\": [-0.14889448285083962, -0.15165694223967982, -0.17182965894192254, -0.15075102355337802, -0.1500940554450455, -0.11399332229488471, 0.1586788404214305, -0.17297935236911263, -0.24334040557913464, -0.17259469849405143, -0.09549913782602114, 2.557498384004458, -0.14597065550879268, -0.16984176775274565, -0.17239809369540227, -0.2157043042180989, -0.18281168585640314, -0.17244709722158016, -0.1729615666713746, -0.17304828783103687, -0.24343001195061412, 0.1824895879905632, 0.23009046291859492, 0.07643080810137068, -0.17279382923358996, -0.16838584245793262, -0.1727329268013996, -0.1731054603498538, -0.17184396950832123, -0.15226474918669866, -0.1718969500450252, -0.172175202892178, 1.5810614818182545, -0.1488557396270082, -0.1694563535035913, -0.17282034968407547, -0.17317623059663484, -0.17243324962189532, -0.16898758241189749, -0.1730571356943661, -0.03754223569020519, -0.1489335764965605, -0.1667020037338725, -0.17303649796179182, -0.1711248767557218, -0.17252169155596053, -0.13604667757067232, -0.1483957354550681, -0.1486837866698151, -0.14866665570092358, -0.14925922376485545, -0.24360444484142144, -0.17275215711512154, -0.17895821079397706, -0.16984646856632946, -0.14846322998874198, 3.8661219257174686, 0.4548681598930724, -0.17161630578145834, -0.15616754621021797, -0.170331280469284, -0.17317844412230693, -0.17019593740734498, -0.15637793562788224, -0.1053886297093098, -0.1296083823672764, -0.17748233414151854, -0.1730511503162472, -0.04560115654286243, -0.11438360201580822, -0.17318736610100285, -0.14896143504182482, 0.4810313874377402, -0.24298978610296773, -0.16386793588766482, -0.14870048152274482, -0.2432755367914581, -0.171305311394531, -0.17049512795209137, -0.15272748479099793, 0.3815020742552328, -0.24331104548925148, -0.14885686525217995, -0.16913307309851627, -0.1922133631625362, -0.1717463832775965, 0.2708851456349082, -0.24246920126155183, -0.17945390402592684, -0.17199438480692966, -0.19619149864814747, -0.1729766312918517, -0.24327416612884267, -0.17318742477173169, -0.24342457474894685, -0.08874423419379084, 0.29930309576143393, -0.1491177285285922, -0.10962064086065945, -0.17034552518040771, -0.14907623593935662, -0.17284979208296275, -0.14301308106913024, -0.15246887335718295, -0.11401500243542682, -0.09968238142730712, -0.22996792305030195, -0.24124603823068866, 0.2992974620806396, -0.1731691057336595, 0.2994285663685645, -0.1644100533841802, 0.47407911718041923, -0.14951180586901638, -0.17313729921468649, -0.23613575865252726, -0.11402742020375191, -0.1712649521202991, -0.16412759277718297, -0.12526408542447312, -0.14396928279545607, -0.17109951172863974, -0.17269834435401735, -0.11534032899606433, -0.1725198276635142, -0.14936926312348403, -0.13022695221371902, -0.019968677244238262, -0.18731832314706, 0.33552827160597803, -0.24247759200190505, -0.17284011075628758, -0.17260270580455708, -0.2428734921279262, -0.24345269955470356, 0.299693658713167, -0.1617494962066296, 3.2468039207814123, -0.1241363857419735, -0.234296343758155, -0.1488936446287881, -0.09852589990029778, 1.5789304763573127, -0.17293824263913488, -0.17238817627653333, -0.1720882515049621, -0.17207514428672857, 0.2998778638360816, 0.0989543099242986, -0.19770347450661266, -0.1765469174738911, -0.11387301533980523, -0.17820916320939056, -0.1712631560482631, -0.23898356013701597, -0.17639184759086596, -0.15082887260097058, -0.1764923676217623, -0.11981056558547089, 1.1398299764123296, 0.29928016701422144, -0.0754823678072633, -0.2387240403077143, -0.13844803315865573, -0.08907367135201885, 1.100202244659242, -0.24342662074076085, -0.1765444791916963, -0.16956121549756872, -0.1721869827590629, -0.2433518050359995, -0.14887298331136142, -0.22209048430625344, 8.061401949467173, -0.12739588932216678, 0.30316645520448127, 0.020433406702047126, -0.17771102430307292, -0.16447238241014434, -0.1727624228712524, 0.13524134414046857, -0.237474804310313, -0.10371978142947776, 0.3072281029223506, -0.17300015760789428, -0.131189930391733, -0.11286107836409123, -0.1407896520461395, -0.242518483504001, 0.29946322864105934, -0.17115919282259423, -0.1642548125494869, -0.10935729734105498, -0.14309772232439605, 0.303403894491896, 0.556807444574692, 2.1135394374568515, -0.13455591998015262, 0.31310955533088436, -0.2196671876115192, -0.20509094703258318, -0.24340872683771184, -0.17302480937870293, -0.1383262974210287, -0.12160510870152287, -0.13865642358560498, 3.087040837233718, -0.10860058188648668, -0.24338000210112726, -0.2190931079204556, -0.00829911056357276, -0.14249359233282122, -0.1488936823039485, 0.37946988897374256, -0.13713537502890782, -0.1375286785694773, -0.2317194472522882, -0.1271823788130654, -0.17191370683471896, -0.11192704737042823, -0.11370532930125554, -0.1766908350688665, -0.14816763834217123, -0.09828399555757589, -0.1470320960158824, 0.5250893661262194, -0.1014848283670456, -0.08783772711618425, -0.15652896156316531, -0.14868315528208498, 0.5448257853245805, -0.18237136848184746, -0.17310190092143665, -0.17105134441949152, -0.13034540947511952, -0.12086704438828201, -0.1525021316234117, 0.32110316492209795, -0.11399438232994243], \"y\": [-1.3514716307597219, -2.036418390423061, -1.0591969022866727, -2.2228770845056536, -2.036533002114771, -2.176160764171498, -1.8797620667634996, -1.0591795749396558, -0.9249770030239391, -1.0592014238251217, -1.872217662182124, -1.2719308102912381, -1.3515073331915346, -1.0592686492317187, -1.0592228582261887, -0.4855269589624185, -1.2461359077625145, -1.0591861321987488, -1.0591791293704553, -1.0591755467027484, -0.9249777834209167, -1.875910858548418, -1.3573384127401176, -1.0628008604770005, -1.0591749271942392, -1.0592686340555446, -1.0591814558327892, -1.0591755847191664, -1.6289214769887252, -1.0596854466317436, -1.0591883370506638, -1.0591969522075404, -1.0815605231483296, -1.3514706601603352, -1.0592702851447549, -1.0591748593716908, -1.0591701191153855, -1.0591812704451453, -2.1956271563436975, -1.0591734692030426, -1.066754448911474, -1.351472610137909, -1.059253694294606, -1.0591810065571499, -1.0593007938155752, -1.0591902224864436, -1.3517845971878446, -1.3514781824582318, -1.3514817289063465, -1.3515091239363919, -1.3514655748121298, -0.9249689734495916, -1.0591753476512906, -1.3205130164370424, -1.0592800583489945, -1.3514784001439282, -2.3712198395424773, -2.328931132753206, -1.059207021736252, -1.0599731496349942, -1.0592196890723853, -1.0591711103405423, -1.059211622514023, -1.0594805136516536, -2.2988256175568327, -1.8716077392050927, -1.5809901815951075, -1.0591684656455382, -1.063295263317311, -2.285456852314551, -1.0591698631835473, -1.351473308053162, -1.1101436966141243, -0.9249777380715604, -2.2452423683551412, -1.3514907580043143, -0.9249761101398464, -1.0592762011868735, -1.0592850172812516, -2.036457588898904, -2.1861830354605623, -0.9249733386289977, -1.351470688359617, -1.059221606309185, -2.228052786253413, -1.0591948160558298, -1.3567749920430328, -0.9250020393255965, -2.1583073383094336, -1.0592627923635036, -2.182913162231099, -1.059178774555229, -0.9249790046646928, -1.0591698624347594, -0.9249827727175166, -1.980101724568434, -2.3255135304396175, -1.3514689758565577, -1.8719856630186944, -1.0592446586312232, -1.3514685970565476, -1.0591829191228952, -2.292197038762268, -2.036457919115472, -2.1761613073046937, -1.0646501119422758, -0.9249934577025262, -0.9250768355766069, -2.3255217259479806, -1.0591709395741966, -2.325521370372182, -2.2452150998845015, -0.9802110589725495, -2.2229814993978008, -1.059170615555818, -0.9255140828331873, -2.176158689533121, -1.059194470642361, -2.2452160780247126, -2.324150753755606, -1.0613662978792255, -0.7056565881873577, -1.059183167161801, -1.3524461912521304, -1.0592054058787397, -2.2229193511450593, -2.324025133027144, -2.196489883722895, -2.1943215680400785, -2.3260631227224486, -0.9250139649826505, -1.0591748248897837, -1.0592096787979095, -0.9249945944865893, -0.9249790107873361, -2.3255359635059722, -2.125274615379115, -1.1199345640321152, -1.2346752519492104, -0.9255412231855032, -1.3514716097604902, -1.064987247497533, -1.0152751661701647, -1.059177812838599, -1.0592108943226217, -1.0592150960265239, -1.0592147676630919, -2.3255568949713803, -2.186187130673825, -0.9251370457103489, -1.6288130410899135, -2.176157750228802, -2.1583686387032133, -1.0591944256469723, -0.9251094860500239, -1.6288223361453797, -2.036602665932252, -1.6288151891365878, -1.871845545619425, -2.366687574238435, -2.3255159353923127, -2.041832213925398, -0.9252494276731497, -2.223300704741558, -1.0607232628625363, -1.244513899476808, -0.9249790164522398, -1.628808586711559, -1.628984372567441, -1.05919120968696, -0.9249794852514751, -1.3514704814830578, -1.1072984435487996, -2.863264986445138, -2.220614854685612, -2.325655447466853, -1.0616409583823978, -2.1583149305999383, -1.3208940470758443, -1.0591880524971478, -1.0649205003618354, -0.9251815208940428, -2.0399768656505506, -2.326039885864379, -1.0591800961547206, -2.353932669845932, -2.176168277645248, -2.2923453324770655, -0.9250149894009309, -2.3255156693855525, -0.7056381289820238, -2.245223131246982, -2.1930171158521956, -2.292191178052821, -2.3258428044386803, -2.2395003066774404, -2.4147834558718526, -2.2071732458313753, -2.3258925430901445, -1.2979123588396562, -2.180276204478183, -0.924979446831118, -1.0591815230244481, -2.2238471964280606, -2.148998990818174, -0.9137321138998257, -2.3110746286606423, -1.3519844601040831, -0.9249816560787801, -1.297955034330393, -2.179062364336402, -2.2922298611782606, -1.3514716107043323, -2.329414164133822, -2.212497972710399, -2.2124493282000923, -0.2485585435798057, -2.2324184970202414, -1.0592253676289554, -2.176286049389506, -2.176160788024735, -1.5810435744465696, -1.351484907048865, -0.385782446385095, -1.3515326097548057, -1.1135064672434187, -1.6298416706207364, -2.21631150220738, -1.0594842971695233, -1.3514817130887544, -1.0777924528005607, -1.2461402534144652, -1.0591709295877543, -1.059249161007479, -1.8716282534909399, -2.263862426364572, -2.0364574946550733, -2.325985335610244, -2.1761607907276086], \"z\": [0.1908569991275747, 0.3639264439450742, -0.0023024427976612474, 0.31443543244894634, 0.36390118005553423, 0.3471811049098037, 0.36852211527873524, -0.002274071566292623, 0.02617521218238882, -0.0022812185384959507, 0.3742519448228902, -0.044583267119169184, 0.19078362528895543, -0.0023453931779115612, -0.002283371461673632, 0.04816864357527194, 0.06602453906679945, -0.0022874201110244415, -0.0022746147309490425, -0.0022728071789605633, 0.026177734748324605, 0.3673194242203411, 0.18152735175478435, -0.008448929941933617, -0.0022797373327785534, -0.002384529488269992, -0.00228042047975765, -0.002271264873591683, 0.21593031518506084, -0.0027569533813645067, -0.0023018854836930765, -0.002293147562424074, -0.04615131986698686, 0.1908558159325042, -0.002355513787199118, -0.002279034393697936, -0.002270161173971624, -0.002288502645594266, 0.3230190822040849, -0.0022728728868550894, -0.004807791192452738, 0.1908581930243189, -0.002431972470605615, -0.002272326373797203, -0.002306207790243336, -0.0022848174677717915, 0.19055738621369162, 0.1908445504316538, 0.1908528111658028, 0.19085635322638678, 0.19086591826902846, 0.02618113618995445, -0.0022807960150674255, 0.26778534380704844, -0.002343599904642578, 0.19084639643484855, 0.28943525144197885, 0.3749484356549863, -0.0023066990644412598, -0.0026100147591725203, -0.002339388754159871, -0.0022699568541001748, -0.0023442052236056165, -0.002676335815991439, 0.5399412125959667, 0.3750796614290605, 0.23973259614859513, -0.0022737648094115362, -0.00509657524288288, 0.41422337719225844, -0.0022698992533303343, 0.1908590438077624, -0.012407281805255438, 0.02616589520826388, 0.4058183668756045, 0.1908545790984763, 0.026173338107842933, -0.0023049509379843287, -0.0023254399450693413, 0.36396094632141496, 0.35880321071435123, 0.02617388762369397, 0.19085585030842922, -0.0023713154818699074, 0.44544828579710355, -0.002304985987044381, 0.18034850562161048, 0.026155452822936215, 0.3920304435080682, -0.0022883882871383467, 0.32199099190903285, -0.002274261646120032, 0.026173724167589407, -0.0022698977857098126, 0.02617831755760826, 0.3166528179425856, 0.3786305727888781, 0.19086261189829976, 0.37459762335323304, -0.0023353577120737872, 0.19086144126685017, -0.0022770654428807425, 0.4401482218635094, 0.3639540433014784, 0.3471817670084321, -0.0034449667218978447, 0.025818174776334434, 0.02613350323259043, 0.3786319216153132, -0.002270232812094654, 0.3786283456871146, 0.4058289545186519, 0.014961480251839921, 0.31441737872844355, -0.002271135085995809, 0.02606002668736406, 0.34718171832073963, -0.0023179769330720543, 0.40582150511657417, 0.3934863991305253, -0.0027343494842090874, -0.008311402126663212, -0.002281099995697501, 0.19009747795821946, -0.0022826492112997055, 0.314404467178178, 0.35431283551618353, 0.3711002925880832, 0.6517131033340765, 0.3777371670986867, 0.026157420747046266, -0.002278508270026705, -0.0022797972228178177, 0.026165232112308475, 0.026178523896060835, 0.3786233523367215, 0.19005493298662313, -0.08531852183489592, 0.21663556673136083, 0.02601455002207153, 0.190856973528769, -0.003426795110397032, -0.05577860488280758, -0.002275434012797694, -0.0022853860096396636, -0.002292833858336955, -0.0022932341450052894, 0.37862145922580803, 0.34292213858107345, 0.024971911325736864, 0.2160408836852279, 0.34717743080677443, 0.39200594212377354, -0.0023180317840464297, 0.026077460022531227, 0.21603807357836796, 0.36393110951746566, 0.21603973126787257, 0.37485104854765755, 0.3620535888512294, 0.37863154046856984, 0.36266991506076185, 0.026090930389393353, 0.31416663069686984, -0.004303849145263658, 0.03295959649527999, 0.026177823746324075, 0.2160401673430825, 0.2158781459097035, -0.0022936699351402082, 0.026175881254265183, 0.19085625332328848, 0.07234228182313615, 0.2485593517027236, 0.3456575749669725, 0.3785474634796718, -0.007113231625349412, 0.3919847055773673, 0.2674516466210504, -0.002278663849345641, -0.009720021380556974, 0.02604743047609988, 0.36315783982093947, 0.378494457717119, -0.0022734361866441773, 0.5676129259082556, 0.34715176885930527, 0.44011012421655504, 0.026158669549258856, 0.3786265810555785, -0.008312494913402095, 0.4058259551859791, 0.43899375906398896, 0.4401496406780352, 0.3785684549321092, 0.4602133912321141, 0.34290807411758095, 0.26334468766966035, 0.37831484165009266, 0.29011028015123225, 0.4372488880350303, 0.02617740565283241, -0.00227256509543882, 0.31424320323372795, 0.20261940920062185, 0.018270203019667062, 0.40266007074829807, 0.18984885818331304, 0.02617695633538922, 0.29010108441961296, 0.34476406586045, 0.4401390539175929, 0.19085697467934615, 0.37704565300889825, 0.29536523267837134, 0.2953686971950021, 0.09603373754262429, 0.42689464736488003, -0.0022960247541596694, 0.3471438698012576, 0.34717336737637966, 0.2397191222107579, 0.19083940185644505, -0.06348707101419442, 0.190815848960736, -0.013100209905892715, 0.21417356253548345, 0.2945973242458358, -0.002671723573533168, 0.19085279188359625, -0.018848674046121665, 0.06601333861001525, -0.002272040682091711, -0.0023157280466448056, 0.37510246934292646, 0.5623587692723264, 0.363954875241326, 0.3781135372675797, 0.34718113728264466]}, {\"customdata\": [[\"VeChainThor Authority\", \"Vechain\"], [\"Proof-of-BibleHash\", \"BiblePay\"], [\"SHA-256 + Hive\", \"LitecoinCash\"], [\"Proof-of-Authority\", \"Poa Network\"], [\"ECC 256K1\", \"Acute Angle Cloud\"], [\"Leased POS\", \"Waves\"]], \"hovertemplate\": \"class=%{marker.color}<br>PC 1=%{x}<br>PC 2=%{y}<br>PC 3=%{z}<br>Algorithm=%{customdata[0]}<br>CoinName=%{customdata[1]}<extra></extra>\", \"legendgroup\": \"3\", \"marker\": {\"color\": [3, 3, 3, 3, 3, 3], \"coloraxis\": \"coloraxis\", \"symbol\": \"square\"}, \"mode\": \"markers\", \"name\": \"3\", \"scene\": \"scene\", \"showlegend\": true, \"type\": \"scatter3d\", \"x\": [4.400115736733119, -0.16403806994195524, -0.49035821548249436, -0.395498076308828, -0.29607269093781863, -0.19983077840916347], \"y\": [2.523257696747185, 3.2214369661748257, 3.923616175592971, 2.602648119196566, 2.3304971766235676, 2.5124020044919004], \"z\": [7.17001704561351, 14.7273096048085, 19.433516741229354, 12.762264501851227, 10.126027140794246, 9.348780390421368]}, {\"customdata\": [[\"TRC10\", \"BitTorrent\"]], \"hovertemplate\": \"class=%{marker.color}<br>PC 1=%{x}<br>PC 2=%{y}<br>PC 3=%{z}<br>Algorithm=%{customdata[0]}<br>CoinName=%{customdata[1]}<extra></extra>\", \"legendgroup\": \"2\", \"marker\": {\"color\": [2], \"coloraxis\": \"coloraxis\", \"symbol\": \"x\"}, \"mode\": \"markers\", \"name\": \"2\", \"scene\": \"scene\", \"showlegend\": true, \"type\": \"scatter3d\", \"x\": [34.11791526872543], \"y\": [1.5298259554888833], \"z\": [-1.0766389449483709]}],                        {\"coloraxis\": {\"colorbar\": {\"title\": {\"text\": \"class\"}}, \"colorscale\": [[0.0, \"#0d0887\"], [0.1111111111111111, \"#46039f\"], [0.2222222222222222, \"#7201a8\"], [0.3333333333333333, \"#9c179e\"], [0.4444444444444444, \"#bd3786\"], [0.5555555555555556, \"#d8576b\"], [0.6666666666666666, \"#ed7953\"], [0.7777777777777778, \"#fb9f3a\"], [0.8888888888888888, \"#fdca26\"], [1.0, \"#f0f921\"]]}, \"legend\": {\"title\": {\"text\": \"class\"}, \"tracegroupgap\": 0, \"x\": 0, \"y\": 1}, \"margin\": {\"t\": 60}, \"scene\": {\"domain\": {\"x\": [0.0, 1.0], \"y\": [0.0, 1.0]}, \"xaxis\": {\"title\": {\"text\": \"PC 1\"}}, \"yaxis\": {\"title\": {\"text\": \"PC 2\"}}, \"zaxis\": {\"title\": {\"text\": \"PC 3\"}}}, \"template\": {\"data\": {\"bar\": [{\"error_x\": {\"color\": \"#2a3f5f\"}, \"error_y\": {\"color\": \"#2a3f5f\"}, \"marker\": {\"line\": {\"color\": \"#E5ECF6\", \"width\": 0.5}}, \"type\": \"bar\"}], \"barpolar\": [{\"marker\": {\"line\": {\"color\": \"#E5ECF6\", \"width\": 0.5}}, \"type\": \"barpolar\"}], \"carpet\": [{\"aaxis\": {\"endlinecolor\": \"#2a3f5f\", \"gridcolor\": \"white\", \"linecolor\": \"white\", \"minorgridcolor\": \"white\", \"startlinecolor\": \"#2a3f5f\"}, \"baxis\": {\"endlinecolor\": \"#2a3f5f\", \"gridcolor\": \"white\", \"linecolor\": \"white\", \"minorgridcolor\": \"white\", \"startlinecolor\": \"#2a3f5f\"}, \"type\": \"carpet\"}], \"choropleth\": [{\"colorbar\": {\"outlinewidth\": 0, \"ticks\": \"\"}, \"type\": \"choropleth\"}], \"contour\": [{\"colorbar\": {\"outlinewidth\": 0, \"ticks\": \"\"}, \"colorscale\": [[0.0, \"#0d0887\"], [0.1111111111111111, \"#46039f\"], [0.2222222222222222, \"#7201a8\"], [0.3333333333333333, \"#9c179e\"], [0.4444444444444444, \"#bd3786\"], [0.5555555555555556, \"#d8576b\"], [0.6666666666666666, \"#ed7953\"], [0.7777777777777778, \"#fb9f3a\"], [0.8888888888888888, \"#fdca26\"], [1.0, \"#f0f921\"]], \"type\": \"contour\"}], \"contourcarpet\": [{\"colorbar\": {\"outlinewidth\": 0, \"ticks\": \"\"}, \"type\": \"contourcarpet\"}], \"heatmap\": [{\"colorbar\": {\"outlinewidth\": 0, \"ticks\": \"\"}, \"colorscale\": [[0.0, \"#0d0887\"], [0.1111111111111111, \"#46039f\"], [0.2222222222222222, \"#7201a8\"], [0.3333333333333333, \"#9c179e\"], [0.4444444444444444, \"#bd3786\"], [0.5555555555555556, \"#d8576b\"], [0.6666666666666666, \"#ed7953\"], [0.7777777777777778, \"#fb9f3a\"], [0.8888888888888888, \"#fdca26\"], [1.0, \"#f0f921\"]], \"type\": \"heatmap\"}], \"heatmapgl\": [{\"colorbar\": {\"outlinewidth\": 0, \"ticks\": \"\"}, \"colorscale\": [[0.0, \"#0d0887\"], [0.1111111111111111, \"#46039f\"], [0.2222222222222222, \"#7201a8\"], [0.3333333333333333, \"#9c179e\"], [0.4444444444444444, \"#bd3786\"], [0.5555555555555556, \"#d8576b\"], [0.6666666666666666, \"#ed7953\"], [0.7777777777777778, \"#fb9f3a\"], [0.8888888888888888, \"#fdca26\"], [1.0, \"#f0f921\"]], \"type\": \"heatmapgl\"}], \"histogram\": [{\"marker\": {\"colorbar\": {\"outlinewidth\": 0, \"ticks\": \"\"}}, \"type\": \"histogram\"}], \"histogram2d\": [{\"colorbar\": {\"outlinewidth\": 0, \"ticks\": \"\"}, \"colorscale\": [[0.0, \"#0d0887\"], [0.1111111111111111, \"#46039f\"], [0.2222222222222222, \"#7201a8\"], [0.3333333333333333, \"#9c179e\"], [0.4444444444444444, \"#bd3786\"], [0.5555555555555556, \"#d8576b\"], [0.6666666666666666, \"#ed7953\"], [0.7777777777777778, \"#fb9f3a\"], [0.8888888888888888, \"#fdca26\"], [1.0, \"#f0f921\"]], \"type\": \"histogram2d\"}], \"histogram2dcontour\": [{\"colorbar\": {\"outlinewidth\": 0, \"ticks\": \"\"}, \"colorscale\": [[0.0, \"#0d0887\"], [0.1111111111111111, \"#46039f\"], [0.2222222222222222, \"#7201a8\"], [0.3333333333333333, \"#9c179e\"], [0.4444444444444444, \"#bd3786\"], [0.5555555555555556, \"#d8576b\"], [0.6666666666666666, \"#ed7953\"], [0.7777777777777778, \"#fb9f3a\"], [0.8888888888888888, \"#fdca26\"], [1.0, \"#f0f921\"]], \"type\": \"histogram2dcontour\"}], \"mesh3d\": [{\"colorbar\": {\"outlinewidth\": 0, \"ticks\": \"\"}, \"type\": \"mesh3d\"}], \"parcoords\": [{\"line\": {\"colorbar\": {\"outlinewidth\": 0, \"ticks\": \"\"}}, \"type\": \"parcoords\"}], \"pie\": [{\"automargin\": true, \"type\": \"pie\"}], \"scatter\": [{\"marker\": {\"colorbar\": {\"outlinewidth\": 0, \"ticks\": \"\"}}, \"type\": \"scatter\"}], \"scatter3d\": [{\"line\": {\"colorbar\": {\"outlinewidth\": 0, \"ticks\": \"\"}}, \"marker\": {\"colorbar\": {\"outlinewidth\": 0, \"ticks\": \"\"}}, \"type\": \"scatter3d\"}], \"scattercarpet\": [{\"marker\": {\"colorbar\": {\"outlinewidth\": 0, \"ticks\": \"\"}}, \"type\": \"scattercarpet\"}], \"scattergeo\": [{\"marker\": {\"colorbar\": {\"outlinewidth\": 0, \"ticks\": \"\"}}, \"type\": \"scattergeo\"}], \"scattergl\": [{\"marker\": {\"colorbar\": {\"outlinewidth\": 0, \"ticks\": \"\"}}, \"type\": \"scattergl\"}], \"scattermapbox\": [{\"marker\": {\"colorbar\": {\"outlinewidth\": 0, \"ticks\": \"\"}}, \"type\": \"scattermapbox\"}], \"scatterpolar\": [{\"marker\": {\"colorbar\": {\"outlinewidth\": 0, \"ticks\": \"\"}}, \"type\": \"scatterpolar\"}], \"scatterpolargl\": [{\"marker\": {\"colorbar\": {\"outlinewidth\": 0, \"ticks\": \"\"}}, \"type\": \"scatterpolargl\"}], \"scatterternary\": [{\"marker\": {\"colorbar\": {\"outlinewidth\": 0, \"ticks\": \"\"}}, \"type\": \"scatterternary\"}], \"surface\": [{\"colorbar\": {\"outlinewidth\": 0, \"ticks\": \"\"}, \"colorscale\": [[0.0, \"#0d0887\"], [0.1111111111111111, \"#46039f\"], [0.2222222222222222, \"#7201a8\"], [0.3333333333333333, \"#9c179e\"], [0.4444444444444444, \"#bd3786\"], [0.5555555555555556, \"#d8576b\"], [0.6666666666666666, \"#ed7953\"], [0.7777777777777778, \"#fb9f3a\"], [0.8888888888888888, \"#fdca26\"], [1.0, \"#f0f921\"]], \"type\": \"surface\"}], \"table\": [{\"cells\": {\"fill\": {\"color\": \"#EBF0F8\"}, \"line\": {\"color\": \"white\"}}, \"header\": {\"fill\": {\"color\": \"#C8D4E3\"}, \"line\": {\"color\": \"white\"}}, \"type\": \"table\"}]}, \"layout\": {\"annotationdefaults\": {\"arrowcolor\": \"#2a3f5f\", \"arrowhead\": 0, \"arrowwidth\": 1}, \"coloraxis\": {\"colorbar\": {\"outlinewidth\": 0, \"ticks\": \"\"}}, \"colorscale\": {\"diverging\": [[0, \"#8e0152\"], [0.1, \"#c51b7d\"], [0.2, \"#de77ae\"], [0.3, \"#f1b6da\"], [0.4, \"#fde0ef\"], [0.5, \"#f7f7f7\"], [0.6, \"#e6f5d0\"], [0.7, \"#b8e186\"], [0.8, \"#7fbc41\"], [0.9, \"#4d9221\"], [1, \"#276419\"]], \"sequential\": [[0.0, \"#0d0887\"], [0.1111111111111111, \"#46039f\"], [0.2222222222222222, \"#7201a8\"], [0.3333333333333333, \"#9c179e\"], [0.4444444444444444, \"#bd3786\"], [0.5555555555555556, \"#d8576b\"], [0.6666666666666666, \"#ed7953\"], [0.7777777777777778, \"#fb9f3a\"], [0.8888888888888888, \"#fdca26\"], [1.0, \"#f0f921\"]], \"sequentialminus\": [[0.0, \"#0d0887\"], [0.1111111111111111, \"#46039f\"], [0.2222222222222222, \"#7201a8\"], [0.3333333333333333, \"#9c179e\"], [0.4444444444444444, \"#bd3786\"], [0.5555555555555556, \"#d8576b\"], [0.6666666666666666, \"#ed7953\"], [0.7777777777777778, \"#fb9f3a\"], [0.8888888888888888, \"#fdca26\"], [1.0, \"#f0f921\"]]}, \"colorway\": [\"#636efa\", \"#EF553B\", \"#00cc96\", \"#ab63fa\", \"#FFA15A\", \"#19d3f3\", \"#FF6692\", \"#B6E880\", \"#FF97FF\", \"#FECB52\"], \"font\": {\"color\": \"#2a3f5f\"}, \"geo\": {\"bgcolor\": \"white\", \"lakecolor\": \"white\", \"landcolor\": \"#E5ECF6\", \"showlakes\": true, \"showland\": true, \"subunitcolor\": \"white\"}, \"hoverlabel\": {\"align\": \"left\"}, \"hovermode\": \"closest\", \"mapbox\": {\"style\": \"light\"}, \"paper_bgcolor\": \"white\", \"plot_bgcolor\": \"#E5ECF6\", \"polar\": {\"angularaxis\": {\"gridcolor\": \"white\", \"linecolor\": \"white\", \"ticks\": \"\"}, \"bgcolor\": \"#E5ECF6\", \"radialaxis\": {\"gridcolor\": \"white\", \"linecolor\": \"white\", \"ticks\": \"\"}}, \"scene\": {\"xaxis\": {\"backgroundcolor\": \"#E5ECF6\", \"gridcolor\": \"white\", \"gridwidth\": 2, \"linecolor\": \"white\", \"showbackground\": true, \"ticks\": \"\", \"zerolinecolor\": \"white\"}, \"yaxis\": {\"backgroundcolor\": \"#E5ECF6\", \"gridcolor\": \"white\", \"gridwidth\": 2, \"linecolor\": \"white\", \"showbackground\": true, \"ticks\": \"\", \"zerolinecolor\": \"white\"}, \"zaxis\": {\"backgroundcolor\": \"#E5ECF6\", \"gridcolor\": \"white\", \"gridwidth\": 2, \"linecolor\": \"white\", \"showbackground\": true, \"ticks\": \"\", \"zerolinecolor\": \"white\"}}, \"shapedefaults\": {\"line\": {\"color\": \"#2a3f5f\"}}, \"ternary\": {\"aaxis\": {\"gridcolor\": \"white\", \"linecolor\": \"white\", \"ticks\": \"\"}, \"baxis\": {\"gridcolor\": \"white\", \"linecolor\": \"white\", \"ticks\": \"\"}, \"bgcolor\": \"#E5ECF6\", \"caxis\": {\"gridcolor\": \"white\", \"linecolor\": \"white\", \"ticks\": \"\"}}, \"title\": {\"x\": 0.05}, \"xaxis\": {\"automargin\": true, \"gridcolor\": \"white\", \"linecolor\": \"white\", \"ticks\": \"\", \"title\": {\"standoff\": 15}, \"zerolinecolor\": \"white\", \"zerolinewidth\": 2}, \"yaxis\": {\"automargin\": true, \"gridcolor\": \"white\", \"linecolor\": \"white\", \"ticks\": \"\", \"title\": {\"standoff\": 15}, \"zerolinecolor\": \"white\", \"zerolinewidth\": 2}}}, \"width\": 800},                        {\"responsive\": true}                    ).then(function(){\n",
       "                            \n",
       "var gd = document.getElementById('d235025b-6798-48ef-a926-58335abe0759');\n",
       "var x = new MutationObserver(function (mutations, observer) {{\n",
       "        var display = window.getComputedStyle(gd).display;\n",
       "        if (!display || display === 'none') {{\n",
       "            console.log([gd, 'removed!']);\n",
       "            Plotly.purge(gd);\n",
       "            observer.disconnect();\n",
       "        }}\n",
       "}});\n",
       "\n",
       "// Listen for the removal of the full notebook cells\n",
       "var notebookContainer = gd.closest('#notebook-container');\n",
       "if (notebookContainer) {{\n",
       "    x.observe(notebookContainer, {childList: true});\n",
       "}}\n",
       "\n",
       "// Listen for the clearing of the current output cell\n",
       "var outputEl = gd.closest('.output');\n",
       "if (outputEl) {{\n",
       "    x.observe(outputEl, {childList: true});\n",
       "}}\n",
       "\n",
       "                        })                };                });            </script>        </div>"
      ]
     },
     "metadata": {},
     "output_type": "display_data"
    }
   ],
   "source": [
    "# Creating a 3D-Scatter with the PCA data and the clusters\n",
    "# Plotting the clusters with three features\n",
    "fig = px.scatter_3d(clustered_df, x=\"PC 1\", y=\"PC 2\", z=\"PC 3\", hover_data=[\"Algorithm\",\"CoinName\"], symbol= \"class\", color=\"class\", width=800)\n",
    "fig.update_layout(legend=dict(x=0,y=1))\n",
    "fig.show()\n",
    "# YOUR CODE HERE\n",
    "# Plotting the clusters with three features\n",
    "#fig = px.scatter_3d(df_iris, x=\"petal_width\", y=\"sepal_length\", z=\"petal_length\", color=\"class\", symbol=\"CoinName\", size=\"sepal_width\",width=800)\n",
    "#fig.update_layout(legend=dict(x=0,y=1))\n",
    "#fig.show()"
   ]
  },
  {
   "cell_type": "code",
   "execution_count": 68,
   "metadata": {},
   "outputs": [
    {
     "ename": "NameError",
     "evalue": "name 'df' is not defined",
     "output_type": "error",
     "traceback": [
      "\u001b[1;31m---------------------------------------------------------------------------\u001b[0m",
      "\u001b[1;31mNameError\u001b[0m                                 Traceback (most recent call last)",
      "\u001b[1;32m<ipython-input-68-690f0f5197d7>\u001b[0m in \u001b[0;36m<module>\u001b[1;34m\u001b[0m\n\u001b[0;32m      1\u001b[0m \u001b[1;31m# Create a table with tradable cryptocurrencies.\u001b[0m\u001b[1;33m\u001b[0m\u001b[1;33m\u001b[0m\u001b[1;33m\u001b[0m\u001b[0m\n\u001b[0;32m      2\u001b[0m \u001b[1;31m# YOUR CODE HERE\u001b[0m\u001b[1;33m\u001b[0m\u001b[1;33m\u001b[0m\u001b[1;33m\u001b[0m\u001b[0m\n\u001b[1;32m----> 3\u001b[1;33m \u001b[0mdf\u001b[0m\u001b[1;33m.\u001b[0m\u001b[0mhvplot\u001b[0m\u001b[1;33m.\u001b[0m\u001b[0mtable\u001b[0m\u001b[1;33m(\u001b[0m\u001b[0mcolumns\u001b[0m\u001b[1;33m=\u001b[0m\u001b[1;33m[\u001b[0m\u001b[1;34m'CoinName'\u001b[0m\u001b[1;33m,\u001b[0m \u001b[1;34m'Algorithm'\u001b[0m\u001b[1;33m,\u001b[0m \u001b[1;34m'ProofType'\u001b[0m\u001b[1;33m,\u001b[0m \u001b[1;34m'TotalCoinSupply'\u001b[0m\u001b[1;33m,\u001b[0m\u001b[1;34m'TotalCoinsMined'\u001b[0m\u001b[1;33m,\u001b[0m \u001b[1;34m'Class'\u001b[0m\u001b[1;33m]\u001b[0m\u001b[1;33m,\u001b[0m \u001b[0msortable\u001b[0m\u001b[1;33m=\u001b[0m\u001b[1;32mTrue\u001b[0m\u001b[1;33m,\u001b[0m \u001b[0mselectable\u001b[0m\u001b[1;33m=\u001b[0m\u001b[1;32mTrue\u001b[0m\u001b[1;33m)\u001b[0m\u001b[1;33m\u001b[0m\u001b[1;33m\u001b[0m\u001b[0m\n\u001b[0m",
      "\u001b[1;31mNameError\u001b[0m: name 'df' is not defined"
     ]
    }
   ],
   "source": [
    "# Create a table with tradable cryptocurrencies.\n",
    "# YOUR CODE HERE\n",
    "clustered_df.hvplot.table(columns=['CoinName', 'Algorithm', 'ProofType', 'TotalCoinSupply','TotalCoinsMined', 'Class'], sortable=True, selectable=True)"
   ]
  },
  {
   "cell_type": "code",
   "execution_count": 19,
   "metadata": {},
   "outputs": [
    {
     "name": "stdout",
     "output_type": "stream",
     "text": [
      "There are 532 tradable cryptocurrencies.\n"
     ]
    }
   ],
   "source": [
    "# Print the total number of tradable cryptocurrencies.\n",
    "# YOUR CODE HERE"
   ]
  },
  {
   "cell_type": "code",
   "execution_count": 20,
   "metadata": {},
   "outputs": [
    {
     "data": {
      "text/plain": [
       "array([[4.20000000e-11, 0.00000000e+00],\n",
       "       [5.32000000e-04, 1.06585544e-03],\n",
       "       [3.14159265e-01, 2.95755135e-02],\n",
       "       ...,\n",
       "       [1.40022261e-03, 9.90135079e-04],\n",
       "       [2.10000000e-05, 7.37028150e-06],\n",
       "       [1.00000000e-06, 1.29582282e-07]])"
      ]
     },
     "execution_count": 20,
     "metadata": {},
     "output_type": "execute_result"
    }
   ],
   "source": [
    "# Scaling data to create the scatter plot with tradable cryptocurrencies.\n",
    "# YOUR CODE HERE"
   ]
  },
  {
   "cell_type": "code",
   "execution_count": 21,
   "metadata": {},
   "outputs": [
    {
     "data": {
      "text/html": [
       "<div>\n",
       "<style scoped>\n",
       "    .dataframe tbody tr th:only-of-type {\n",
       "        vertical-align: middle;\n",
       "    }\n",
       "\n",
       "    .dataframe tbody tr th {\n",
       "        vertical-align: top;\n",
       "    }\n",
       "\n",
       "    .dataframe thead th {\n",
       "        text-align: right;\n",
       "    }\n",
       "</style>\n",
       "<table border=\"1\" class=\"dataframe\">\n",
       "  <thead>\n",
       "    <tr style=\"text-align: right;\">\n",
       "      <th></th>\n",
       "      <th>TotalCoinSupply</th>\n",
       "      <th>TotalCoinsMined</th>\n",
       "      <th>CoinName</th>\n",
       "      <th>Class</th>\n",
       "    </tr>\n",
       "  </thead>\n",
       "  <tbody>\n",
       "    <tr>\n",
       "      <th>42</th>\n",
       "      <td>4.200000e-11</td>\n",
       "      <td>0.000000</td>\n",
       "      <td>42 Coin</td>\n",
       "      <td>0</td>\n",
       "    </tr>\n",
       "    <tr>\n",
       "      <th>404</th>\n",
       "      <td>5.320000e-04</td>\n",
       "      <td>0.001066</td>\n",
       "      <td>404Coin</td>\n",
       "      <td>0</td>\n",
       "    </tr>\n",
       "    <tr>\n",
       "      <th>1337</th>\n",
       "      <td>3.141593e-01</td>\n",
       "      <td>0.029576</td>\n",
       "      <td>EliteCoin</td>\n",
       "      <td>0</td>\n",
       "    </tr>\n",
       "    <tr>\n",
       "      <th>BTC</th>\n",
       "      <td>2.100000e-05</td>\n",
       "      <td>0.000018</td>\n",
       "      <td>Bitcoin</td>\n",
       "      <td>1</td>\n",
       "    </tr>\n",
       "    <tr>\n",
       "      <th>ETH</th>\n",
       "      <td>0.000000e+00</td>\n",
       "      <td>0.000109</td>\n",
       "      <td>Ethereum</td>\n",
       "      <td>1</td>\n",
       "    </tr>\n",
       "    <tr>\n",
       "      <th>LTC</th>\n",
       "      <td>8.400000e-05</td>\n",
       "      <td>0.000064</td>\n",
       "      <td>Litecoin</td>\n",
       "      <td>1</td>\n",
       "    </tr>\n",
       "    <tr>\n",
       "      <th>DASH</th>\n",
       "      <td>2.200000e-05</td>\n",
       "      <td>0.000009</td>\n",
       "      <td>Dash</td>\n",
       "      <td>0</td>\n",
       "    </tr>\n",
       "    <tr>\n",
       "      <th>XMR</th>\n",
       "      <td>0.000000e+00</td>\n",
       "      <td>0.000017</td>\n",
       "      <td>Monero</td>\n",
       "      <td>1</td>\n",
       "    </tr>\n",
       "    <tr>\n",
       "      <th>ETC</th>\n",
       "      <td>2.100000e-04</td>\n",
       "      <td>0.000115</td>\n",
       "      <td>Ethereum Classic</td>\n",
       "      <td>1</td>\n",
       "    </tr>\n",
       "    <tr>\n",
       "      <th>ZEC</th>\n",
       "      <td>2.100000e-05</td>\n",
       "      <td>0.000007</td>\n",
       "      <td>ZCash</td>\n",
       "      <td>1</td>\n",
       "    </tr>\n",
       "  </tbody>\n",
       "</table>\n",
       "</div>"
      ],
      "text/plain": [
       "      TotalCoinSupply  TotalCoinsMined          CoinName  Class\n",
       "42       4.200000e-11         0.000000           42 Coin      0\n",
       "404      5.320000e-04         0.001066           404Coin      0\n",
       "1337     3.141593e-01         0.029576         EliteCoin      0\n",
       "BTC      2.100000e-05         0.000018           Bitcoin      1\n",
       "ETH      0.000000e+00         0.000109          Ethereum      1\n",
       "LTC      8.400000e-05         0.000064          Litecoin      1\n",
       "DASH     2.200000e-05         0.000009              Dash      0\n",
       "XMR      0.000000e+00         0.000017            Monero      1\n",
       "ETC      2.100000e-04         0.000115  Ethereum Classic      1\n",
       "ZEC      2.100000e-05         0.000007             ZCash      1"
      ]
     },
     "execution_count": 21,
     "metadata": {},
     "output_type": "execute_result"
    }
   ],
   "source": [
    "# Create a new DataFrame that has the scaled data with the clustered_df DataFrame index.\n",
    "# YOUR CODE HERE\n",
    "\n",
    "# Add the \"CoinName\" column from the clustered_df DataFrame to the new DataFrame.\n",
    "# YOUR CODE HERE\n",
    "\n",
    "# Add the \"Class\" column from the clustered_df DataFrame to the new DataFrame. \n",
    "# YOUR CODE HERE\n",
    "\n",
    "plot_df.head(10)"
   ]
  },
  {
   "cell_type": "code",
   "execution_count": 22,
   "metadata": {},
   "outputs": [
    {
     "data": {},
     "metadata": {},
     "output_type": "display_data"
    },
    {
     "data": {
      "application/vnd.holoviews_exec.v0+json": "",
      "text/html": [
       "<div id='1154'>\n",
       "\n",
       "\n",
       "\n",
       "\n",
       "\n",
       "  <div class=\"bk-root\" id=\"957b137a-5de5-4a19-9126-474fce87e793\" data-root-id=\"1154\"></div>\n",
       "</div>\n",
       "<script type=\"application/javascript\">(function(root) {\n",
       "  function embed_document(root) {\n",
       "  var docs_json = {\"8afcf9e5-6eee-42e8-8357-c9287dd41e03\":{\"roots\":{\"references\":[{\"attributes\":{},\"id\":\"1252\",\"type\":\"UnionRenderers\"},{\"attributes\":{\"text\":\"\",\"text_color\":{\"value\":\"black\"},\"text_font_size\":{\"value\":\"12pt\"}},\"id\":\"1163\",\"type\":\"Title\"},{\"attributes\":{\"data_source\":{\"id\":\"1196\"},\"glyph\":{\"id\":\"1199\"},\"hover_glyph\":null,\"muted_glyph\":{\"id\":\"1201\"},\"nonselection_glyph\":{\"id\":\"1200\"},\"selection_glyph\":null,\"view\":{\"id\":\"1203\"}},\"id\":\"1202\",\"type\":\"GlyphRenderer\"},{\"attributes\":{\"label\":{\"value\":\"2\"},\"renderers\":[{\"id\":\"1239\"}]},\"id\":\"1253\",\"type\":\"LegendItem\"},{\"attributes\":{\"fill_color\":{\"value\":\"#ff7e0e\"},\"line_color\":{\"value\":\"#ff7e0e\"},\"size\":{\"units\":\"screen\",\"value\":5.477225575051661},\"x\":{\"field\":\"TotalCoinsMined\"},\"y\":{\"field\":\"TotalCoinSupply\"}},\"id\":\"1217\",\"type\":\"Scatter\"},{\"attributes\":{},\"id\":\"1179\",\"type\":\"SaveTool\"},{\"attributes\":{},\"id\":\"1195\",\"type\":\"BasicTickFormatter\"},{\"attributes\":{\"data\":{\"Class\":[3,3,3,3],\"CoinName\":[\"BiblePay\",\"LitecoinCash\",\"Poa Network\",\"Waves\"],\"TotalCoinSupply\":{\"__ndarray__\":\"lPYGX5hMdT+8eapDboZLP4RaKOGWizA/LEMc6+I2Gj8=\",\"dtype\":\"float64\",\"order\":\"little\",\"shape\":[4]},\"TotalCoinsMined\":{\"__ndarray__\":\"j1gNkdpTXT+QpMXySiFFP5wZJXiPEis/+0V+YL96Gj8=\",\"dtype\":\"float64\",\"order\":\"little\",\"shape\":[4]}},\"selected\":{\"id\":\"1255\"},\"selection_policy\":{\"id\":\"1275\"}},\"id\":\"1254\",\"type\":\"ColumnDataSource\"},{\"attributes\":{},\"id\":\"1181\",\"type\":\"WheelZoomTool\"},{\"attributes\":{\"overlay\":{\"id\":\"1184\"}},\"id\":\"1182\",\"type\":\"BoxZoomTool\"},{\"attributes\":{\"callback\":null,\"renderers\":[{\"id\":\"1202\"},{\"id\":\"1220\"},{\"id\":\"1239\"},{\"id\":\"1260\"}],\"tags\":[\"hv_created\"],\"tooltips\":[[\"Class\",\"@{Class}\"],[\"TotalCoinsMined\",\"@{TotalCoinsMined}\"],[\"TotalCoinSupply\",\"@{TotalCoinSupply}\"],[\"CoinName\",\"@{CoinName}\"]]},\"id\":\"1158\",\"type\":\"HoverTool\"},{\"attributes\":{},\"id\":\"1275\",\"type\":\"UnionRenderers\"},{\"attributes\":{\"fill_alpha\":{\"value\":0.1},\"fill_color\":{\"value\":\"#ff7e0e\"},\"line_alpha\":{\"value\":0.1},\"line_color\":{\"value\":\"#ff7e0e\"},\"size\":{\"units\":\"screen\",\"value\":5.477225575051661},\"x\":{\"field\":\"TotalCoinsMined\"},\"y\":{\"field\":\"TotalCoinSupply\"}},\"id\":\"1218\",\"type\":\"Scatter\"},{\"attributes\":{},\"id\":\"1211\",\"type\":\"UnionRenderers\"},{\"attributes\":{\"align\":null,\"below\":[{\"id\":\"1171\"}],\"center\":[{\"id\":\"1174\"},{\"id\":\"1178\"}],\"left\":[{\"id\":\"1175\"}],\"margin\":null,\"min_border_bottom\":10,\"min_border_left\":10,\"min_border_right\":10,\"min_border_top\":10,\"plot_height\":300,\"plot_width\":700,\"renderers\":[{\"id\":\"1202\"},{\"id\":\"1220\"},{\"id\":\"1239\"},{\"id\":\"1260\"}],\"right\":[{\"id\":\"1212\"}],\"sizing_mode\":\"fixed\",\"title\":{\"id\":\"1163\"},\"toolbar\":{\"id\":\"1185\"},\"x_range\":{\"id\":\"1156\"},\"x_scale\":{\"id\":\"1167\"},\"y_range\":{\"id\":\"1157\"},\"y_scale\":{\"id\":\"1169\"}},\"id\":\"1162\",\"subtype\":\"Figure\",\"type\":\"Plot\"},{\"attributes\":{\"source\":{\"id\":\"1196\"}},\"id\":\"1203\",\"type\":\"CDSView\"},{\"attributes\":{\"data\":{\"Class\":[1,1,1,1,1,1,1,1,1,1,1,1,1,1,1,1,1,1,1,1,1,1,1,1,1,1,1,1,1,1,1,1,1,1,1,1,1,1,1,1,1,1,1,1,1,1,1,1,1,1,1,1,1,1,1,1,1,1,1,1,1,1,1,1,1,1,1,1,1,1,1,1,1,1,1,1,1,1,1,1,1,1,1,1,1,1,1,1,1,1,1,1,1,1,1,1,1,1,1,1,1,1,1,1,1,1,1,1,1,1,1,1,1,1,1,1,1,1,1,1,1,1,1,1,1,1,1,1,1,1,1,1,1,1,1,1,1,1,1,1,1,1,1,1,1,1,1,1,1,1,1,1,1,1,1,1,1,1,1,1,1,1,1,1,1,1,1,1,1,1,1,1,1,1,1,1,1,1,1,1,1,1,1,1,1,1,1,1,1,1,1,1,1,1,1,1,1,1,1,1,1,1,1,1,1,1,1,1,1,1,1,1,1,1,1,1,1,1,1,1,1,1,1,1,1,1,1,1,1,1,1,1,1,1,1,1,1,1],\"CoinName\":[\"Bitcoin\",\"Ethereum\",\"Litecoin\",\"Monero\",\"Ethereum Classic\",\"ZCash\",\"DigiByte\",\"ProsperCoin\",\"Spreadcoin\",\"Argentum\",\"MyriadCoin\",\"MoonCoin\",\"ZetaCoin\",\"SexCoin\",\"Quatloo\",\"QuarkCoin\",\"Riecoin\",\"Digitalcoin \",\"Catcoin\",\"CannaCoin\",\"CryptCoin\",\"Verge\",\"DevCoin\",\"EarthCoin\",\"E-Gulden\",\"Einsteinium\",\"Emerald\",\"Franko\",\"FeatherCoin\",\"GrandCoin\",\"GlobalCoin\",\"GoldCoin\",\"Infinite Coin\",\"IXcoin\",\"KrugerCoin\",\"LuckyCoin\",\"Litebar \",\"MegaCoin\",\"MediterraneanCoin\",\"MinCoin\",\"NobleCoin\",\"Namecoin\",\"NyanCoin\",\"RonPaulCoin\",\"StableCoin\",\"SmartCoin\",\"SysCoin\",\"TigerCoin\",\"TerraCoin\",\"UnbreakableCoin\",\"Unobtanium\",\"UroCoin\",\"ViaCoin\",\"Vertcoin\",\"WorldCoin\",\"JouleCoin\",\"ByteCoin\",\"DigitalNote \",\"MonaCoin\",\"Gulden\",\"PesetaCoin\",\"Wild Beast Coin\",\"Flo\",\"ArtByte\",\"Folding Coin\",\"Unitus\",\"CypherPunkCoin\",\"OmniCron\",\"GreenCoin\",\"Cryptonite\",\"MasterCoin\",\"SoonCoin\",\"1Credit\",\"MarsCoin \",\"Crypto\",\"Anarchists Prime\",\"BowsCoin\",\"Song Coin\",\"BitZeny\",\"Expanse\",\"Siacoin\",\"MindCoin\",\"I0coin\",\"Revolution VR\",\"HOdlcoin\",\"Gamecredits\",\"CarpeDiemCoin\",\"Adzcoin\",\"SoilCoin\",\"YoCoin\",\"SibCoin\",\"Francs\",\"BolivarCoin\",\"Omni\",\"PizzaCoin\",\"Komodo\",\"Karbo\",\"ZayedCoin\",\"Circuits of Value\",\"DopeCoin\",\"DollarCoin\",\"Shilling\",\"ZCoin\",\"Elementrem\",\"ZClassic\",\"KiloCoin\",\"ArtexCoin\",\"Kurrent\",\"Cannabis Industry Coin\",\"OsmiumCoin\",\"Bikercoins\",\"HexxCoin\",\"PacCoin\",\"Citadel\",\"BeaverCoin\",\"VaultCoin\",\"Zero\",\"Canada eCoin\",\"Zoin\",\"DubaiCoin\",\"EB3coin\",\"Coinonat\",\"BenjiRolls\",\"ILCoin\",\"EquiTrader\",\"Quantum Resistant Ledger\",\"Dynamic\",\"Nano\",\"ChanCoin\",\"Dinastycoin\",\"DigitalPrice\",\"Unify\",\"SocialCoin\",\"ArcticCoin\",\"DAS\",\"LeviarCoin\",\"Bitcore\",\"gCn Coin\",\"SmartCash\",\"Onix\",\"Bitcoin Cash\",\"Sojourn Coin\",\"NewYorkCoin\",\"FrazCoin\",\"Kronecoin\",\"AdCoin\",\"Linx\",\"Sumokoin\",\"BitcoinZ\",\"Elements\",\"VIVO Coin\",\"Bitcoin Gold\",\"Pirl\",\"eBoost\",\"Pura\",\"Innova\",\"Ellaism\",\"GoByte\",\"SHIELD\",\"UltraNote\",\"BitCoal\",\"DaxxCoin\",\"AC3\",\"Lethean\",\"PopularCoin\",\"Photon\",\"Sucre\",\"SparksPay\",\"GunCoin\",\"IrishCoin\",\"Pioneer Coin\",\"UnitedBitcoin\",\"Interzone\",\"TurtleCoin\",\"MUNcoin\",\"Niobio Cash\",\"ShareChain\",\"Travelflex\",\"KREDS\",\"BitFlip\",\"LottoCoin\",\"Crypto Improvement Fund\",\"Callisto Network\",\"BitTube\",\"Poseidon\",\"Aidos Kuneen\",\"Bitrolium\",\"Alpenschillling\",\"FuturoCoin\",\"Monero Classic\",\"Jumpcoin\",\"Infinex\",\"KEYCO\",\"GINcoin\",\"PlatinCoin\",\"Loki\",\"Newton Coin\",\"MassGrid\",\"PluraCoin\",\"Motion\",\"PlusOneCoin\",\"Axe\",\"HexCoin\",\"Webchain\",\"Ryo\",\"Urals Coin\",\"Qwertycoin\",\"Project Pai\",\"Azart\",\"Xchange\",\"CrypticCoin\",\"Actinium\",\"Bitcoin SV\",\"FREDEnergy\",\"Universal Molecule\",\"Lithium\",\"Exosis\",\"Block-Logic\",\"Beam\",\"Bithereum\",\"SLICE\",\"BLAST\",\"Bitcoin Rhodium\",\"GlobalToken\",\"SolarCoin\",\"UFO Coin\",\"BlakeCoin\",\"Crypto Escudo\",\"Crown Coin\",\"SmileyCoin\",\"Groestlcoin\",\"Bata\",\"Pakcoin\",\"JoinCoin\",\"Vollar\",\"Reality Clash\",\"Beldex\",\"Horizen\"],\"TotalCoinSupply\":{\"__ndarray__\":\"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\",\"dtype\":\"float64\",\"order\":\"little\",\"shape\":[238]},\"TotalCoinsMined\":{\"__ndarray__\":\"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\",\"dtype\":\"float64\",\"order\":\"little\",\"shape\":[238]}},\"selected\":{\"id\":\"1215\"},\"selection_policy\":{\"id\":\"1231\"}},\"id\":\"1214\",\"type\":\"ColumnDataSource\"},{\"attributes\":{\"data\":{\"Class\":[2],\"CoinName\":[\"BitTorrent\"],\"TotalCoinSupply\":{\"__ndarray__\":\"rkfhehSu7z8=\",\"dtype\":\"float64\",\"order\":\"little\",\"shape\":[1]},\"TotalCoinsMined\":{\"__ndarray__\":\"AAAAAAAA8D8=\",\"dtype\":\"float64\",\"order\":\"little\",\"shape\":[1]}},\"selected\":{\"id\":\"1234\"},\"selection_policy\":{\"id\":\"1252\"}},\"id\":\"1233\",\"type\":\"ColumnDataSource\"},{\"attributes\":{},\"id\":\"1176\",\"type\":\"BasicTicker\"},{\"attributes\":{\"axis_label\":\"TotalCoinSupply\",\"bounds\":\"auto\",\"formatter\":{\"id\":\"1195\"},\"major_label_orientation\":\"horizontal\",\"ticker\":{\"id\":\"1176\"}},\"id\":\"1175\",\"type\":\"LinearAxis\"},{\"attributes\":{},\"id\":\"1193\",\"type\":\"BasicTickFormatter\"},{\"attributes\":{},\"id\":\"1183\",\"type\":\"ResetTool\"},{\"attributes\":{\"children\":[{\"id\":\"1155\"},{\"id\":\"1162\"},{\"id\":\"1403\"}],\"margin\":[0,0,0,0],\"name\":\"Row01877\",\"tags\":[\"embedded\"]},\"id\":\"1154\",\"type\":\"Row\"},{\"attributes\":{\"end\":1.1,\"reset_end\":1.1,\"reset_start\":-0.1,\"start\":-0.1,\"tags\":[[[\"TotalCoinSupply\",\"TotalCoinSupply\",null]]]},\"id\":\"1157\",\"type\":\"Range1d\"},{\"attributes\":{\"label\":{\"value\":\"3\"},\"renderers\":[{\"id\":\"1260\"}]},\"id\":\"1276\",\"type\":\"LegendItem\"},{\"attributes\":{},\"id\":\"1231\",\"type\":\"UnionRenderers\"},{\"attributes\":{\"margin\":[5,5,5,5],\"name\":\"HSpacer01882\",\"sizing_mode\":\"stretch_width\"},\"id\":\"1403\",\"type\":\"Spacer\"},{\"attributes\":{\"axis\":{\"id\":\"1171\"},\"grid_line_color\":null,\"ticker\":null},\"id\":\"1174\",\"type\":\"Grid\"},{\"attributes\":{\"data_source\":{\"id\":\"1233\"},\"glyph\":{\"id\":\"1236\"},\"hover_glyph\":null,\"muted_glyph\":{\"id\":\"1238\"},\"nonselection_glyph\":{\"id\":\"1237\"},\"selection_glyph\":null,\"view\":{\"id\":\"1240\"}},\"id\":\"1239\",\"type\":\"GlyphRenderer\"},{\"attributes\":{\"margin\":[5,5,5,5],\"name\":\"HSpacer01881\",\"sizing_mode\":\"stretch_width\"},\"id\":\"1155\",\"type\":\"Spacer\"},{\"attributes\":{\"fill_color\":{\"value\":\"#2ba02b\"},\"line_color\":{\"value\":\"#2ba02b\"},\"size\":{\"units\":\"screen\",\"value\":5.477225575051661},\"x\":{\"field\":\"TotalCoinsMined\"},\"y\":{\"field\":\"TotalCoinSupply\"}},\"id\":\"1236\",\"type\":\"Scatter\"},{\"attributes\":{},\"id\":\"1255\",\"type\":\"Selection\"},{\"attributes\":{\"label\":{\"value\":\"1\"},\"renderers\":[{\"id\":\"1220\"}]},\"id\":\"1232\",\"type\":\"LegendItem\"},{\"attributes\":{},\"id\":\"1234\",\"type\":\"Selection\"},{\"attributes\":{},\"id\":\"1167\",\"type\":\"LinearScale\"},{\"attributes\":{\"fill_alpha\":{\"value\":0.2},\"fill_color\":{\"value\":\"#1f77b3\"},\"line_alpha\":{\"value\":0.2},\"line_color\":{\"value\":\"#1f77b3\"},\"size\":{\"units\":\"screen\",\"value\":5.477225575051661},\"x\":{\"field\":\"TotalCoinsMined\"},\"y\":{\"field\":\"TotalCoinSupply\"}},\"id\":\"1201\",\"type\":\"Scatter\"},{\"attributes\":{\"data_source\":{\"id\":\"1214\"},\"glyph\":{\"id\":\"1217\"},\"hover_glyph\":null,\"muted_glyph\":{\"id\":\"1219\"},\"nonselection_glyph\":{\"id\":\"1218\"},\"selection_glyph\":null,\"view\":{\"id\":\"1221\"}},\"id\":\"1220\",\"type\":\"GlyphRenderer\"},{\"attributes\":{\"active_drag\":\"auto\",\"active_inspect\":\"auto\",\"active_multi\":null,\"active_scroll\":\"auto\",\"active_tap\":\"auto\",\"tools\":[{\"id\":\"1158\"},{\"id\":\"1179\"},{\"id\":\"1180\"},{\"id\":\"1181\"},{\"id\":\"1182\"},{\"id\":\"1183\"}]},\"id\":\"1185\",\"type\":\"Toolbar\"},{\"attributes\":{\"end\":1.042857142857143,\"reset_end\":1.042857142857143,\"reset_start\":-0.04285714285714286,\"start\":-0.04285714285714286,\"tags\":[[[\"TotalCoinsMined\",\"TotalCoinsMined\",null]]]},\"id\":\"1156\",\"type\":\"Range1d\"},{\"attributes\":{},\"id\":\"1169\",\"type\":\"LinearScale\"},{\"attributes\":{\"fill_color\":{\"value\":\"#1f77b3\"},\"line_color\":{\"value\":\"#1f77b3\"},\"size\":{\"units\":\"screen\",\"value\":5.477225575051661},\"x\":{\"field\":\"TotalCoinsMined\"},\"y\":{\"field\":\"TotalCoinSupply\"}},\"id\":\"1199\",\"type\":\"Scatter\"},{\"attributes\":{\"fill_alpha\":{\"value\":0.2},\"fill_color\":{\"value\":\"#2ba02b\"},\"line_alpha\":{\"value\":0.2},\"line_color\":{\"value\":\"#2ba02b\"},\"size\":{\"units\":\"screen\",\"value\":5.477225575051661},\"x\":{\"field\":\"TotalCoinsMined\"},\"y\":{\"field\":\"TotalCoinSupply\"}},\"id\":\"1238\",\"type\":\"Scatter\"},{\"attributes\":{\"fill_alpha\":{\"value\":0.1},\"fill_color\":{\"value\":\"#1f77b3\"},\"line_alpha\":{\"value\":0.1},\"line_color\":{\"value\":\"#1f77b3\"},\"size\":{\"units\":\"screen\",\"value\":5.477225575051661},\"x\":{\"field\":\"TotalCoinsMined\"},\"y\":{\"field\":\"TotalCoinSupply\"}},\"id\":\"1200\",\"type\":\"Scatter\"},{\"attributes\":{},\"id\":\"1172\",\"type\":\"BasicTicker\"},{\"attributes\":{\"source\":{\"id\":\"1214\"}},\"id\":\"1221\",\"type\":\"CDSView\"},{\"attributes\":{\"bottom_units\":\"screen\",\"fill_alpha\":0.5,\"fill_color\":\"lightgrey\",\"left_units\":\"screen\",\"level\":\"overlay\",\"line_alpha\":1.0,\"line_color\":\"black\",\"line_dash\":[4,4],\"line_width\":2,\"right_units\":\"screen\",\"top_units\":\"screen\"},\"id\":\"1184\",\"type\":\"BoxAnnotation\"},{\"attributes\":{\"data_source\":{\"id\":\"1254\"},\"glyph\":{\"id\":\"1257\"},\"hover_glyph\":null,\"muted_glyph\":{\"id\":\"1259\"},\"nonselection_glyph\":{\"id\":\"1258\"},\"selection_glyph\":null,\"view\":{\"id\":\"1261\"}},\"id\":\"1260\",\"type\":\"GlyphRenderer\"},{\"attributes\":{\"source\":{\"id\":\"1233\"}},\"id\":\"1240\",\"type\":\"CDSView\"},{\"attributes\":{\"fill_alpha\":{\"value\":0.1},\"fill_color\":{\"value\":\"#d62628\"},\"line_alpha\":{\"value\":0.1},\"line_color\":{\"value\":\"#d62628\"},\"size\":{\"units\":\"screen\",\"value\":5.477225575051661},\"x\":{\"field\":\"TotalCoinsMined\"},\"y\":{\"field\":\"TotalCoinSupply\"}},\"id\":\"1258\",\"type\":\"Scatter\"},{\"attributes\":{},\"id\":\"1180\",\"type\":\"PanTool\"},{\"attributes\":{\"data\":{\"Class\":[0,0,0,0,0,0,0,0,0,0,0,0,0,0,0,0,0,0,0,0,0,0,0,0,0,0,0,0,0,0,0,0,0,0,0,0,0,0,0,0,0,0,0,0,0,0,0,0,0,0,0,0,0,0,0,0,0,0,0,0,0,0,0,0,0,0,0,0,0,0,0,0,0,0,0,0,0,0,0,0,0,0,0,0,0,0,0,0,0,0,0,0,0,0,0,0,0,0,0,0,0,0,0,0,0,0,0,0,0,0,0,0,0,0,0,0,0,0,0,0,0,0,0,0,0,0,0,0,0,0,0,0,0,0,0,0,0,0,0,0,0,0,0,0,0,0,0,0,0,0,0,0,0,0,0,0,0,0,0,0,0,0,0,0,0,0,0,0,0,0,0,0,0,0,0,0,0,0,0,0,0,0,0,0,0,0,0,0,0,0,0,0,0,0,0,0,0,0,0,0,0,0,0,0,0,0,0,0,0,0,0,0,0,0,0,0,0,0,0,0,0,0,0,0,0,0,0,0,0,0,0,0,0,0,0,0,0,0,0,0,0,0,0,0,0,0,0,0,0,0,0,0,0,0,0,0,0,0,0,0,0,0,0,0,0,0,0,0,0,0,0,0,0,0,0,0,0,0,0,0,0,0,0,0,0,0,0,0,0],\"CoinName\":[\"42 Coin\",\"404Coin\",\"EliteCoin\",\"Dash\",\"Bitshares\",\"BitcoinDark\",\"PayCoin\",\"KoboCoin\",\"Aurora Coin\",\"BlueCoin\",\"EnergyCoin\",\"BitBar\",\"CryptoBullion\",\"CasinoCoin\",\"Diamond\",\"Exclusive Coin\",\"FlutterCoin\",\"HoboNickels\",\"HyperStake\",\"IOCoin\",\"MaxCoin\",\"MintCoin\",\"MazaCoin\",\"Nautilus Coin\",\"NavCoin\",\"OpalCoin\",\"Orbitcoin\",\"PotCoin\",\"PhoenixCoin\",\"Reddcoin\",\"SuperCoin\",\"SyncCoin\",\"TeslaCoin\",\"TittieCoin\",\"TorCoin\",\"UnitaryStatus Dollar\",\"UltraCoin\",\"VeriCoin\",\"X11 Coin\",\"Crypti\",\"StealthCoin\",\"ZCC Coin\",\"BurstCoin\",\"StorjCoin\",\"Neutron\",\"FairCoin\",\"RubyCoin\",\"Kore\",\"Dnotes\",\"8BIT Coin\",\"Sativa Coin\",\"Ucoin\",\"Vtorrent\",\"IslaCoin\",\"Nexus\",\"Droidz\",\"Squall Coin\",\"Diggits\",\"Paycon\",\"Emercoin\",\"EverGreenCoin\",\"Decred\",\"EDRCoin\",\"Hitcoin\",\"DubaiCoin\",\"PWR Coin\",\"BillaryCoin\",\"GPU Coin\",\"EuropeCoin\",\"ZeitCoin\",\"SwingCoin\",\"SafeExchangeCoin\",\"Nebuchadnezzar\",\"Ratecoin\",\"Revenu\",\"Clockcoin\",\"VIP Tokens\",\"BitSend\",\"Let it Ride\",\"PutinCoin\",\"iBankCoin\",\"Frankywillcoin\",\"MudraCoin\",\"Lutetium Coin\",\"GoldBlocks\",\"CarterCoin\",\"BitTokens\",\"MustangCoin\",\"ZoneCoin\",\"RootCoin\",\"BitCurrency\",\"Swiscoin\",\"BuzzCoin\",\"Opair\",\"PesoBit\",\"Halloween Coin\",\"CoffeeCoin\",\"RoyalCoin\",\"GanjaCoin V2\",\"TeamUP\",\"LanaCoin\",\"ARK\",\"InsaneCoin\",\"EmberCoin\",\"XenixCoin\",\"FreeCoin\",\"PLNCoin\",\"AquariusCoin\",\"Creatio\",\"Eternity\",\"Eurocoin\",\"BitcoinFast\",\"Stakenet\",\"BitConnect Coin\",\"MoneyCoin\",\"Enigma\",\"Russiacoin\",\"PandaCoin\",\"GameUnits\",\"GAKHcoin\",\"Allsafe\",\"LiteCreed\",\"Klingon Empire Darsek\",\"Internet of People\",\"KushCoin\",\"Printerium\",\"Impeach\",\"Zilbercoin\",\"FirstCoin\",\"FindCoin\",\"OpenChat\",\"RenosCoin\",\"VirtacoinPlus\",\"TajCoin\",\"Impact\",\"Atmos\",\"HappyCoin\",\"MacronCoin\",\"Condensate\",\"Independent Money System\",\"ArgusCoin\",\"LomoCoin\",\"ProCurrency\",\"GoldReserve\",\"GrowthCoin\",\"Phreak\",\"Degas Coin\",\"HTML5 Coin\",\"Ultimate Secure Cash\",\"QTUM\",\"Espers\",\"Denarius\",\"Virta Unique Coin\",\"Bitcoin Planet\",\"BritCoin\",\"Linda\",\"DeepOnion\",\"Signatum\",\"Cream\",\"Monoeci\",\"Draftcoin\",\"Vechain\",\"Stakecoin\",\"CoinonatX\",\"Ethereum Dark\",\"Obsidian\",\"Cardano\",\"Regalcoin\",\"TrezarCoin\",\"TerraNovaCoin\",\"Rupee\",\"WomenCoin\",\"Theresa May Coin\",\"NamoCoin\",\"LUXCoin\",\"Xios\",\"Bitcloud 2.0\",\"KekCoin\",\"BlackholeCoin\",\"Infinity Economics\",\"Magnet\",\"Lamden Tau\",\"Electra\",\"Bitcoin Diamond\",\"Cash & Back Coin\",\"Bulwark\",\"Kalkulus\",\"GermanCoin\",\"LiteCoin Ultra\",\"PhantomX\",\"Digiwage\",\"Trollcoin\",\"Litecoin Plus\",\"Monkey Project\",\"TokenPay\",\"1717 Masonic Commemorative Token\",\"My Big Coin\",\"Unified Society USDEX\",\"Tokyo Coin\",\"Stipend\",\"Pushi\",\"Ellerium\",\"Velox\",\"Ontology\",\"Bitspace\",\"Briacoin\",\"Ignition\",\"MedicCoin\",\"Bitcoin Green\",\"Deviant Coin\",\"Abjcoin\",\"Semux\",\"Carebit\",\"Zealium\",\"Proton\",\"iDealCash\",\"Bitcoin Incognito\",\"HollyWoodCoin\",\"Swisscoin\",\"Xt3ch\",\"TheVig\",\"EmaratCoin\",\"Dekado\",\"Lynx\",\"Poseidon Quark\",\"BitcoinWSpectrum\",\"Muse\",\"Trivechain\",\"Dystem\",\"Giant\",\"Peony Coin\",\"Absolute Coin\",\"Vitae\",\"TPCash\",\"ARENON\",\"EUNO\",\"MMOCoin\",\"Ketan\",\"XDNA\",\"PAXEX\",\"ThunderStake\",\"Kcash\",\"Acute Angle Cloud\",\"Bettex coin\",\"BitMoney\",\"Junson Ming Chan Coin\",\"HerbCoin\",\"PirateCash\",\"Oduwa\",\"Galilel\",\"Crypto Sports\",\"Credit\",\"Dash Platinum\",\"Nasdacoin\",\"Beetle Coin\",\"Titan Coin\",\"Award\",\"Insane Coin\",\"ALAX\",\"LiteDoge\",\"TruckCoin\",\"OrangeCoin\",\"BitstarCoin\",\"NeosCoin\",\"HyperCoin\",\"PinkCoin\",\"AudioCoin\",\"IncaKoin\",\"Piggy Coin\",\"Genstake\",\"XiaoMiCoin\",\"CapriCoin\",\" ClubCoin\",\"Radium\",\"Creditbit \",\"OKCash\",\"Lisk\",\"HiCoin\",\"WhiteCoin\",\"FriendshipCoin\",\"Triangles Coin\",\"EOS\",\"Oxycoin\",\"TigerCash\",\"Particl\",\"Nxt\",\"ZEPHYR\",\"Gapcoin\",\"BitcoinPlus\"],\"TotalCoinSupply\":{\"__ndarray__\":\"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\",\"dtype\":\"float64\",\"order\":\"little\",\"shape\":[289]},\"TotalCoinsMined\":{\"__ndarray__\":\"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\",\"dtype\":\"float64\",\"order\":\"little\",\"shape\":[289]}},\"selected\":{\"id\":\"1197\"},\"selection_policy\":{\"id\":\"1211\"}},\"id\":\"1196\",\"type\":\"ColumnDataSource\"},{\"attributes\":{\"fill_alpha\":{\"value\":0.2},\"fill_color\":{\"value\":\"#ff7e0e\"},\"line_alpha\":{\"value\":0.2},\"line_color\":{\"value\":\"#ff7e0e\"},\"size\":{\"units\":\"screen\",\"value\":5.477225575051661},\"x\":{\"field\":\"TotalCoinsMined\"},\"y\":{\"field\":\"TotalCoinSupply\"}},\"id\":\"1219\",\"type\":\"Scatter\"},{\"attributes\":{\"source\":{\"id\":\"1254\"}},\"id\":\"1261\",\"type\":\"CDSView\"},{\"attributes\":{\"click_policy\":\"mute\",\"items\":[{\"id\":\"1213\"},{\"id\":\"1232\"},{\"id\":\"1253\"},{\"id\":\"1276\"}],\"location\":[0,0],\"title\":\"Class\"},\"id\":\"1212\",\"type\":\"Legend\"},{\"attributes\":{\"axis\":{\"id\":\"1175\"},\"dimension\":1,\"grid_line_color\":null,\"ticker\":null},\"id\":\"1178\",\"type\":\"Grid\"},{\"attributes\":{},\"id\":\"1197\",\"type\":\"Selection\"},{\"attributes\":{},\"id\":\"1215\",\"type\":\"Selection\"},{\"attributes\":{\"axis_label\":\"TotalCoinsMined\",\"bounds\":\"auto\",\"formatter\":{\"id\":\"1193\"},\"major_label_orientation\":\"horizontal\",\"ticker\":{\"id\":\"1172\"}},\"id\":\"1171\",\"type\":\"LinearAxis\"},{\"attributes\":{\"fill_alpha\":{\"value\":0.1},\"fill_color\":{\"value\":\"#2ba02b\"},\"line_alpha\":{\"value\":0.1},\"line_color\":{\"value\":\"#2ba02b\"},\"size\":{\"units\":\"screen\",\"value\":5.477225575051661},\"x\":{\"field\":\"TotalCoinsMined\"},\"y\":{\"field\":\"TotalCoinSupply\"}},\"id\":\"1237\",\"type\":\"Scatter\"},{\"attributes\":{\"fill_color\":{\"value\":\"#d62628\"},\"line_color\":{\"value\":\"#d62628\"},\"size\":{\"units\":\"screen\",\"value\":5.477225575051661},\"x\":{\"field\":\"TotalCoinsMined\"},\"y\":{\"field\":\"TotalCoinSupply\"}},\"id\":\"1257\",\"type\":\"Scatter\"},{\"attributes\":{\"label\":{\"value\":\"0\"},\"renderers\":[{\"id\":\"1202\"}]},\"id\":\"1213\",\"type\":\"LegendItem\"},{\"attributes\":{\"fill_alpha\":{\"value\":0.2},\"fill_color\":{\"value\":\"#d62628\"},\"line_alpha\":{\"value\":0.2},\"line_color\":{\"value\":\"#d62628\"},\"size\":{\"units\":\"screen\",\"value\":5.477225575051661},\"x\":{\"field\":\"TotalCoinsMined\"},\"y\":{\"field\":\"TotalCoinSupply\"}},\"id\":\"1259\",\"type\":\"Scatter\"}],\"root_ids\":[\"1154\"]},\"title\":\"Bokeh Application\",\"version\":\"2.1.1\"}};\n",
       "  var render_items = [{\"docid\":\"8afcf9e5-6eee-42e8-8357-c9287dd41e03\",\"root_ids\":[\"1154\"],\"roots\":{\"1154\":\"957b137a-5de5-4a19-9126-474fce87e793\"}}];\n",
       "  root.Bokeh.embed.embed_items_notebook(docs_json, render_items);\n",
       "  }\n",
       "if (root.Bokeh !== undefined) {\n",
       "    embed_document(root);\n",
       "  } else {\n",
       "    var attempts = 0;\n",
       "    var timer = setInterval(function(root) {\n",
       "      if (root.Bokeh !== undefined) {\n",
       "        clearInterval(timer);\n",
       "        embed_document(root);\n",
       "      } else if (document.readyState == \"complete\") {\n",
       "        attempts++;\n",
       "        if (attempts > 100) {\n",
       "          clearInterval(timer);\n",
       "          console.log(\"Bokeh: ERROR: Unable to run BokehJS code because BokehJS library is missing\");\n",
       "        }\n",
       "      }\n",
       "    }, 10, root)\n",
       "  }\n",
       "})(window);</script>"
      ],
      "text/plain": [
       ":NdOverlay   [Class]\n",
       "   :Scatter   [TotalCoinsMined]   (TotalCoinSupply,CoinName)"
      ]
     },
     "execution_count": 22,
     "metadata": {
      "application/vnd.holoviews_exec.v0+json": {
       "id": "1154"
      }
     },
     "output_type": "execute_result"
    }
   ],
   "source": [
    "# Create a hvplot.scatter plot using x=\"TotalCoinsMined\" and y=\"TotalCoinSupply\".\n",
    "# YOUR CODE HERE\n"
   ]
  },
  {
   "cell_type": "code",
   "execution_count": null,
   "metadata": {},
   "outputs": [],
   "source": []
  }
 ],
 "metadata": {
  "file_extension": ".py",
  "kernelspec": {
   "display_name": "PythonData",
   "language": "python",
   "name": "pythondata"
  },
  "language_info": {
   "codemirror_mode": {
    "name": "ipython",
    "version": 3
   },
   "file_extension": ".py",
   "mimetype": "text/x-python",
   "name": "python",
   "nbconvert_exporter": "python",
   "pygments_lexer": "ipython3",
   "version": "3.6.10"
  },
  "latex_envs": {
   "LaTeX_envs_menu_present": true,
   "autoclose": false,
   "autocomplete": true,
   "bibliofile": "biblio.bib",
   "cite_by": "apalike",
   "current_citInitial": 1,
   "eqLabelWithNumbers": true,
   "eqNumInitial": 1,
   "hotkeys": {
    "equation": "Ctrl-E",
    "itemize": "Ctrl-I"
   },
   "labels_anchors": false,
   "latex_user_defs": false,
   "report_style_numbering": false,
   "user_envs_cfg": false
  },
  "mimetype": "text/x-python",
  "name": "python",
  "npconvert_exporter": "python",
  "pygments_lexer": "ipython3",
  "version": 3
 },
 "nbformat": 4,
 "nbformat_minor": 2
}
